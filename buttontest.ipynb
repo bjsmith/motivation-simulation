{
 "cells": [
  {
   "cell_type": "markdown",
   "metadata": {},
   "source": [
    "## Button test file\n",
    "\n",
    "This is a button test file. we have a button and a textarea and the button does some stuff.\n"
   ]
  },
  {
   "cell_type": "code",
   "execution_count": 1,
   "metadata": {},
   "outputs": [
    {
     "data": {
      "text/plain": [
       "Text(value='')"
      ]
     },
     "metadata": {},
     "output_type": "display_data"
    },
    {
     "data": {
      "text/plain": [
       "Button(description='234', style=ButtonStyle())"
      ]
     },
     "metadata": {},
     "output_type": "display_data"
    }
   ],
   "source": [
    "from ipywidgets import widgets\n",
    "from IPython.display import display\n",
    "from IPython.display import Markdown\n",
    "\n",
    "txtArea = widgets.Text()\n",
    "display(txtArea)\n",
    "\n",
    "myb= widgets.Button(description=\"234\")\n",
    "def add_text(b):\n",
    "    print(\"hello\")\n",
    "    b.description=b.description+\"1\"\n",
    "    txtArea.value = txtArea.value + txtArea.value\n",
    "\n",
    "\n",
    "myb.on_click(add_text)\n",
    "\n",
    "display(myb)"
   ]
  }
 ],
 "metadata": {
  "kernelspec": {
   "display_name": "Python 3",
   "language": "python",
   "name": "python3"
  },
  "language_info": {
   "codemirror_mode": {
    "name": "ipython",
    "version": 3.0
   },
   "file_extension": ".py",
   "mimetype": "text/x-python",
   "name": "python",
   "nbconvert_exporter": "python",
   "pygments_lexer": "ipython3",
   "version": "3.6.6"
  },
  "widgets": {
   "application/vnd.jupyter.widget-state+json": {
    "state": {
     "05e47aca03934d94ac6e829ce9d05f4c": {
      "model_module": "@jupyter-widgets/controls",
      "model_module_version": "1.4.0",
      "model_name": "ButtonModel",
      "state": {
       "description": "2341111",
       "layout": "IPY_MODEL_6eb68622ecac49f8b6848038101991a0",
       "style": "IPY_MODEL_6b89ffe96b2f41eab42402e35cfb31ed"
      }
     },
     "0e480cac7ecd4feb932edb20828c8280": {
      "model_module": "@jupyter-widgets/controls",
      "model_module_version": "1.4.0",
      "model_name": "ButtonModel",
      "state": {
       "description": "234",
       "layout": "IPY_MODEL_29c5e2784e92400d9cab6dfcd337aabb",
       "style": "IPY_MODEL_74688e3bc33b43a89ad261f99371fa4f"
      }
     },
     "21a0d9b8e0e947cbb637c51fd5aa2257": {
      "model_module": "@jupyter-widgets/base",
      "model_module_version": "1.1.0",
      "model_name": "LayoutModel",
      "state": {}
     },
     "29c5e2784e92400d9cab6dfcd337aabb": {
      "model_module": "@jupyter-widgets/base",
      "model_module_version": "1.1.0",
      "model_name": "LayoutModel",
      "state": {}
     },
     "37ee65b5c3a94d15a0da6be229e06a89": {
      "model_module": "@jupyter-widgets/base",
      "model_module_version": "1.1.0",
      "model_name": "LayoutModel",
      "state": {}
     },
     "3b076147624a4b3bafd5634437081f5a": {
      "model_module": "@jupyter-widgets/controls",
      "model_module_version": "1.4.0",
      "model_name": "ButtonStyleModel",
      "state": {}
     },
     "3c5e539301e54cae84365483ba71c856": {
      "model_module": "@jupyter-widgets/controls",
      "model_module_version": "1.4.0",
      "model_name": "TextModel",
      "state": {
       "layout": "IPY_MODEL_7b07d0ed49b04ee494833a288d337f1a",
       "style": "IPY_MODEL_bc73fa35a4fa4c95bc398ae19dee1b39"
      }
     },
     "3fd0b975d19b49e0ab7f298e6769d7b7": {
      "model_module": "@jupyter-widgets/controls",
      "model_module_version": "1.4.0",
      "model_name": "ButtonStyleModel",
      "state": {}
     },
     "503d4ee1ef16413bbc0e5d1734ddac3c": {
      "model_module": "@jupyter-widgets/controls",
      "model_module_version": "1.4.0",
      "model_name": "ButtonStyleModel",
      "state": {}
     },
     "503f9ffd97824644b699c139d3ad1ffb": {
      "model_module": "@jupyter-widgets/base",
      "model_module_version": "1.1.0",
      "model_name": "LayoutModel",
      "state": {}
     },
     "523f853ff53e44b9aa6e45ef01bbd86f": {
      "model_module": "@jupyter-widgets/controls",
      "model_module_version": "1.4.0",
      "model_name": "TextModel",
      "state": {
       "layout": "IPY_MODEL_e1d4171742794a5cbaa745ebec64e383",
       "style": "IPY_MODEL_ec68560a3e4b45e0b8a1be052f42d3f7",
       "value": "asdfasdfasdfasdfasdfasdfasdfasdf"
      }
     },
     "52bdb563b5354e6192ace6769c1c596e": {
      "model_module": "@jupyter-widgets/controls",
      "model_module_version": "1.4.0",
      "model_name": "TextModel",
      "state": {
       "layout": "IPY_MODEL_8fcf24875bda4a7db9d6ead29fe0b319",
       "style": "IPY_MODEL_f66f952772d14c4a9975087438b500e7",
       "value": "asdfaasdfaasdfaasdfaasdfaasdfaasdfaasdfaasdfaasdfaasdfaasdfaasdfaasdfaasdfaasdfa"
      }
     },
     "5d21aa04b8d349feade47f0bd16bbc68": {
      "model_module": "@jupyter-widgets/controls",
      "model_module_version": "1.4.0",
      "model_name": "ButtonModel",
      "state": {
       "description": "234",
       "layout": "IPY_MODEL_21a0d9b8e0e947cbb637c51fd5aa2257",
       "style": "IPY_MODEL_8f519e7de106430698b56da3b9792ac3"
      }
     },
     "6b89ffe96b2f41eab42402e35cfb31ed": {
      "model_module": "@jupyter-widgets/controls",
      "model_module_version": "1.4.0",
      "model_name": "ButtonStyleModel",
      "state": {}
     },
     "6eb68622ecac49f8b6848038101991a0": {
      "model_module": "@jupyter-widgets/base",
      "model_module_version": "1.1.0",
      "model_name": "LayoutModel",
      "state": {}
     },
     "74688e3bc33b43a89ad261f99371fa4f": {
      "model_module": "@jupyter-widgets/controls",
      "model_module_version": "1.4.0",
      "model_name": "ButtonStyleModel",
      "state": {}
     },
     "7b07d0ed49b04ee494833a288d337f1a": {
      "model_module": "@jupyter-widgets/base",
      "model_module_version": "1.1.0",
      "model_name": "LayoutModel",
      "state": {}
     },
     "7fde814b072649e59f61f3a1b5dab65c": {
      "model_module": "@jupyter-widgets/controls",
      "model_module_version": "1.4.0",
      "model_name": "DescriptionStyleModel",
      "state": {
       "description_width": ""
      }
     },
     "8f519e7de106430698b56da3b9792ac3": {
      "model_module": "@jupyter-widgets/controls",
      "model_module_version": "1.4.0",
      "model_name": "ButtonStyleModel",
      "state": {}
     },
     "8fcf24875bda4a7db9d6ead29fe0b319": {
      "model_module": "@jupyter-widgets/base",
      "model_module_version": "1.1.0",
      "model_name": "LayoutModel",
      "state": {}
     },
     "98cb732ccd01441ebf2486a02c144d5a": {
      "model_module": "@jupyter-widgets/controls",
      "model_module_version": "1.4.0",
      "model_name": "ButtonModel",
      "state": {
       "description": "234",
       "layout": "IPY_MODEL_ae97f27ebb6a44f98c2f9b33d44c5487",
       "style": "IPY_MODEL_3b076147624a4b3bafd5634437081f5a"
      }
     },
     "9d10eb8020324730a8faef4fa0c86294": {
      "model_module": "@jupyter-widgets/controls",
      "model_module_version": "1.4.0",
      "model_name": "DescriptionStyleModel",
      "state": {
       "description_width": ""
      }
     },
     "9fd879186bff42da9b0f18b2c0c33916": {
      "model_module": "@jupyter-widgets/controls",
      "model_module_version": "1.4.0",
      "model_name": "ButtonModel",
      "state": {
       "description": "234",
       "layout": "IPY_MODEL_b21446ddd14243218b7177e7248ba384",
       "style": "IPY_MODEL_3fd0b975d19b49e0ab7f298e6769d7b7"
      }
     },
     "a1cf44885976421a8a7fb0864cfa9db7": {
      "model_module": "@jupyter-widgets/controls",
      "model_module_version": "1.4.0",
      "model_name": "TextModel",
      "state": {
       "layout": "IPY_MODEL_37ee65b5c3a94d15a0da6be229e06a89",
       "style": "IPY_MODEL_7fde814b072649e59f61f3a1b5dab65c",
       "value": "hjkbhjkb"
      }
     },
     "a425383f10874954a1e839ab4266a813": {
      "model_module": "@jupyter-widgets/controls",
      "model_module_version": "1.4.0",
      "model_name": "TextModel",
      "state": {
       "layout": "IPY_MODEL_fe24b4d5ea3e489fabbdc923dd649eaa",
       "style": "IPY_MODEL_9d10eb8020324730a8faef4fa0c86294",
       "value": "kkkkkkkk"
      }
     },
     "a8f6d01264b945aeaf5603015caf2d86": {
      "model_module": "@jupyter-widgets/controls",
      "model_module_version": "1.4.0",
      "model_name": "TextModel",
      "state": {
       "layout": "IPY_MODEL_c2fcc38084234ac99def35b8b0f7d403",
       "style": "IPY_MODEL_d4503a5470414c80af40f4eedd98b58c"
      }
     },
     "ae97f27ebb6a44f98c2f9b33d44c5487": {
      "model_module": "@jupyter-widgets/base",
      "model_module_version": "1.1.0",
      "model_name": "LayoutModel",
      "state": {}
     },
     "b21446ddd14243218b7177e7248ba384": {
      "model_module": "@jupyter-widgets/base",
      "model_module_version": "1.1.0",
      "model_name": "LayoutModel",
      "state": {}
     },
     "bc73fa35a4fa4c95bc398ae19dee1b39": {
      "model_module": "@jupyter-widgets/controls",
      "model_module_version": "1.4.0",
      "model_name": "DescriptionStyleModel",
      "state": {
       "description_width": ""
      }
     },
     "c2fcc38084234ac99def35b8b0f7d403": {
      "model_module": "@jupyter-widgets/base",
      "model_module_version": "1.1.0",
      "model_name": "LayoutModel",
      "state": {}
     },
     "d0d6dbc678554a7f84567c3ddb6ae798": {
      "model_module": "@jupyter-widgets/controls",
      "model_module_version": "1.4.0",
      "model_name": "ButtonModel",
      "state": {
       "description": "2341111",
       "layout": "IPY_MODEL_503f9ffd97824644b699c139d3ad1ffb",
       "style": "IPY_MODEL_503d4ee1ef16413bbc0e5d1734ddac3c"
      }
     },
     "d4503a5470414c80af40f4eedd98b58c": {
      "model_module": "@jupyter-widgets/controls",
      "model_module_version": "1.4.0",
      "model_name": "DescriptionStyleModel",
      "state": {
       "description_width": ""
      }
     },
     "e1d4171742794a5cbaa745ebec64e383": {
      "model_module": "@jupyter-widgets/base",
      "model_module_version": "1.1.0",
      "model_name": "LayoutModel",
      "state": {}
     },
     "ec68560a3e4b45e0b8a1be052f42d3f7": {
      "model_module": "@jupyter-widgets/controls",
      "model_module_version": "1.4.0",
      "model_name": "DescriptionStyleModel",
      "state": {
       "description_width": ""
      }
     },
     "f66f952772d14c4a9975087438b500e7": {
      "model_module": "@jupyter-widgets/controls",
      "model_module_version": "1.4.0",
      "model_name": "DescriptionStyleModel",
      "state": {
       "description_width": ""
      }
     },
     "fe24b4d5ea3e489fabbdc923dd649eaa": {
      "model_module": "@jupyter-widgets/base",
      "model_module_version": "1.1.0",
      "model_name": "LayoutModel",
      "state": {}
     }
    },
    "version_major": 2.0,
    "version_minor": 0.0
   }
  }
 },
 "nbformat": 4,
 "nbformat_minor": 0
}