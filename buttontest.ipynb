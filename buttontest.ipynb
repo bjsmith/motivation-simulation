{
 "cells": [
  {
   "cell_type": "markdown",
   "metadata": {},
   "source": [
    "## Button test file\n",
    "\n",
    "This is a button test file. we have a button and a textarea and the button does some stuff.\n"
   ]
  },
  {
   "cell_type": "code",
   "execution_count": 1,
   "metadata": {},
   "outputs": [
    {
     "data": {
      "application/vnd.jupyter.widget-view+json": {
       "model_id": "a1cf44885976421a8a7fb0864cfa9db7",
       "version_major": 2,
       "version_minor": 0
      },
      "text/plain": [
       "Text(value='')"
      ]
     },
     "metadata": {},
     "output_type": "display_data"
    },
    {
     "data": {
      "application/vnd.jupyter.widget-view+json": {
       "model_id": "0e480cac7ecd4feb932edb20828c8280",
       "version_major": 2,
       "version_minor": 0
      },
      "text/plain": [
       "Button(description='234', style=ButtonStyle())"
      ]
     },
     "metadata": {},
     "output_type": "display_data"
    }
   ],
   "source": [
    "from ipywidgets import widgets\n",
    "from IPython.display import display\n",
    "from IPython.display import Markdown\n",
    "\n",
    "txtArea = widgets.Text()\n",
    "display(txtArea)\n",
    "\n",
    "myb= widgets.Button(description=\"234\")\n",
    "def add_text(b):\n",
    "    txtArea.value = txtArea.value + txtArea.value\n",
    "\n",
    "\n",
    "myb.on_click(add_text)\n",
    "\n",
    "display(myb)"
   ]
  }
 ],
 "metadata": {
  "kernelspec": {
   "display_name": "Python 3",
   "language": "python",
   "name": "python3"
  },
  "language_info": {
   "codemirror_mode": {
    "name": "ipython",
    "version": 3
   },
   "file_extension": ".py",
   "mimetype": "text/x-python",
   "name": "python",
   "nbconvert_exporter": "python",
   "pygments_lexer": "ipython3",
   "version": "3.6.6"
  },
  "widgets": {
   "application/vnd.jupyter.widget-state+json": {
    "state": {
     "0e480cac7ecd4feb932edb20828c8280": {
      "model_module": "@jupyter-widgets/controls",
      "model_module_version": "1.4.0",
      "model_name": "ButtonModel",
      "state": {
       "description": "234",
       "layout": "IPY_MODEL_29c5e2784e92400d9cab6dfcd337aabb",
       "style": "IPY_MODEL_74688e3bc33b43a89ad261f99371fa4f"
      }
     },
     "21a0d9b8e0e947cbb637c51fd5aa2257": {
      "model_module": "@jupyter-widgets/base",
      "model_module_version": "1.1.0",
      "model_name": "LayoutModel",
      "state": {}
     },
     "29c5e2784e92400d9cab6dfcd337aabb": {
      "model_module": "@jupyter-widgets/base",
      "model_module_version": "1.1.0",
      "model_name": "LayoutModel",
      "state": {}
     },
     "37ee65b5c3a94d15a0da6be229e06a89": {
      "model_module": "@jupyter-widgets/base",
      "model_module_version": "1.1.0",
      "model_name": "LayoutModel",
      "state": {}
     },
     "3c5e539301e54cae84365483ba71c856": {
      "model_module": "@jupyter-widgets/controls",
      "model_module_version": "1.4.0",
      "model_name": "TextModel",
      "state": {
       "layout": "IPY_MODEL_7b07d0ed49b04ee494833a288d337f1a",
       "style": "IPY_MODEL_bc73fa35a4fa4c95bc398ae19dee1b39"
      }
     },
     "3fd0b975d19b49e0ab7f298e6769d7b7": {
      "model_module": "@jupyter-widgets/controls",
      "model_module_version": "1.4.0",
      "model_name": "ButtonStyleModel",
      "state": {}
     },
     "52bdb563b5354e6192ace6769c1c596e": {
      "model_module": "@jupyter-widgets/controls",
      "model_module_version": "1.4.0",
      "model_name": "TextModel",
      "state": {
       "layout": "IPY_MODEL_8fcf24875bda4a7db9d6ead29fe0b319",
       "style": "IPY_MODEL_f66f952772d14c4a9975087438b500e7",
       "value": "asdfaasdfaasdfaasdfaasdfaasdfaasdfaasdfaasdfaasdfaasdfaasdfaasdfaasdfaasdfaasdfa"
      }
     },
     "5d21aa04b8d349feade47f0bd16bbc68": {
      "model_module": "@jupyter-widgets/controls",
      "model_module_version": "1.4.0",
      "model_name": "ButtonModel",
      "state": {
       "description": "234",
       "layout": "IPY_MODEL_21a0d9b8e0e947cbb637c51fd5aa2257",
       "style": "IPY_MODEL_8f519e7de106430698b56da3b9792ac3"
      }
     },
     "74688e3bc33b43a89ad261f99371fa4f": {
      "model_module": "@jupyter-widgets/controls",
      "model_module_version": "1.4.0",
      "model_name": "ButtonStyleModel",
      "state": {}
     },
     "7b07d0ed49b04ee494833a288d337f1a": {
      "model_module": "@jupyter-widgets/base",
      "model_module_version": "1.1.0",
      "model_name": "LayoutModel",
      "state": {}
     },
     "7fde814b072649e59f61f3a1b5dab65c": {
      "model_module": "@jupyter-widgets/controls",
      "model_module_version": "1.4.0",
      "model_name": "DescriptionStyleModel",
      "state": {
       "description_width": ""
      }
     },
     "8f519e7de106430698b56da3b9792ac3": {
      "model_module": "@jupyter-widgets/controls",
      "model_module_version": "1.4.0",
      "model_name": "ButtonStyleModel",
      "state": {}
     },
     "8fcf24875bda4a7db9d6ead29fe0b319": {
      "model_module": "@jupyter-widgets/base",
      "model_module_version": "1.1.0",
      "model_name": "LayoutModel",
      "state": {}
     },
     "9fd879186bff42da9b0f18b2c0c33916": {
      "model_module": "@jupyter-widgets/controls",
      "model_module_version": "1.4.0",
      "model_name": "ButtonModel",
      "state": {
       "description": "234",
       "layout": "IPY_MODEL_b21446ddd14243218b7177e7248ba384",
       "style": "IPY_MODEL_3fd0b975d19b49e0ab7f298e6769d7b7"
      }
     },
     "a1cf44885976421a8a7fb0864cfa9db7": {
      "model_module": "@jupyter-widgets/controls",
      "model_module_version": "1.4.0",
      "model_name": "TextModel",
      "state": {
       "layout": "IPY_MODEL_37ee65b5c3a94d15a0da6be229e06a89",
       "style": "IPY_MODEL_7fde814b072649e59f61f3a1b5dab65c"
      }
     },
     "b21446ddd14243218b7177e7248ba384": {
      "model_module": "@jupyter-widgets/base",
      "model_module_version": "1.1.0",
      "model_name": "LayoutModel",
      "state": {}
     },
     "bc73fa35a4fa4c95bc398ae19dee1b39": {
      "model_module": "@jupyter-widgets/controls",
      "model_module_version": "1.4.0",
      "model_name": "DescriptionStyleModel",
      "state": {
       "description_width": ""
      }
     },
     "f66f952772d14c4a9975087438b500e7": {
      "model_module": "@jupyter-widgets/controls",
      "model_module_version": "1.4.0",
      "model_name": "DescriptionStyleModel",
      "state": {
       "description_width": ""
      }
     }
    },
    "version_major": 2,
    "version_minor": 0
   }
  }
 },
 "nbformat": 4,
 "nbformat_minor": 2
}
