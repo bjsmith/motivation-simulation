{
 "cells": [
  {
   "cell_type": "code",
   "execution_count": 1,
   "metadata": {},
   "outputs": [],
   "source": [
    "%matplotlib inline\n",
    "from pylab import *\n",
    "from pylab import *"
   ]
  },
  {
   "cell_type": "code",
   "execution_count": 2,
   "metadata": {},
   "outputs": [],
   "source": [
    "#importing widgets\n",
    "from ipywidgets import widgets\n",
    "from IPython.display import display"
   ]
  },
  {
   "cell_type": "markdown",
   "metadata": {},
   "source": [
    "## Basic plot example"
   ]
  },
  {
   "cell_type": "code",
   "execution_count": 3,
   "metadata": {},
   "outputs": [],
   "source": [
    "from matplotlib.pyplot import figure, plot, xlabel, ylabel, title, show"
   ]
  },
  {
   "cell_type": "code",
   "execution_count": 4,
   "metadata": {},
   "outputs": [],
   "source": [
    "x=linspace(0,5,10)\n",
    "y=x**2"
   ]
  },
  {
   "cell_type": "code",
   "execution_count": 5,
   "metadata": {},
   "outputs": [
    {
     "data": {
      "image/png": "[encoded data removed]",
      "text/plain": [
       "<Figure size 432x288 with 1 Axes>"
      ]
     },
     "metadata": {
      "needs_background": "light"
     },
     "output_type": "display_data"
    }
   ],
   "source": [
    "figure()\n",
    "plot(x,y,'r')\n",
    "xlabel('x')\n",
    "ylabel('y')\n",
    "title('title')\n",
    "show()"
   ]
  },
  {
   "cell_type": "markdown",
   "metadata": {},
   "source": [
    "$$c = \\sqrt{a^2 + b^2}$$"
   ]
  },
  {
   "cell_type": "markdown",
   "metadata": {},
   "source": [
    "$$\n",
    "\\begin{align}\n",
    "c =& \\sqrt{a^2 + b^2} \\\\\n",
    "=&\\sqrt{4+16} \\\\\n",
    "\\end{align}\n",
    "$$"
   ]
  },
  {
   "cell_type": "markdown",
   "metadata": {},
   "source": [
    "$$\n",
    "\\begin{align}\n",
    "f(x)= & x^2 \\\\\n",
    " = & {{x[1]}}\n",
    "\\end{align}\n",
    "$$\n",
    "\n",
    "This text contains a value like $x[1]$ is {{x[1]}}"
   ]
  },
  {
   "cell_type": "markdown",
   "metadata": {},
   "source": [
    "# Widget example"
   ]
  },
  {
   "cell_type": "code",
   "execution_count": 6,
   "metadata": {},
   "outputs": [],
   "source": [
    "from IPython.display import display\n",
    "text = widgets.FloatText()\n",
    "\n",
    "floatText = widgets.FloatText(description='MyField',min=-5,max=5)\n",
    "floatSlider = widgets.FloatSlider(description='MyField',min=-5,max=5)\n",
    "\n",
    "\n",
    "#https://ipywidgets.readthedocs.io/en/stable/examples/Widget%20Basics.html\n",
    "float_link = widgets.jslink((floatText, 'value'), (floatSlider, 'value'))"
   ]
  },
  {
   "cell_type": "markdown",
   "metadata": {
    "collapsed": true
   },
   "source": [
    "Here we will set the fields to one of several values so that we can see pre-configured examples."
   ]
  },
  {
   "cell_type": "code",
   "execution_count": 7,
   "metadata": {},
   "outputs": [],
   "source": [
    "floatSlider.value=1\n"
   ]
  },
  {
   "cell_type": "code",
   "execution_count": 136,
   "metadata": {},
   "outputs": [],
   "source": [
    "bSatiationPreset=widgets.Button(\n",
    "    description='Salt Satiation',\n",
    "    button_style='', # 'success', 'info', 'warning', 'danger' or ''\n",
    "    tooltip='Click me'\n",
    ")\n",
    "\n",
    "bDeprivationPreset=widgets.Button(\n",
    "    description='Salt Deprivation2',\n",
    "    button_style='', # 'success', 'info', 'warning', 'danger' or ''\n",
    "    tooltip='Click me'\n",
    ")\n",
    "\n",
    "def bDeprivationPreset_on_click(b):\n",
    "    floatSlider.value=0.5\n",
    "    \n",
    "    \n",
    "def bSatiationPreset_on_click(b):\n",
    "    floatSlider.value=0.71717\n",
    "\n",
    "    \n",
    "bDeprivationPreset.on_click(bDeprivationPreset_on_click)\n",
    "bSatiationPreset.on_click(bSatiationPreset_on_click)\n",
    "\n",
    "#floatSlider.observe(bDeprivationPreset_on_click,names='value')\n",
    "\n",
    "\n",
    "myw=widgets.HTMLMath('$a+b=$'+str(floatSlider.value))"
   ]
  },
  {
   "cell_type": "code",
   "execution_count": 137,
   "metadata": {},
   "outputs": [
    {
     "data": {
      "application/vnd.jupyter.widget-view+json": {
       "model_id": "1612715ae78c4857a09ecb6ddcfdcaa7",
       "version_major": 2,
       "version_minor": 0
      },
      "text/plain": [
       "FloatText(value=0.5, description='MyField')"
      ]
     },
     "metadata": {},
     "output_type": "display_data"
    },
    {
     "data": {
      "application/vnd.jupyter.widget-view+json": {
       "model_id": "e4afe0b2ec884c98a30f2113a6f5c467",
       "version_major": 2,
       "version_minor": 0
      },
      "text/plain": [
       "FloatSlider(value=0.5, description='MyField', max=5.0, min=-5.0)"
      ]
     },
     "metadata": {},
     "output_type": "display_data"
    },
    {
     "data": {
      "application/vnd.jupyter.widget-view+json": {
       "model_id": "504bf8ad705d4afda1db07d8f543bf13",
       "version_major": 2,
       "version_minor": 0
      },
      "text/plain": [
       "Button(description='Salt Satiation', style=ButtonStyle(), tooltip='Click me')"
      ]
     },
     "metadata": {},
     "output_type": "display_data"
    },
    {
     "data": {
      "application/vnd.jupyter.widget-view+json": {
       "model_id": "b5a2f78347b6415cabab098c42e0c298",
       "version_major": 2,
       "version_minor": 0
      },
      "text/plain": [
       "Button(description='Salt Deprivation2', style=ButtonStyle(), tooltip='Click me')"
      ]
     },
     "metadata": {},
     "output_type": "display_data"
    },
    {
     "data": {
      "application/vnd.jupyter.widget-view+json": {
       "model_id": "db57b0e628dd45789fc12962abb46eed",
       "version_major": 2,
       "version_minor": 0
      },
      "text/plain": [
       "HTMLMath(value='$a+b=$0.5')"
      ]
     },
     "metadata": {},
     "output_type": "display_data"
    }
   ],
   "source": [
    "display(floatText,floatSlider)\n",
    "display(bSatiationPreset)\n",
    "display(bDeprivationPreset)\n",
    "display(myw)\n",
    "\n"
   ]
  },
  {
   "cell_type": "code",
   "execution_count": 10,
   "metadata": {},
   "outputs": [
    {
     "data": {
      "application/vnd.jupyter.widget-view+json": {
       "model_id": "da7fb7a882b4403eba3ccc4f54c12eff",
       "version_major": 2,
       "version_minor": 0
      },
      "text/plain": [
       "Text(value='')"
      ]
     },
     "metadata": {},
     "output_type": "display_data"
    },
    {
     "data": {
      "application/vnd.jupyter.widget-view+json": {
       "model_id": "e7e443df5f79468ca3e3199105fa6576",
       "version_major": 2,
       "version_minor": 0
      },
      "text/plain": [
       "Button(description='234', style=ButtonStyle())"
      ]
     },
     "metadata": {},
     "output_type": "display_data"
    }
   ],
   "source": [
    "txtArea = widgets.Text()\n",
    "display(txtArea)\n",
    "\n",
    "myb= widgets.Button(description=\"234\")\n",
    "def add_text(b):\n",
    "    txtArea.value = txtArea.value + txtArea.value\n",
    "\n",
    "\n",
    "myb.on_click(add_text)\n",
    "\n",
    "display(myb)"
   ]
  },
  {
   "cell_type": "code",
   "execution_count": 13,
   "metadata": {},
   "outputs": [
    {
     "data": {
      "text/latex": [
       "\\phi=1.0"
      ],
      "text/plain": [
       "<IPython.core.display.Latex object>"
      ]
     },
     "metadata": {},
     "output_type": "display_data"
    },
    {
     "data": {
      "text/latex": [
       "$\begin{align}\\phi=&1.0 \\ =& \u0007lpha\\end{align}$"
      ],
      "text/plain": [
       "<IPython.core.display.Latex object>"
      ]
     },
     "metadata": {},
     "output_type": "display_data"
    },
    {
     "data": {
      "text/markdown": [
       "$$"
      ],
      "text/plain": [
       "<IPython.core.display.Markdown object>"
      ]
     },
     "metadata": {},
     "output_type": "display_data"
    },
    {
     "data": {
      "text/markdown": [
       "\\begin{align}"
      ],
      "text/plain": [
       "<IPython.core.display.Markdown object>"
      ]
     },
     "metadata": {},
     "output_type": "display_data"
    },
    {
     "data": {
      "text/plain": [
       "'\\\\phi=1.0'"
      ]
     },
     "metadata": {},
     "output_type": "display_data"
    },
    {
     "data": {
      "text/markdown": [
       "\\end{align}"
      ],
      "text/plain": [
       "<IPython.core.display.Markdown object>"
      ]
     },
     "metadata": {},
     "output_type": "display_data"
    },
    {
     "data": {
      "text/markdown": [
       "$$"
      ],
      "text/plain": [
       "<IPython.core.display.Markdown object>"
      ]
     },
     "metadata": {},
     "output_type": "display_data"
    }
   ],
   "source": [
    "from IPython.display import display, Markdown, Latex\n",
    "\n",
    "#display(Markdown('*some markdown* $\\phi$'))\n",
    "# If you particularly want to display maths, this is more direct:\n",
    "display(Latex('\\phi=' + str(round(floatText.value,2))))\n",
    "display(Latex('$\\begin{align}\\phi=&' + str(round(floatText.value,2)) + \" \\\\ =& \\alpha\\end{align}$\"))\n",
    "display(Markdown('$$'))\n",
    "display(Markdown('\\\\begin{align}'))\n",
    "display(        '\\phi=' + str(round(floatText.value,2)))\n",
    "display(Markdown('\\\\end{align}'))\n",
    "display(Markdown('$$'))\n"
   ]
  },
  {
   "cell_type": "code",
   "execution_count": 36,
   "metadata": {},
   "outputs": [
    {
     "data": {
      "text/markdown": [
       "\n",
       "# Math\n",
       "## Addition\n",
       "Here is a simple addition example: $1 + 2^2 = 5$\n",
       "\n",
       "Here is a multi-line equation\n",
       "\n",
       "$$\n",
       "\\begin{align}\n",
       "c = & a + b \\\\\n",
       " = & 1 + 2^2 \\\\\n",
       " = & 5\n",
       "\\end{align}\n",
       "$$\n"
      ],
      "text/plain": [
       "<IPython.core.display.Markdown object>"
      ]
     },
     "execution_count": 36,
     "metadata": {},
     "output_type": "execute_result"
    }
   ],
   "source": [
    "from IPython.display import Markdown\n",
    "\n",
    "one = 1\n",
    "two = 2\n",
    "myanswer = one + two**2\n",
    "\n",
    "Markdown(\"# Title\")\n",
    "Markdown(\"\"\"\n",
    "# Math\n",
    "## Addition\n",
    "Here is a simple addition example: ${one} + {two}^2 = {myanswer}$\n",
    "\n",
    "Here is a multi-line equation\n",
    "\n",
    "$$\n",
    "\\\\begin{{align}}\n",
    "\\\\begin{{split}}\n",
    "c = & a + b \\\\\\\\\n",
    " = & {one} + {two}^2 \\\\\\\\\n",
    " = & {myanswer}\n",
    " \\end{{split}}\n",
    "\\end{{align}}\n",
    "$$\n",
    "\"\"\".format(one=one, two=two, myanswer=myanswer))"
   ]
  },
  {
   "cell_type": "code",
   "execution_count": null,
   "metadata": {},
   "outputs": [],
   "source": []
  },
  {
   "cell_type": "code",
   "execution_count": 131,
   "metadata": {},
   "outputs": [
    {
     "data": {
      "application/vnd.jupyter.widget-view+json": {
       "model_id": "9e8455d2e8064000afa6887a13f78487",
       "version_major": 2,
       "version_minor": 0
      },
      "text/plain": [
       "HBox(children=(VBox(children=(IntSlider(value=0, description='a'), IntSlider(value=0, description='b'), IntSli…"
      ]
     },
     "metadata": {},
     "output_type": "display_data"
    }
   ],
   "source": [
    "a = widgets.IntSlider(description='a')\n",
    "b = widgets.IntSlider(description='b')\n",
    "c = widgets.IntSlider(description='c')\n",
    "\n",
    "def g(a, b, c):\n",
    "    print('${}*{}*{}={}$'.format(a, b, c, a*b*c))\n",
    "\n",
    "def h(a, b, c):\n",
    "    print(Markdown('${}\\\\times{}\\\\times{}={}$'.format(a, b, c, a*b*c)))\n",
    "    \n",
    "def f(a, b, c):\n",
    "    print('{}*{}*{}={}'.format(a, b, c, a*b*c))\n",
    "\n",
    "def f2(a, b, c):\n",
    "    widgets.HTMLMath(value=Markdown('${}\\\\times{}\\\\times{}={}$'.format(a, b, c, a*b*c))._repr_markdown_())\n",
    "\n",
    "def f3(a, b, c):\n",
    "    print(Markdown('${}\\\\times{}\\\\times{}={}$'.format(a, b, c, a*b*c))._repr_markdown_())\n",
    "\n",
    "def f4(a, b, c):\n",
    "    return Markdown('${}\\\\times{}\\\\times{}={}$'.format(a, b, c, a*b*c))._repr_markdown_()\n",
    "\n",
    "def f5(a, b, c):\n",
    "    print('${}\\\\times{}\\\\times{}={}$'.format(a, b, c, a*b*c))\n",
    "\n",
    "def f6(a, b, c):\n",
    "    display(widgets.HTMLMath(value='${}\\\\times{}\\\\times{}={}$'.format(a, b, c, a*b*c)))\n",
    "    \n",
    "def f7(a, b, c):\n",
    "    display(Markdown('${}\\\\times{}\\\\times{}={}$'.format(a, b, c, a*b*c)))\n",
    "\n",
    "out = widgets.interactive_output(f7, {'a': a, 'b': b, 'c': c})\n",
    "\n",
    "\n",
    "widgets.HBox([widgets.VBox([a, b, c]), out])\n",
    "#widgets.HBox([widgets.VBox([a, b, c]), widgets.HTMLMath('$x=y+z$')])"
   ]
  },
  {
   "cell_type": "code",
   "execution_count": 106,
   "metadata": {},
   "outputs": [
    {
     "data": {
      "text/markdown": [
       "$$0\\times0\\times0=0$$"
      ],
      "text/plain": [
       "<IPython.core.display.Markdown object>"
      ]
     },
     "execution_count": 106,
     "metadata": {},
     "output_type": "execute_result"
    }
   ],
   "source": [
    "Markdown('$${}\\\\times{}\\\\times{}={}$$'.format(a.value, b.value, c.value, a.value*b.value*c.value))"
   ]
  },
  {
   "cell_type": "code",
   "execution_count": 60,
   "metadata": {},
   "outputs": [
    {
     "data": {
      "text/markdown": [
       "$$3\\times4\\times4=48$$"
      ],
      "text/plain": [
       "<IPython.core.display.Markdown object>"
      ]
     },
     "execution_count": 60,
     "metadata": {},
     "output_type": "execute_result"
    }
   ],
   "source": [
    "myMarkDown"
   ]
  },
  {
   "cell_type": "code",
   "execution_count": 67,
   "metadata": {},
   "outputs": [
    {
     "data": {
      "application/vnd.jupyter.widget-view+json": {
       "model_id": "6d036e1ba41a4891a483f24faba47b91",
       "version_major": 2,
       "version_minor": 0
      },
      "text/plain": [
       "interactive(children=(FloatSlider(value=0.0, description='m', max=2.0, min=-2.0), FloatSlider(value=0.0, descr…"
      ]
     },
     "metadata": {},
     "output_type": "display_data"
    }
   ],
   "source": [
    "\n",
    "%matplotlib inline\n",
    "from ipywidgets import interactive\n",
    "import matplotlib.pyplot as plt\n",
    "import numpy as np\n",
    "\n",
    "def f(m, b):\n",
    "    plt.figure(2)\n",
    "    x = np.linspace(-10, 10, num=1000)\n",
    "    plt.plot(x, m * x + b)\n",
    "    plt.ylim(-5, 5)\n",
    "    plt.show()\n",
    "\n",
    "interactive_plot = interactive(f, m=(-2.0, 2.0), b=(-3, 3, 0.5))\n",
    "output = interactive_plot.children[-1]\n",
    "output.layout.height = '350px'\n",
    "interactive_plot"
   ]
  },
  {
   "cell_type": "code",
   "execution_count": 83,
   "metadata": {},
   "outputs": [],
   "source": [
    "def g(x,y):\n",
    "    return Markdown(\"\"\"\n",
    "$$\n",
    "{x}\\\\times {y}={z}\n",
    "$$\n",
    "\"\"\".format(x=3,y=4,z=4*5))"
   ]
  },
  {
   "cell_type": "code",
   "execution_count": 79,
   "metadata": {},
   "outputs": [
    {
     "data": {
      "text/markdown": [
       "\n",
       "$$\n",
       "3\\times 4=20\n",
       "$$\n"
      ],
      "text/plain": [
       "<IPython.core.display.Markdown object>"
      ]
     },
     "execution_count": 79,
     "metadata": {},
     "output_type": "execute_result"
    }
   ],
   "source": []
  },
  {
   "cell_type": "code",
   "execution_count": 84,
   "metadata": {},
   "outputs": [
    {
     "name": "stdout",
     "output_type": "stream",
     "text": [
      "<IPython.core.display.Markdown object>\n"
     ]
    }
   ],
   "source": [
    "print(g(6,7))"
   ]
  },
  {
   "cell_type": "code",
   "execution_count": 89,
   "metadata": {},
   "outputs": [
    {
     "data": {
      "text/markdown": [
       "\n",
       "$$\n",
       "\\begin{align}\n",
       "\\begin{split}\n",
       "z & =x \\times y \\\\\n",
       " & = 3 \\times 4 \\\\\n",
       " & = 12\n",
       "\\end{split}\n",
       "\\end{align}\n",
       "$$\n"
      ],
      "text/plain": [
       "<IPython.core.display.Markdown object>"
      ]
     },
     "execution_count": 89,
     "metadata": {},
     "output_type": "execute_result"
    }
   ],
   "source": [
    "x=3\n",
    "y=4\n",
    "Markdown(\"\"\"\n",
    "$$\n",
    "\\\\begin{{align}}\n",
    "\\\\begin{{split}}\n",
    "z & =x \\\\times y \\\\\\\\\n",
    " & = {x} \\\\times {y} \\\\\\\\\n",
    " & = {z}\n",
    "\\end{{split}}\n",
    "\\end{{align}}\n",
    "$$\n",
    "\"\"\".format(x=x,y=y,z=x*y))\n",
    "\n"
   ]
  },
  {
   "cell_type": "code",
   "execution_count": 90,
   "metadata": {},
   "outputs": [
    {
     "data": {
      "text/latex": [
       "\n",
       "$$\n",
       "\\begin{align}\n",
       "\\begin{split}\n",
       "z & =x \\times y \\\\\n",
       " & = 3 \\times 4 \\\\\n",
       " & = 12\n",
       "\\end{split}\n",
       "\\end{align}\n",
       "$$\n"
      ],
      "text/plain": [
       "<IPython.core.display.Latex object>"
      ]
     },
     "execution_count": 90,
     "metadata": {},
     "output_type": "execute_result"
    }
   ],
   "source": [
    "Latex(\"\"\"\n",
    "$$\n",
    "\\\\begin{{align}}\n",
    "\\\\begin{{split}}\n",
    "z & =x \\\\times y \\\\\\\\\n",
    " & = {x} \\\\times {y} \\\\\\\\\n",
    " & = {z}\n",
    "\\end{{split}}\n",
    "\\end{{align}}\n",
    "$$\n",
    "\"\"\".format(x=x,y=y,z=x*y))"
   ]
  },
  {
   "cell_type": "code",
   "execution_count": null,
   "metadata": {},
   "outputs": [],
   "source": []
  }
 ],
 "metadata": {
  "kernelspec": {
   "display_name": "Python 3",
   "language": "python",
   "name": "python3"
  },
  "language_info": {
   "codemirror_mode": {
    "name": "ipython",
    "version": 3
   },
   "file_extension": ".py",
   "mimetype": "text/x-python",
   "name": "python",
   "nbconvert_exporter": "python",
   "pygments_lexer": "ipython3",
   "version": "3.6.6"
  },
  "widgets": {
   "application/vnd.jupyter.widget-state+json": {
    "state": {
     "0034dd5268944a3dac207a83d1e8e4d4": {
      "model_module": "@jupyter-widgets/controls",
      "model_module_version": "1.4.0",
      "model_name": "ButtonModel",
      "state": {
       "description": "Salt Deprivation2",
       "layout": "IPY_MODEL_bccb3bc5106d4befa97669f853896889",
       "style": "IPY_MODEL_d23b41ef29594c89ba754466430b4fe4",
       "tooltip": "Click me"
      }
     },
     "0069043fb54440e2abd5fd0cd34f04b6": {
      "model_module": "@jupyter-widgets/base",
      "model_module_version": "1.1.0",
      "model_name": "LayoutModel",
      "state": {}
     },
     "00f2d527ca6d4ecb9e26f8810f2ad2c6": {
      "model_module": "@jupyter-widgets/base",
      "model_module_version": "1.1.0",
      "model_name": "LayoutModel",
      "state": {}
     },
     "0120ea4bf166460fb6ee9897c4c931d3": {
      "model_module": "@jupyter-widgets/base",
      "model_module_version": "1.1.0",
      "model_name": "LayoutModel",
      "state": {}
     },
     "0183b94ba04644cf91ed468f81ecb346": {
      "model_module": "@jupyter-widgets/base",
      "model_module_version": "1.1.0",
      "model_name": "LayoutModel",
      "state": {}
     },
     "01bd970378434ada94162921255f0287": {
      "model_module": "@jupyter-widgets/controls",
      "model_module_version": "1.4.0",
      "model_name": "ButtonModel",
      "state": {
       "description": "Salt Deprivation",
       "layout": "IPY_MODEL_75999a5398e7435fabdae926d4759d4a",
       "style": "IPY_MODEL_f43ac62b72394929b605193e1e09a796",
       "tooltip": "Click me"
      }
     },
     "026a99a8b1d44640988f0cedfaa05d25": {
      "model_module": "@jupyter-widgets/base",
      "model_module_version": "1.1.0",
      "model_name": "LayoutModel",
      "state": {}
     },
     "055699577cf5487596fd9cef0358818f": {
      "model_module": "@jupyter-widgets/base",
      "model_module_version": "1.1.0",
      "model_name": "LayoutModel",
      "state": {}
     },
     "0688790ffeed43fa8191d46cf1fcfbcf": {
      "model_module": "@jupyter-widgets/base",
      "model_module_version": "1.1.0",
      "model_name": "LayoutModel",
      "state": {}
     },
     "0756d64b3dee4ff89c86fe8aeb673d75": {
      "model_module": "@jupyter-widgets/controls",
      "model_module_version": "1.4.0",
      "model_name": "ButtonModel",
      "state": {
       "description": "234",
       "layout": "IPY_MODEL_421452ae97714c449ceea28af15ec76b",
       "style": "IPY_MODEL_7e7222bd80a742208ca50ff722430073"
      }
     },
     "07be5e8a73e0459a9e80bb6b3aee3c04": {
      "model_module": "@jupyter-widgets/controls",
      "model_module_version": "1.4.0",
      "model_name": "ButtonStyleModel",
      "state": {}
     },
     "095d725dd03046b0a3ca7215c1577f98": {
      "model_module": "@jupyter-widgets/controls",
      "model_module_version": "1.4.0",
      "model_name": "FloatTextModel",
      "state": {
       "layout": "IPY_MODEL_f2e210bcad1e4722a75e7918b89d0dd1",
       "step": null,
       "style": "IPY_MODEL_174a2c1dbc394de28e20488041cf15fe"
      }
     },
     "09e78effcdbe4ec5bb536d0ebfa6edc0": {
      "model_module": "@jupyter-widgets/controls",
      "model_module_version": "1.4.0",
      "model_name": "FloatTextModel",
      "state": {
       "layout": "IPY_MODEL_026a99a8b1d44640988f0cedfaa05d25",
       "step": null,
       "style": "IPY_MODEL_ac31f79d69384f99a3920339ed01b61b"
      }
     },
     "0aed0d3e640f4b62b94805a7eeb996df": {
      "model_module": "@jupyter-widgets/base",
      "model_module_version": "1.1.0",
      "model_name": "LayoutModel",
      "state": {}
     },
     "0df6310a0320453e9fbd7de620cb8faf": {
      "model_module": "@jupyter-widgets/base",
      "model_module_version": "1.1.0",
      "model_name": "LayoutModel",
      "state": {}
     },
     "10567acd11ed4343b34f858cced36e84": {
      "model_module": "@jupyter-widgets/base",
      "model_module_version": "1.1.0",
      "model_name": "LayoutModel",
      "state": {}
     },
     "10eaf60f27624de6b11692c9628bd0bf": {
      "model_module": "@jupyter-widgets/base",
      "model_module_version": "1.1.0",
      "model_name": "LayoutModel",
      "state": {}
     },
     "123beb916afc4ba69c011402f3f3712c": {
      "model_module": "@jupyter-widgets/controls",
      "model_module_version": "1.4.0",
      "model_name": "ButtonStyleModel",
      "state": {}
     },
     "143468039825456e8fbee32a96ae0857": {
      "model_module": "@jupyter-widgets/controls",
      "model_module_version": "1.4.0",
      "model_name": "ButtonModel",
      "state": {
       "description": "Salt Deprivation",
       "layout": "IPY_MODEL_dba71d688d824cdaa72d7692d281e4fc",
       "style": "IPY_MODEL_bf1fa6982e0b4945bb7d86c33b24afc7",
       "tooltip": "Click me"
      }
     },
     "1531775b24084f769c6886852775239d": {
      "model_module": "@jupyter-widgets/controls",
      "model_module_version": "1.4.0",
      "model_name": "ButtonModel",
      "state": {
       "description": "Salt Satiation",
       "layout": "IPY_MODEL_0688790ffeed43fa8191d46cf1fcfbcf",
       "style": "IPY_MODEL_a841340e0a8c47efaca7e50e69611699",
       "tooltip": "Click me"
      }
     },
     "1612715ae78c4857a09ecb6ddcfdcaa7": {
      "model_module": "@jupyter-widgets/controls",
      "model_module_version": "1.4.0",
      "model_name": "FloatTextModel",
      "state": {
       "description": "MyField",
       "layout": "IPY_MODEL_9658e0e4b9184bc3b44e2fe3b4a73444",
       "step": null,
       "style": "IPY_MODEL_a6e71f254b54422ebfebd8887dd379e9",
       "value": 1
      }
     },
     "166cb99034cd41f5ad14915cfe94f92f": {
      "model_module": "@jupyter-widgets/controls",
      "model_module_version": "1.4.0",
      "model_name": "TextModel",
      "state": {
       "layout": "IPY_MODEL_0aed0d3e640f4b62b94805a7eeb996df",
       "style": "IPY_MODEL_882abea1422a45f5abdeecfbed85c61c",
       "value": "ljlkjk"
      }
     },
     "174a2c1dbc394de28e20488041cf15fe": {
      "model_module": "@jupyter-widgets/controls",
      "model_module_version": "1.4.0",
      "model_name": "DescriptionStyleModel",
      "state": {
       "description_width": ""
      }
     },
     "18afffa9196341f796c4edf2636849c7": {
      "model_module": "@jupyter-widgets/controls",
      "model_module_version": "1.4.0",
      "model_name": "ButtonModel",
      "state": {
       "description": "Salt Deprivation",
       "layout": "IPY_MODEL_10eaf60f27624de6b11692c9628bd0bf",
       "style": "IPY_MODEL_40c783f2fc184d09a631ddd4b5a1e5d8",
       "tooltip": "Click me"
      }
     },
     "19d2a159813347198b1676b84dd57627": {
      "model_module": "@jupyter-widgets/controls",
      "model_module_version": "1.4.0",
      "model_name": "ButtonModel",
      "state": {
       "description": "Salt Satiation",
       "layout": "IPY_MODEL_a345b44c244443f183c94d13d73351e6",
       "style": "IPY_MODEL_d08120620e964c9585d26b3dc0f15513",
       "tooltip": "Click me"
      }
     },
     "19e490931d454a16ba6a618d756936b6": {
      "model_module": "@jupyter-widgets/controls",
      "model_module_version": "1.4.0",
      "model_name": "TextareaModel",
      "state": {
       "layout": "IPY_MODEL_6753ff465d97440694f2bb278e369b3b",
       "style": "IPY_MODEL_26a94133e1714571a1e6556e0c45cf41"
      }
     },
     "1a58612ad6fd4b97bd5920879b556979": {
      "model_module": "@jupyter-widgets/controls",
      "model_module_version": "1.4.0",
      "model_name": "LinkModel",
      "state": {
       "source": [
        "IPY_MODEL_7d119d620af34e179837c36e24ca0c97",
        "value"
       ],
       "target": [
        "IPY_MODEL_b8afbb32083547cf9d13c8d5ecbc4a60",
        "value"
       ]
      }
     },
     "1b10a18d6f684fad96be2b130b33902e": {
      "model_module": "@jupyter-widgets/base",
      "model_module_version": "1.1.0",
      "model_name": "LayoutModel",
      "state": {}
     },
     "1c50d72daa3347b1bbd6a5a3bead0d30": {
      "model_module": "@jupyter-widgets/controls",
      "model_module_version": "1.4.0",
      "model_name": "DescriptionStyleModel",
      "state": {
       "description_width": ""
      }
     },
     "1d015f2633a3439a94e0e7f4a2c8cf8a": {
      "model_module": "@jupyter-widgets/controls",
      "model_module_version": "1.4.0",
      "model_name": "ButtonStyleModel",
      "state": {}
     },
     "1d461b16629f49a298d028d8a91d4cab": {
      "model_module": "@jupyter-widgets/base",
      "model_module_version": "1.1.0",
      "model_name": "LayoutModel",
      "state": {}
     },
     "1de28102013c45cebd72e10a0be106b9": {
      "model_module": "@jupyter-widgets/base",
      "model_module_version": "1.1.0",
      "model_name": "LayoutModel",
      "state": {}
     },
     "1e9f4c1e5b2a4314b327b2c937c5ca29": {
      "model_module": "@jupyter-widgets/controls",
      "model_module_version": "1.4.0",
      "model_name": "ButtonStyleModel",
      "state": {}
     },
     "20847848880241128baf35678fb40af0": {
      "model_module": "@jupyter-widgets/controls",
      "model_module_version": "1.4.0",
      "model_name": "SliderStyleModel",
      "state": {
       "description_width": ""
      }
     },
     "221cec5dcfbe419cad47ea5e1cc2fc81": {
      "model_module": "@jupyter-widgets/controls",
      "model_module_version": "1.4.0",
      "model_name": "SliderStyleModel",
      "state": {
       "description_width": ""
      }
     },
     "236b78fd15614601ad7951c93f784151": {
      "model_module": "@jupyter-widgets/controls",
      "model_module_version": "1.4.0",
      "model_name": "ButtonStyleModel",
      "state": {}
     },
     "248722abfdb44e4d986d63909cf9c7b5": {
      "model_module": "@jupyter-widgets/base",
      "model_module_version": "1.1.0",
      "model_name": "LayoutModel",
      "state": {}
     },
     "24f626654ae546aeb2c0d084606cad32": {
      "model_module": "@jupyter-widgets/controls",
      "model_module_version": "1.4.0",
      "model_name": "ButtonModel",
      "state": {
       "description": "Salt Deprivation",
       "layout": "IPY_MODEL_1b10a18d6f684fad96be2b130b33902e",
       "style": "IPY_MODEL_123beb916afc4ba69c011402f3f3712c",
       "tooltip": "Click me"
      }
     },
     "2558f068767a4b5583e5fe8fe6213edd": {
      "model_module": "@jupyter-widgets/base",
      "model_module_version": "1.1.0",
      "model_name": "LayoutModel",
      "state": {}
     },
     "25ed9350ac394a5297d3960684cc70d9": {
      "model_module": "@jupyter-widgets/controls",
      "model_module_version": "1.4.0",
      "model_name": "ButtonStyleModel",
      "state": {}
     },
     "26a94133e1714571a1e6556e0c45cf41": {
      "model_module": "@jupyter-widgets/controls",
      "model_module_version": "1.4.0",
      "model_name": "DescriptionStyleModel",
      "state": {
       "description_width": ""
      }
     },
     "285d04b846b94df3a741375e8d488d9b": {
      "model_module": "@jupyter-widgets/base",
      "model_module_version": "1.1.0",
      "model_name": "LayoutModel",
      "state": {}
     },
     "2c9562112d4044e7babc28063264ef02": {
      "model_module": "@jupyter-widgets/base",
      "model_module_version": "1.1.0",
      "model_name": "LayoutModel",
      "state": {}
     },
     "2d1eeb4a00c0474a863f3897c0957cc0": {
      "model_module": "@jupyter-widgets/base",
      "model_module_version": "1.1.0",
      "model_name": "LayoutModel",
      "state": {}
     },
     "2e41dc5848034c4e80afec9464afd35d": {
      "model_module": "@jupyter-widgets/base",
      "model_module_version": "1.1.0",
      "model_name": "LayoutModel",
      "state": {}
     },
     "2ea2f7103928430aaef392f08f3034a6": {
      "model_module": "@jupyter-widgets/controls",
      "model_module_version": "1.4.0",
      "model_name": "ButtonStyleModel",
      "state": {}
     },
     "30be4bb5f9814f428ffb7073eb70ce9a": {
      "model_module": "@jupyter-widgets/controls",
      "model_module_version": "1.4.0",
      "model_name": "FloatTextModel",
      "state": {
       "layout": "IPY_MODEL_95d5721b5128473abf524a03fcc330fc",
       "step": null,
       "style": "IPY_MODEL_61b7b3cdf64b4d85be76948297e7fd20"
      }
     },
     "3176e23bb2d64546986679ef3eec369e": {
      "model_module": "@jupyter-widgets/controls",
      "model_module_version": "1.4.0",
      "model_name": "ButtonModel",
      "state": {
       "description": "Salt Deprivation",
       "layout": "IPY_MODEL_1de28102013c45cebd72e10a0be106b9",
       "style": "IPY_MODEL_7cf8aa8ecb41461b90e9725f7f5c676e",
       "tooltip": "Click me"
      }
     },
     "31b59a71ccd64d74ae8e6301ad69efd5": {
      "model_module": "@jupyter-widgets/controls",
      "model_module_version": "1.4.0",
      "model_name": "ButtonModel",
      "state": {
       "description": "Salt Deprivation",
       "layout": "IPY_MODEL_dc46ef24574e4a4b9b0af6b90b09043c",
       "style": "IPY_MODEL_f061266df2884ba8a734c1e60bdfc14c",
       "tooltip": "Click me"
      }
     },
     "324ebc670ede4c5d99ec7aef4493dd55": {
      "model_module": "@jupyter-widgets/controls",
      "model_module_version": "1.4.0",
      "model_name": "FloatTextModel",
      "state": {
       "layout": "IPY_MODEL_fabd244b34304a29aae377bd9be272d2",
       "step": null,
       "style": "IPY_MODEL_834aabb597094c789873ddb201849ecb",
       "value": 1
      }
     },
     "36316b78ec1247e9aae4150f301df5fa": {
      "model_module": "@jupyter-widgets/controls",
      "model_module_version": "1.4.0",
      "model_name": "ButtonStyleModel",
      "state": {}
     },
     "369e80f28c704581b039c02823db7b35": {
      "model_module": "@jupyter-widgets/controls",
      "model_module_version": "1.4.0",
      "model_name": "ButtonStyleModel",
      "state": {}
     },
     "389842b6c46c46068103b301ad4b7e7d": {
      "model_module": "@jupyter-widgets/base",
      "model_module_version": "1.1.0",
      "model_name": "LayoutModel",
      "state": {}
     },
     "394d275aae7f4c2cb9cecb13da7a8898": {
      "model_module": "@jupyter-widgets/controls",
      "model_module_version": "1.4.0",
      "model_name": "ButtonStyleModel",
      "state": {}
     },
     "3bfc178854d8461a8680c5ab4d03c0ef": {
      "model_module": "@jupyter-widgets/controls",
      "model_module_version": "1.4.0",
      "model_name": "ButtonModel",
      "state": {
       "description": "Salt Deprivation2",
       "layout": "IPY_MODEL_97ba710954e54e58bb000c325268210a",
       "style": "IPY_MODEL_ff0f75d3e9dc4f0e9fcaaba542a124ca",
       "tooltip": "Click me"
      }
     },
     "3c89fcb78b6f494388c1ce769095af13": {
      "model_module": "@jupyter-widgets/controls",
      "model_module_version": "1.4.0",
      "model_name": "ButtonStyleModel",
      "state": {}
     },
     "3d5f02fa1fd54c788789ae09fdcac46a": {
      "model_module": "@jupyter-widgets/controls",
      "model_module_version": "1.4.0",
      "model_name": "ButtonStyleModel",
      "state": {}
     },
     "3e4c32a1c7d84e8ca952ced2a278c47a": {
      "model_module": "@jupyter-widgets/controls",
      "model_module_version": "1.4.0",
      "model_name": "SliderStyleModel",
      "state": {
       "description_width": ""
      }
     },
     "3ff9033acfc54d57874dccf97ed4359b": {
      "model_module": "@jupyter-widgets/controls",
      "model_module_version": "1.4.0",
      "model_name": "FloatTextModel",
      "state": {
       "layout": "IPY_MODEL_248722abfdb44e4d986d63909cf9c7b5",
       "step": null,
       "style": "IPY_MODEL_1c50d72daa3347b1bbd6a5a3bead0d30"
      }
     },
     "40c783f2fc184d09a631ddd4b5a1e5d8": {
      "model_module": "@jupyter-widgets/controls",
      "model_module_version": "1.4.0",
      "model_name": "ButtonStyleModel",
      "state": {}
     },
     "413f97f95c834bcd808ca24d84213361": {
      "model_module": "@jupyter-widgets/base",
      "model_module_version": "1.1.0",
      "model_name": "LayoutModel",
      "state": {}
     },
     "421452ae97714c449ceea28af15ec76b": {
      "model_module": "@jupyter-widgets/base",
      "model_module_version": "1.1.0",
      "model_name": "LayoutModel",
      "state": {}
     },
     "44eac70aa48e47468dab0bde084973cb": {
      "model_module": "@jupyter-widgets/base",
      "model_module_version": "1.1.0",
      "model_name": "LayoutModel",
      "state": {}
     },
     "486b13ded4af4474a4240dcc7dcbf8ae": {
      "model_module": "@jupyter-widgets/controls",
      "model_module_version": "1.4.0",
      "model_name": "TextareaModel",
      "state": {
       "layout": "IPY_MODEL_a6afe90401a648508e954ed2f019552c",
       "style": "IPY_MODEL_6d3ccbf603334de7a511ca223712c8e1",
       "value": "wererwererwererwererwererwererwererwererwererwererwererwererwererwererwererwererwererwererwererwererwererwererwererwererwererwererwererwererwererwererwererwerer"
      }
     },
     "4884cced4eda4c52862ed9b4540dd5ee": {
      "model_module": "@jupyter-widgets/controls",
      "model_module_version": "1.4.0",
      "model_name": "FloatTextModel",
      "state": {
       "layout": "IPY_MODEL_95f42601dcab4377a6e6d03110d4f667",
       "step": null,
       "style": "IPY_MODEL_c129e796a68849f489445c413ed7533c"
      }
     },
     "49ea7280fd514fa9a11921683d8f9726": {
      "model_module": "@jupyter-widgets/controls",
      "model_module_version": "1.4.0",
      "model_name": "DescriptionStyleModel",
      "state": {
       "description_width": ""
      }
     },
     "4c14a7bd39a1489a9ec1de818568536f": {
      "model_module": "@jupyter-widgets/controls",
      "model_module_version": "1.4.0",
      "model_name": "ButtonStyleModel",
      "state": {}
     },
     "4d1b766055d043c7b009255d6dafbeca": {
      "model_module": "@jupyter-widgets/controls",
      "model_module_version": "1.4.0",
      "model_name": "DescriptionStyleModel",
      "state": {
       "description_width": ""
      }
     },
     "4faea67f169a4b509082926ceea1f8a2": {
      "model_module": "@jupyter-widgets/controls",
      "model_module_version": "1.4.0",
      "model_name": "DescriptionStyleModel",
      "state": {
       "description_width": ""
      }
     },
     "518a54f630b64e779bff1d82a12f1c28": {
      "model_module": "@jupyter-widgets/controls",
      "model_module_version": "1.4.0",
      "model_name": "FloatTextModel",
      "state": {
       "layout": "IPY_MODEL_93f6b48649074ae1b55bd0d041ed7156",
       "step": null,
       "style": "IPY_MODEL_8251c2deadf54d159a2f76dca1fbfb4e"
      }
     },
     "52f12541d0a14e848f0a1bbbd0ab42ff": {
      "model_module": "@jupyter-widgets/base",
      "model_module_version": "1.1.0",
      "model_name": "LayoutModel",
      "state": {}
     },
     "539fed5733d1499491f4186fa6cc642a": {
      "model_module": "@jupyter-widgets/controls",
      "model_module_version": "1.4.0",
      "model_name": "FloatSliderModel",
      "state": {
       "description": "MyField",
       "layout": "IPY_MODEL_6b47d77fc146487aab9e4ce4acdb9682",
       "max": 5,
       "min": -5,
       "step": 0.1,
       "style": "IPY_MODEL_c9884ce9b3e949ffa859dc6fde401c66",
       "value": 0.8
      }
     },
     "548ebec4cb8648ca8ccddaf6e4fd0f19": {
      "model_module": "@jupyter-widgets/controls",
      "model_module_version": "1.4.0",
      "model_name": "ButtonModel",
      "state": {
       "description": "Salt Satiation",
       "layout": "IPY_MODEL_2558f068767a4b5583e5fe8fe6213edd",
       "style": "IPY_MODEL_ee73b27f2d8043b5818725668727f9a1",
       "tooltip": "Click me"
      }
     },
     "550da716ddf345fcba87fd0aed249c86": {
      "model_module": "@jupyter-widgets/base",
      "model_module_version": "1.1.0",
      "model_name": "LayoutModel",
      "state": {}
     },
     "5685d7dd87a6447eb1a12f0203bcece1": {
      "model_module": "@jupyter-widgets/controls",
      "model_module_version": "1.4.0",
      "model_name": "ButtonStyleModel",
      "state": {}
     },
     "57ed53b3dbb4405db75f4919b1b87e96": {
      "model_module": "@jupyter-widgets/controls",
      "model_module_version": "1.4.0",
      "model_name": "ButtonModel",
      "state": {
       "description": "Salt Deprivation",
       "layout": "IPY_MODEL_aa4b20e60546410ca30c906769d13d6d",
       "style": "IPY_MODEL_1d015f2633a3439a94e0e7f4a2c8cf8a",
       "tooltip": "Click me"
      }
     },
     "582548c7c2a64fdd9016e32c096ccf06": {
      "model_module": "@jupyter-widgets/controls",
      "model_module_version": "1.4.0",
      "model_name": "ButtonStyleModel",
      "state": {}
     },
     "59dd3ad59df8484c916ffccf080fca9e": {
      "model_module": "@jupyter-widgets/controls",
      "model_module_version": "1.4.0",
      "model_name": "DescriptionStyleModel",
      "state": {
       "description_width": ""
      }
     },
     "5aa67b51927b4c0cb34c522feebc061e": {
      "model_module": "@jupyter-widgets/controls",
      "model_module_version": "1.4.0",
      "model_name": "ButtonStyleModel",
      "state": {}
     },
     "5abafe0a81b5491c83164e0eadeefd27": {
      "model_module": "@jupyter-widgets/base",
      "model_module_version": "1.1.0",
      "model_name": "LayoutModel",
      "state": {}
     },
     "5af0500d5c664ecca7dd5faebaefadf7": {
      "model_module": "@jupyter-widgets/base",
      "model_module_version": "1.1.0",
      "model_name": "LayoutModel",
      "state": {}
     },
     "5c38743cca724cc1ac3e4f8f8d390c74": {
      "model_module": "@jupyter-widgets/controls",
      "model_module_version": "1.4.0",
      "model_name": "ButtonModel",
      "state": {
       "description": "Salt Satiation",
       "layout": "IPY_MODEL_d5cf0f28508c49c59827b5b9abb97c68",
       "style": "IPY_MODEL_9cd75ff03c0f4e07aad2479e9c0bcc5c",
       "tooltip": "Click me"
      }
     },
     "5cc8cdddca4745228c7568e6768fb0c2": {
      "model_module": "@jupyter-widgets/controls",
      "model_module_version": "1.4.0",
      "model_name": "ButtonModel",
      "state": {
       "description": "Salt Deprivation2",
       "layout": "IPY_MODEL_bb81be5b67d14cf8a7afba50ccd86649",
       "style": "IPY_MODEL_8a4983f879314630bff0735d062f1fa1",
       "tooltip": "Click me"
      }
     },
     "5d208b7bb91d4f97a42323aa3aebbd2e": {
      "model_module": "@jupyter-widgets/base",
      "model_module_version": "1.1.0",
      "model_name": "LayoutModel",
      "state": {}
     },
     "5eeb34f830874c8fa3da8d37896aa471": {
      "model_module": "@jupyter-widgets/controls",
      "model_module_version": "1.4.0",
      "model_name": "DescriptionStyleModel",
      "state": {
       "description_width": ""
      }
     },
     "5f52f8e8f34e411cabd65f32f66b440c": {
      "model_module": "@jupyter-widgets/controls",
      "model_module_version": "1.4.0",
      "model_name": "ButtonStyleModel",
      "state": {}
     },
     "5ff433dfc2a8404bb8b391cdbcc29231": {
      "model_module": "@jupyter-widgets/controls",
      "model_module_version": "1.4.0",
      "model_name": "LinkModel",
      "state": {
       "source": [
        "IPY_MODEL_d52d480700ed44ef88777fad06f9e22f",
        "value"
       ],
       "target": [
        "IPY_MODEL_92266eab91f74dfb9e166aa1fbd77ce0",
        "value"
       ]
      }
     },
     "608b83f9c0f84764bd75d1de52f483c3": {
      "model_module": "@jupyter-widgets/base",
      "model_module_version": "1.1.0",
      "model_name": "LayoutModel",
      "state": {}
     },
     "61b7b3cdf64b4d85be76948297e7fd20": {
      "model_module": "@jupyter-widgets/controls",
      "model_module_version": "1.4.0",
      "model_name": "DescriptionStyleModel",
      "state": {
       "description_width": ""
      }
     },
     "62866348ea564db1b2ab2227b34fa1a2": {
      "model_module": "@jupyter-widgets/base",
      "model_module_version": "1.1.0",
      "model_name": "LayoutModel",
      "state": {}
     },
     "640a4f28b0a1439990918d533146b2a8": {
      "model_module": "@jupyter-widgets/controls",
      "model_module_version": "1.4.0",
      "model_name": "FloatTextModel",
      "state": {
       "layout": "IPY_MODEL_fc039e7e939e4218a8623b8c7bdbbecc",
       "step": null,
       "style": "IPY_MODEL_b6614f00e5094890a91684dda99fced1"
      }
     },
     "64588bfdb3474b02bee96f82d5f01193": {
      "model_module": "@jupyter-widgets/controls",
      "model_module_version": "1.4.0",
      "model_name": "ButtonStyleModel",
      "state": {}
     },
     "64be474266654dc395c6561e9f5b71b4": {
      "model_module": "@jupyter-widgets/controls",
      "model_module_version": "1.4.0",
      "model_name": "ButtonModel",
      "state": {
       "description": "Salt Deprivation2",
       "layout": "IPY_MODEL_5abafe0a81b5491c83164e0eadeefd27",
       "style": "IPY_MODEL_07be5e8a73e0459a9e80bb6b3aee3c04",
       "tooltip": "Click me"
      }
     },
     "6572b15c678f42c4ad3f54647b80e2b3": {
      "model_module": "@jupyter-widgets/base",
      "model_module_version": "1.1.0",
      "model_name": "LayoutModel",
      "state": {}
     },
     "664b3007dbd44e2ebaae91c7e90007bd": {
      "model_module": "@jupyter-widgets/base",
      "model_module_version": "1.1.0",
      "model_name": "LayoutModel",
      "state": {}
     },
     "6753ff465d97440694f2bb278e369b3b": {
      "model_module": "@jupyter-widgets/base",
      "model_module_version": "1.1.0",
      "model_name": "LayoutModel",
      "state": {}
     },
     "6792125aa0ad4dbfa8077fb5a10515e0": {
      "model_module": "@jupyter-widgets/controls",
      "model_module_version": "1.4.0",
      "model_name": "LinkModel",
      "state": {
       "source": [
        "IPY_MODEL_6ea3816d1f8843bebeef0f764631650d",
        "value"
       ],
       "target": [
        "IPY_MODEL_a987f3c012be4392a56e576775addd07",
        "value"
       ]
      }
     },
     "68a6648c75c140a6bf5ae82a8fe2f853": {
      "model_module": "@jupyter-widgets/controls",
      "model_module_version": "1.4.0",
      "model_name": "SliderStyleModel",
      "state": {
       "description_width": ""
      }
     },
     "68c104169d514e5bb2998e7c202e9b46": {
      "model_module": "@jupyter-widgets/controls",
      "model_module_version": "1.4.0",
      "model_name": "ButtonModel",
      "state": {
       "description": "Salt Satiation",
       "layout": "IPY_MODEL_6ebaa11b29794fe59d693591dc21826c",
       "style": "IPY_MODEL_a6b4520f31b54f6cb4a5e156f2670dee",
       "tooltip": "Click me"
      }
     },
     "69f7e4b074c9492cb2d85eedf219a555": {
      "model_module": "@jupyter-widgets/controls",
      "model_module_version": "1.4.0",
      "model_name": "SliderStyleModel",
      "state": {
       "description_width": ""
      }
     },
     "6b47d77fc146487aab9e4ce4acdb9682": {
      "model_module": "@jupyter-widgets/base",
      "model_module_version": "1.1.0",
      "model_name": "LayoutModel",
      "state": {}
     },
     "6bb8d6ebf4d945bcbcf835bf5e624914": {
      "model_module": "@jupyter-widgets/controls",
      "model_module_version": "1.4.0",
      "model_name": "LinkModel",
      "state": {
       "source": [
        "IPY_MODEL_1612715ae78c4857a09ecb6ddcfdcaa7",
        "value"
       ],
       "target": [
        "IPY_MODEL_e4afe0b2ec884c98a30f2113a6f5c467",
        "value"
       ]
      }
     },
     "6c5a99a7253e4b05b4075b7124da35b4": {
      "model_module": "@jupyter-widgets/controls",
      "model_module_version": "1.4.0",
      "model_name": "LinkModel",
      "state": {
       "source": [
        "IPY_MODEL_f413e28dbdc74611a5ce01e0f80491be",
        "value"
       ],
       "target": [
        "IPY_MODEL_b0383fd47db743dab2b1cae4ac7add2e",
        "value"
       ]
      }
     },
     "6c9cdb4d34fb41cba77cdd2a17de8ad0": {
      "model_module": "@jupyter-widgets/base",
      "model_module_version": "1.1.0",
      "model_name": "LayoutModel",
      "state": {}
     },
     "6d3ccbf603334de7a511ca223712c8e1": {
      "model_module": "@jupyter-widgets/controls",
      "model_module_version": "1.4.0",
      "model_name": "DescriptionStyleModel",
      "state": {
       "description_width": ""
      }
     },
     "6ea3816d1f8843bebeef0f764631650d": {
      "model_module": "@jupyter-widgets/controls",
      "model_module_version": "1.4.0",
      "model_name": "FloatTextModel",
      "state": {
       "description": "MyField",
       "layout": "IPY_MODEL_92f0039bb4d74bd3b878bae2b35ae80c",
       "step": null,
       "style": "IPY_MODEL_df2a0598f6cc472f96a20f924f91e984",
       "value": 0.5
      }
     },
     "6ebaa11b29794fe59d693591dc21826c": {
      "model_module": "@jupyter-widgets/base",
      "model_module_version": "1.1.0",
      "model_name": "LayoutModel",
      "state": {}
     },
     "74a71f5d64854787b4251dbb8e757885": {
      "model_module": "@jupyter-widgets/base",
      "model_module_version": "1.1.0",
      "model_name": "LayoutModel",
      "state": {}
     },
     "74f37af3ba4b40f1953156753f1ab243": {
      "model_module": "@jupyter-widgets/controls",
      "model_module_version": "1.4.0",
      "model_name": "LinkModel",
      "state": {
       "source": [
        "IPY_MODEL_d2d136691e5d4cf7b9f6105c7a7d221b",
        "value"
       ],
       "target": [
        "IPY_MODEL_539fed5733d1499491f4186fa6cc642a",
        "value"
       ]
      }
     },
     "75999a5398e7435fabdae926d4759d4a": {
      "model_module": "@jupyter-widgets/base",
      "model_module_version": "1.1.0",
      "model_name": "LayoutModel",
      "state": {}
     },
     "75d3f96b68094ae789706f6ff168bd14": {
      "model_module": "@jupyter-widgets/controls",
      "model_module_version": "1.4.0",
      "model_name": "FloatSliderModel",
      "state": {
       "layout": "IPY_MODEL_cc1f8f5ea04543e19c1031a0cb79b09c",
       "max": 5,
       "min": -5,
       "step": 0.1,
       "style": "IPY_MODEL_9ac504f8e3bb41fb8a550899e8d7a179",
       "value": 1
      }
     },
     "7a2c5e74de6c4ec886ce2b54fb4526bd": {
      "model_module": "@jupyter-widgets/controls",
      "model_module_version": "1.4.0",
      "model_name": "ButtonStyleModel",
      "state": {}
     },
     "7adaa12db93f431fab721b5e3e08d6c8": {
      "model_module": "@jupyter-widgets/controls",
      "model_module_version": "1.4.0",
      "model_name": "FloatTextModel",
      "state": {
       "layout": "IPY_MODEL_b43d78570b144cc98a0f2b43c8727faf",
       "step": null,
       "style": "IPY_MODEL_59dd3ad59df8484c916ffccf080fca9e"
      }
     },
     "7b2735eb747846fd9acbfbb86d4de27d": {
      "model_module": "@jupyter-widgets/controls",
      "model_module_version": "1.4.0",
      "model_name": "ButtonStyleModel",
      "state": {}
     },
     "7c6e487d9739413f82f68494f1fcd7ca": {
      "model_module": "@jupyter-widgets/base",
      "model_module_version": "1.1.0",
      "model_name": "LayoutModel",
      "state": {}
     },
     "7cf8aa8ecb41461b90e9725f7f5c676e": {
      "model_module": "@jupyter-widgets/controls",
      "model_module_version": "1.4.0",
      "model_name": "ButtonStyleModel",
      "state": {}
     },
     "7d119d620af34e179837c36e24ca0c97": {
      "model_module": "@jupyter-widgets/controls",
      "model_module_version": "1.4.0",
      "model_name": "FloatTextModel",
      "state": {
       "continuous_update": true,
       "description": "MyField",
       "layout": "IPY_MODEL_8be174252f0447189d2cc8d9f1357b28",
       "step": null,
       "style": "IPY_MODEL_add00423a1db4db1abc1a79d8906610a",
       "value": -5
      }
     },
     "7d4b10839da84b29ae0af3831cad6bc0": {
      "model_module": "@jupyter-widgets/controls",
      "model_module_version": "1.4.0",
      "model_name": "ButtonStyleModel",
      "state": {}
     },
     "7e7222bd80a742208ca50ff722430073": {
      "model_module": "@jupyter-widgets/controls",
      "model_module_version": "1.4.0",
      "model_name": "ButtonStyleModel",
      "state": {}
     },
     "81ca7aa8c1b24d9182cd4b733595904a": {
      "model_module": "@jupyter-widgets/controls",
      "model_module_version": "1.4.0",
      "model_name": "ButtonModel",
      "state": {
       "description": "Salt Deprivation",
       "layout": "IPY_MODEL_52f12541d0a14e848f0a1bbbd0ab42ff",
       "style": "IPY_MODEL_1e9f4c1e5b2a4314b327b2c937c5ca29",
       "tooltip": "Click me"
      }
     },
     "8251c2deadf54d159a2f76dca1fbfb4e": {
      "model_module": "@jupyter-widgets/controls",
      "model_module_version": "1.4.0",
      "model_name": "DescriptionStyleModel",
      "state": {
       "description_width": ""
      }
     },
     "8342a4a3c8da4cf5b2f334ac66a5e1b0": {
      "model_module": "@jupyter-widgets/base",
      "model_module_version": "1.1.0",
      "model_name": "LayoutModel",
      "state": {}
     },
     "834aabb597094c789873ddb201849ecb": {
      "model_module": "@jupyter-widgets/controls",
      "model_module_version": "1.4.0",
      "model_name": "DescriptionStyleModel",
      "state": {
       "description_width": ""
      }
     },
     "83d3b683b1e941aabca4b1a6e37fbe09": {
      "model_module": "@jupyter-widgets/controls",
      "model_module_version": "1.4.0",
      "model_name": "ButtonModel",
      "state": {
       "description": "Salt Satiation",
       "layout": "IPY_MODEL_2e41dc5848034c4e80afec9464afd35d",
       "style": "IPY_MODEL_4c14a7bd39a1489a9ec1de818568536f",
       "tooltip": "Click me"
      }
     },
     "84c1400c0e984f829a1bf252a1278d8a": {
      "model_module": "@jupyter-widgets/controls",
      "model_module_version": "1.4.0",
      "model_name": "ButtonModel",
      "state": {
       "description": "Salt Deprivation",
       "layout": "IPY_MODEL_413f97f95c834bcd808ca24d84213361",
       "style": "IPY_MODEL_64588bfdb3474b02bee96f82d5f01193",
       "tooltip": "Click me"
      }
     },
     "86a462aa48df4b00b29e0ef1a0537c11": {
      "model_module": "@jupyter-widgets/base",
      "model_module_version": "1.1.0",
      "model_name": "LayoutModel",
      "state": {}
     },
     "882abea1422a45f5abdeecfbed85c61c": {
      "model_module": "@jupyter-widgets/controls",
      "model_module_version": "1.4.0",
      "model_name": "DescriptionStyleModel",
      "state": {
       "description_width": ""
      }
     },
     "8a2431a23a034ffdbfb6d555a982f97c": {
      "model_module": "@jupyter-widgets/base",
      "model_module_version": "1.1.0",
      "model_name": "LayoutModel",
      "state": {}
     },
     "8a4983f879314630bff0735d062f1fa1": {
      "model_module": "@jupyter-widgets/controls",
      "model_module_version": "1.4.0",
      "model_name": "ButtonStyleModel",
      "state": {}
     },
     "8a9c34ec65204dce8acb684317c82e2a": {
      "model_module": "@jupyter-widgets/controls",
      "model_module_version": "1.4.0",
      "model_name": "FloatTextModel",
      "state": {
       "layout": "IPY_MODEL_d06f4391a52c4d05b5a5eb22597f2a63",
       "step": null,
       "style": "IPY_MODEL_a7968e95f8a24ea282db4adff4788c17"
      }
     },
     "8bb39209ca7c444a97bdbe5bb139dde7": {
      "model_module": "@jupyter-widgets/controls",
      "model_module_version": "1.4.0",
      "model_name": "FloatSliderModel",
      "state": {
       "layout": "IPY_MODEL_e108ec225e084223baa55e97214f2aa4",
       "step": 0.1,
       "style": "IPY_MODEL_221cec5dcfbe419cad47ea5e1cc2fc81",
       "value": 16.2
      }
     },
     "8bb579c6495f4b669a39f61533b8362e": {
      "model_module": "@jupyter-widgets/controls",
      "model_module_version": "1.4.0",
      "model_name": "ButtonStyleModel",
      "state": {}
     },
     "8be174252f0447189d2cc8d9f1357b28": {
      "model_module": "@jupyter-widgets/base",
      "model_module_version": "1.1.0",
      "model_name": "LayoutModel",
      "state": {}
     },
     "8d098b2422e64988b6f1e897880e0eb5": {
      "model_module": "@jupyter-widgets/base",
      "model_module_version": "1.1.0",
      "model_name": "LayoutModel",
      "state": {}
     },
     "8f214bcffb8f4236a66d51427c769703": {
      "model_module": "@jupyter-widgets/controls",
      "model_module_version": "1.4.0",
      "model_name": "ButtonModel",
      "state": {
       "description": "Salt Satiation",
       "layout": "IPY_MODEL_cf1ec4919ada41029a42563c7d284952",
       "style": "IPY_MODEL_7a2c5e74de6c4ec886ce2b54fb4526bd",
       "tooltip": "Click me"
      }
     },
     "8f45b374d56d4c78835fec5c85f82006": {
      "model_module": "@jupyter-widgets/base",
      "model_module_version": "1.1.0",
      "model_name": "LayoutModel",
      "state": {}
     },
     "8f46cb9f29fd4c6589bcfe0f898327f5": {
      "model_module": "@jupyter-widgets/controls",
      "model_module_version": "1.4.0",
      "model_name": "FloatTextModel",
      "state": {
       "layout": "IPY_MODEL_fca67762cb85411591662d7d002bfa89",
       "step": null,
       "style": "IPY_MODEL_acd91d1b0d1d4016b128266699867211",
       "value": 5.4
      }
     },
     "90c66503f9e846dd8ae0b0faf1a7828b": {
      "model_module": "@jupyter-widgets/controls",
      "model_module_version": "1.4.0",
      "model_name": "ButtonModel",
      "state": {
       "description": "Salt Satiation",
       "layout": "IPY_MODEL_f442e37d60024f1ba4baaf32f845f815",
       "style": "IPY_MODEL_5685d7dd87a6447eb1a12f0203bcece1",
       "tooltip": "Click me"
      }
     },
     "92266eab91f74dfb9e166aa1fbd77ce0": {
      "model_module": "@jupyter-widgets/controls",
      "model_module_version": "1.4.0",
      "model_name": "FloatSliderModel",
      "state": {
       "description": "MyField",
       "layout": "IPY_MODEL_0df6310a0320453e9fbd7de620cb8faf",
       "max": 5,
       "min": -5,
       "step": 0.1,
       "style": "IPY_MODEL_69f7e4b074c9492cb2d85eedf219a555",
       "value": -0.2
      }
     },
     "92f0039bb4d74bd3b878bae2b35ae80c": {
      "model_module": "@jupyter-widgets/base",
      "model_module_version": "1.1.0",
      "model_name": "LayoutModel",
      "state": {}
     },
     "936cb9fc0c4844ffb3e22a4f6dd2f732": {
      "model_module": "@jupyter-widgets/controls",
      "model_module_version": "1.4.0",
      "model_name": "FloatLogSliderModel",
      "state": {
       "layout": "IPY_MODEL_cff26dacfe3944969358e2d7a630d8ac",
       "style": "IPY_MODEL_a0b8087c218f4a4f8fdb37f72be1b71f"
      }
     },
     "93f6b48649074ae1b55bd0d041ed7156": {
      "model_module": "@jupyter-widgets/base",
      "model_module_version": "1.1.0",
      "model_name": "LayoutModel",
      "state": {}
     },
     "952ab59703024d48a31a08681e48ddc9": {
      "model_module": "@jupyter-widgets/controls",
      "model_module_version": "1.4.0",
      "model_name": "ButtonModel",
      "state": {
       "description": "Salt Satiation",
       "layout": "IPY_MODEL_5d208b7bb91d4f97a42323aa3aebbd2e",
       "style": "IPY_MODEL_95c53bf84fb34fb5b103e04ffe26035c",
       "tooltip": "Click me"
      }
     },
     "9573ef041c4b445c8f19cab0122bbd2a": {
      "model_module": "@jupyter-widgets/controls",
      "model_module_version": "1.4.0",
      "model_name": "ButtonModel",
      "state": {
       "description": "Salt Satiation",
       "layout": "IPY_MODEL_2c9562112d4044e7babc28063264ef02",
       "style": "IPY_MODEL_f73e85537b434345a367158243167fc3",
       "tooltip": "Click me"
      }
     },
     "95c53bf84fb34fb5b103e04ffe26035c": {
      "model_module": "@jupyter-widgets/controls",
      "model_module_version": "1.4.0",
      "model_name": "ButtonStyleModel",
      "state": {}
     },
     "95d5721b5128473abf524a03fcc330fc": {
      "model_module": "@jupyter-widgets/base",
      "model_module_version": "1.1.0",
      "model_name": "LayoutModel",
      "state": {}
     },
     "95f42601dcab4377a6e6d03110d4f667": {
      "model_module": "@jupyter-widgets/base",
      "model_module_version": "1.1.0",
      "model_name": "LayoutModel",
      "state": {}
     },
     "9658e0e4b9184bc3b44e2fe3b4a73444": {
      "model_module": "@jupyter-widgets/base",
      "model_module_version": "1.1.0",
      "model_name": "LayoutModel",
      "state": {}
     },
     "97ba710954e54e58bb000c325268210a": {
      "model_module": "@jupyter-widgets/base",
      "model_module_version": "1.1.0",
      "model_name": "LayoutModel",
      "state": {}
     },
     "97da698c19604edb86ae970989d3bfde": {
      "model_module": "@jupyter-widgets/controls",
      "model_module_version": "1.4.0",
      "model_name": "ButtonStyleModel",
      "state": {}
     },
     "9ac504f8e3bb41fb8a550899e8d7a179": {
      "model_module": "@jupyter-widgets/controls",
      "model_module_version": "1.4.0",
      "model_name": "SliderStyleModel",
      "state": {
       "description_width": ""
      }
     },
     "9cc55e5b58fb433a84c561d1aaaf06db": {
      "model_module": "@jupyter-widgets/controls",
      "model_module_version": "1.4.0",
      "model_name": "ButtonModel",
      "state": {
       "description": "Salt Satiation",
       "layout": "IPY_MODEL_10567acd11ed4343b34f858cced36e84",
       "style": "IPY_MODEL_3d5f02fa1fd54c788789ae09fdcac46a",
       "tooltip": "Click me"
      }
     },
     "9cd75ff03c0f4e07aad2479e9c0bcc5c": {
      "model_module": "@jupyter-widgets/controls",
      "model_module_version": "1.4.0",
      "model_name": "ButtonStyleModel",
      "state": {}
     },
     "9f463f8598254cf7a4db92b59a6e8498": {
      "model_module": "@jupyter-widgets/controls",
      "model_module_version": "1.4.0",
      "model_name": "ButtonModel",
      "state": {
       "description": "Salt Deprivation",
       "layout": "IPY_MODEL_f0ec6b398fbf4c1b8bd52e59f925eea9",
       "style": "IPY_MODEL_de4b1e4c7a3346dd9b35a2c8749c42d1",
       "tooltip": "Click me"
      }
     },
     "9fb08bd224c74c0e96586f680283cab0": {
      "model_module": "@jupyter-widgets/controls",
      "model_module_version": "1.4.0",
      "model_name": "FloatTextModel",
      "state": {
       "layout": "IPY_MODEL_fa0c6f3102714432b9f03dc34f8f2d59",
       "step": null,
       "style": "IPY_MODEL_4d1b766055d043c7b009255d6dafbeca"
      }
     },
     "a0b8087c218f4a4f8fdb37f72be1b71f": {
      "model_module": "@jupyter-widgets/controls",
      "model_module_version": "1.4.0",
      "model_name": "SliderStyleModel",
      "state": {
       "description_width": ""
      }
     },
     "a1f19ba850f3446ca3ff80d421297b29": {
      "model_module": "@jupyter-widgets/controls",
      "model_module_version": "1.4.0",
      "model_name": "ButtonStyleModel",
      "state": {}
     },
     "a345b44c244443f183c94d13d73351e6": {
      "model_module": "@jupyter-widgets/base",
      "model_module_version": "1.1.0",
      "model_name": "LayoutModel",
      "state": {}
     },
     "a3da8903f0124702b30d2311d379dc1e": {
      "model_module": "@jupyter-widgets/controls",
      "model_module_version": "1.4.0",
      "model_name": "DescriptionStyleModel",
      "state": {
       "description_width": ""
      }
     },
     "a52b96965a784916ad35daac023be54f": {
      "model_module": "@jupyter-widgets/base",
      "model_module_version": "1.1.0",
      "model_name": "LayoutModel",
      "state": {}
     },
     "a5e3b7bfc1234690b6e40cbbbd4a83ac": {
      "model_module": "@jupyter-widgets/controls",
      "model_module_version": "1.4.0",
      "model_name": "DescriptionStyleModel",
      "state": {
       "description_width": ""
      }
     },
     "a669b4caf79c43b38cbaa8c67bdfc00d": {
      "model_module": "@jupyter-widgets/controls",
      "model_module_version": "1.4.0",
      "model_name": "ButtonStyleModel",
      "state": {}
     },
     "a6afe90401a648508e954ed2f019552c": {
      "model_module": "@jupyter-widgets/base",
      "model_module_version": "1.1.0",
      "model_name": "LayoutModel",
      "state": {}
     },
     "a6b4520f31b54f6cb4a5e156f2670dee": {
      "model_module": "@jupyter-widgets/controls",
      "model_module_version": "1.4.0",
      "model_name": "ButtonStyleModel",
      "state": {}
     },
     "a6e71f254b54422ebfebd8887dd379e9": {
      "model_module": "@jupyter-widgets/controls",
      "model_module_version": "1.4.0",
      "model_name": "DescriptionStyleModel",
      "state": {
       "description_width": ""
      }
     },
     "a7968e95f8a24ea282db4adff4788c17": {
      "model_module": "@jupyter-widgets/controls",
      "model_module_version": "1.4.0",
      "model_name": "DescriptionStyleModel",
      "state": {
       "description_width": ""
      }
     },
     "a841340e0a8c47efaca7e50e69611699": {
      "model_module": "@jupyter-widgets/controls",
      "model_module_version": "1.4.0",
      "model_name": "ButtonStyleModel",
      "state": {}
     },
     "a987f3c012be4392a56e576775addd07": {
      "model_module": "@jupyter-widgets/controls",
      "model_module_version": "1.4.0",
      "model_name": "FloatSliderModel",
      "state": {
       "description": "MyField",
       "layout": "IPY_MODEL_389842b6c46c46068103b301ad4b7e7d",
       "max": 5,
       "min": -5,
       "step": 0.1,
       "style": "IPY_MODEL_20847848880241128baf35678fb40af0",
       "value": 0.5
      }
     },
     "aa168bb850024c558ff2057f3f626d94": {
      "model_module": "@jupyter-widgets/controls",
      "model_module_version": "1.4.0",
      "model_name": "SliderStyleModel",
      "state": {
       "description_width": ""
      }
     },
     "aa4b20e60546410ca30c906769d13d6d": {
      "model_module": "@jupyter-widgets/base",
      "model_module_version": "1.1.0",
      "model_name": "LayoutModel",
      "state": {}
     },
     "ab68880897cc4d49826ec2e689443a65": {
      "model_module": "@jupyter-widgets/controls",
      "model_module_version": "1.4.0",
      "model_name": "ButtonStyleModel",
      "state": {}
     },
     "ac212538abec4bc98ecff183e7f3eb1e": {
      "model_module": "@jupyter-widgets/base",
      "model_module_version": "1.1.0",
      "model_name": "LayoutModel",
      "state": {}
     },
     "ac31f79d69384f99a3920339ed01b61b": {
      "model_module": "@jupyter-widgets/controls",
      "model_module_version": "1.4.0",
      "model_name": "DescriptionStyleModel",
      "state": {
       "description_width": ""
      }
     },
     "acd91d1b0d1d4016b128266699867211": {
      "model_module": "@jupyter-widgets/controls",
      "model_module_version": "1.4.0",
      "model_name": "DescriptionStyleModel",
      "state": {
       "description_width": ""
      }
     },
     "ad2f942376304a48971edd3c76e70259": {
      "model_module": "@jupyter-widgets/base",
      "model_module_version": "1.1.0",
      "model_name": "LayoutModel",
      "state": {}
     },
     "add00423a1db4db1abc1a79d8906610a": {
      "model_module": "@jupyter-widgets/controls",
      "model_module_version": "1.4.0",
      "model_name": "DescriptionStyleModel",
      "state": {
       "description_width": ""
      }
     },
     "b0383fd47db743dab2b1cae4ac7add2e": {
      "model_module": "@jupyter-widgets/controls",
      "model_module_version": "1.4.0",
      "model_name": "FloatSliderModel",
      "state": {
       "description": "MyField",
       "layout": "IPY_MODEL_8f45b374d56d4c78835fec5c85f82006",
       "max": 5,
       "min": -5,
       "step": 0.1,
       "style": "IPY_MODEL_3e4c32a1c7d84e8ca952ced2a278c47a",
       "value": 1.6
      }
     },
     "b16ceda317654245bdb9424c7129b9d9": {
      "model_module": "@jupyter-widgets/controls",
      "model_module_version": "1.4.0",
      "model_name": "FloatSliderModel",
      "state": {
       "layout": "IPY_MODEL_74a71f5d64854787b4251dbb8e757885",
       "step": 0.1,
       "style": "IPY_MODEL_68a6648c75c140a6bf5ae82a8fe2f853",
       "value": 5.4
      }
     },
     "b43d78570b144cc98a0f2b43c8727faf": {
      "model_module": "@jupyter-widgets/base",
      "model_module_version": "1.1.0",
      "model_name": "LayoutModel",
      "state": {}
     },
     "b6028011c37e44b5a4b6587ca5abd535": {
      "model_module": "@jupyter-widgets/base",
      "model_module_version": "1.1.0",
      "model_name": "LayoutModel",
      "state": {}
     },
     "b6614f00e5094890a91684dda99fced1": {
      "model_module": "@jupyter-widgets/controls",
      "model_module_version": "1.4.0",
      "model_name": "DescriptionStyleModel",
      "state": {
       "description_width": ""
      }
     },
     "b70601e9d8b149fa965d0ac153d53f0d": {
      "model_module": "@jupyter-widgets/controls",
      "model_module_version": "1.4.0",
      "model_name": "ButtonModel",
      "state": {
       "description": "Salt Satiation",
       "layout": "IPY_MODEL_055699577cf5487596fd9cef0358818f",
       "style": "IPY_MODEL_ab68880897cc4d49826ec2e689443a65",
       "tooltip": "Click me"
      }
     },
     "b8024c95276d4a9999126b71b4907545": {
      "model_module": "@jupyter-widgets/base",
      "model_module_version": "1.1.0",
      "model_name": "LayoutModel",
      "state": {}
     },
     "b8afbb32083547cf9d13c8d5ecbc4a60": {
      "model_module": "@jupyter-widgets/controls",
      "model_module_version": "1.4.0",
      "model_name": "FloatSliderModel",
      "state": {
       "description": "MyField",
       "layout": "IPY_MODEL_8a2431a23a034ffdbfb6d555a982f97c",
       "max": 5,
       "min": -5,
       "step": 0.1,
       "style": "IPY_MODEL_aa168bb850024c558ff2057f3f626d94",
       "value": -5
      }
     },
     "bb2cb64413844429acbd3de867a87abf": {
      "model_module": "@jupyter-widgets/controls",
      "model_module_version": "1.4.0",
      "model_name": "ButtonModel",
      "state": {
       "description": "Salt Deprivation",
       "layout": "IPY_MODEL_7c6e487d9739413f82f68494f1fcd7ca",
       "style": "IPY_MODEL_c6f86670ea9a442ab0458539309a1be2",
       "tooltip": "Click me"
      }
     },
     "bb81be5b67d14cf8a7afba50ccd86649": {
      "model_module": "@jupyter-widgets/base",
      "model_module_version": "1.1.0",
      "model_name": "LayoutModel",
      "state": {}
     },
     "bb8eacfca3f9488984471d838f622705": {
      "model_module": "@jupyter-widgets/base",
      "model_module_version": "1.1.0",
      "model_name": "LayoutModel",
      "state": {}
     },
     "bccb3bc5106d4befa97669f853896889": {
      "model_module": "@jupyter-widgets/base",
      "model_module_version": "1.1.0",
      "model_name": "LayoutModel",
      "state": {}
     },
     "bea36a5a357c4471b32b593539f1e9ab": {
      "model_module": "@jupyter-widgets/controls",
      "model_module_version": "1.4.0",
      "model_name": "DescriptionStyleModel",
      "state": {
       "description_width": ""
      }
     },
     "bf1fa6982e0b4945bb7d86c33b24afc7": {
      "model_module": "@jupyter-widgets/controls",
      "model_module_version": "1.4.0",
      "model_name": "ButtonStyleModel",
      "state": {}
     },
     "c0e2194d81a74913986dd74c737f0b6e": {
      "model_module": "@jupyter-widgets/controls",
      "model_module_version": "1.4.0",
      "model_name": "ButtonModel",
      "state": {
       "description": "Salt Deprivation",
       "layout": "IPY_MODEL_b8024c95276d4a9999126b71b4907545",
       "style": "IPY_MODEL_36316b78ec1247e9aae4150f301df5fa",
       "tooltip": "Click me"
      }
     },
     "c129e796a68849f489445c413ed7533c": {
      "model_module": "@jupyter-widgets/controls",
      "model_module_version": "1.4.0",
      "model_name": "DescriptionStyleModel",
      "state": {
       "description_width": ""
      }
     },
     "c1bc36130ac145b192bedc3ca6949ef6": {
      "model_module": "@jupyter-widgets/controls",
      "model_module_version": "1.4.0",
      "model_name": "ButtonModel",
      "state": {
       "description": "Salt Satiation",
       "layout": "IPY_MODEL_550da716ddf345fcba87fd0aed249c86",
       "style": "IPY_MODEL_2ea2f7103928430aaef392f08f3034a6",
       "tooltip": "Click me"
      }
     },
     "c21af706fa8e4606b8ac8aaf15afb6fb": {
      "model_module": "@jupyter-widgets/controls",
      "model_module_version": "1.4.0",
      "model_name": "LinkModel",
      "state": {
       "source": [
        "IPY_MODEL_8f46cb9f29fd4c6589bcfe0f898327f5",
        "value"
       ],
       "target": [
        "IPY_MODEL_b16ceda317654245bdb9424c7129b9d9",
        "value"
       ]
      }
     },
     "c4658e9bc07846d19251dd7aa93e6d80": {
      "model_module": "@jupyter-widgets/controls",
      "model_module_version": "1.4.0",
      "model_name": "TextModel",
      "state": {
       "layout": "IPY_MODEL_608b83f9c0f84764bd75d1de52f483c3",
       "style": "IPY_MODEL_bea36a5a357c4471b32b593539f1e9ab",
       "value": "fsdfsdfsdfsdfsdfsdfsdfsdfsdfsdfsdfsdfsdfsdfsdfsdfsdfsdfsdfsdfsdfsdfsdfsdfsdfsdfsdfsdfsdfsdfsdfsdfsdfsdfsdfsdfsdfsdfsdfsdfsdfsdfsdfsdfsdfsdfsdfsdfsdfsdfsdfsdfsdfsdfsdfsdfsdfsdfsdfsdfsdfsdfsdfsdfsdfsdfsdfsdfsdfsdfsdfsdfsdfsdfsdfsdfsdfsdfsdfsdfsdfsdfsdfsdfsdfsdfsdfsdfsdfsdfsdfsdfsdfsdfsdfsdfsdfsdfsdfsdfsdfsdfsdfsdfsdfsdfsdfsdfsdfsdfsdfsdfsdfsdfsdfsdfsdfsdfsdfsdfsdfsdfsdfsdfsdfsdfsdfsd"
      }
     },
     "c4842c5f2ce14746a70a56fe225e0ebe": {
      "model_module": "@jupyter-widgets/base",
      "model_module_version": "1.1.0",
      "model_name": "LayoutModel",
      "state": {}
     },
     "c6f86670ea9a442ab0458539309a1be2": {
      "model_module": "@jupyter-widgets/controls",
      "model_module_version": "1.4.0",
      "model_name": "ButtonStyleModel",
      "state": {}
     },
     "c76921e5161b4ac18dbdbd48c5ce96ca": {
      "model_module": "@jupyter-widgets/controls",
      "model_module_version": "1.4.0",
      "model_name": "ButtonStyleModel",
      "state": {}
     },
     "c882263e9c434131b38722c2f2bb9ffe": {
      "model_module": "@jupyter-widgets/base",
      "model_module_version": "1.1.0",
      "model_name": "LayoutModel",
      "state": {}
     },
     "c9884ce9b3e949ffa859dc6fde401c66": {
      "model_module": "@jupyter-widgets/controls",
      "model_module_version": "1.4.0",
      "model_name": "SliderStyleModel",
      "state": {
       "description_width": ""
      }
     },
     "cc1f8f5ea04543e19c1031a0cb79b09c": {
      "model_module": "@jupyter-widgets/base",
      "model_module_version": "1.1.0",
      "model_name": "LayoutModel",
      "state": {}
     },
     "cc3caaa67e074baea9f3cdb0c75e4c8b": {
      "model_module": "@jupyter-widgets/base",
      "model_module_version": "1.1.0",
      "model_name": "LayoutModel",
      "state": {}
     },
     "cf1ec4919ada41029a42563c7d284952": {
      "model_module": "@jupyter-widgets/base",
      "model_module_version": "1.1.0",
      "model_name": "LayoutModel",
      "state": {}
     },
     "cff26dacfe3944969358e2d7a630d8ac": {
      "model_module": "@jupyter-widgets/base",
      "model_module_version": "1.1.0",
      "model_name": "LayoutModel",
      "state": {}
     },
     "d06f4391a52c4d05b5a5eb22597f2a63": {
      "model_module": "@jupyter-widgets/base",
      "model_module_version": "1.1.0",
      "model_name": "LayoutModel",
      "state": {}
     },
     "d08120620e964c9585d26b3dc0f15513": {
      "model_module": "@jupyter-widgets/controls",
      "model_module_version": "1.4.0",
      "model_name": "ButtonStyleModel",
      "state": {}
     },
     "d11d4d3760b240fb80f9451681f764d2": {
      "model_module": "@jupyter-widgets/controls",
      "model_module_version": "1.4.0",
      "model_name": "ButtonModel",
      "state": {
       "description": "Salt Satiation",
       "layout": "IPY_MODEL_0069043fb54440e2abd5fd0cd34f04b6",
       "style": "IPY_MODEL_a669b4caf79c43b38cbaa8c67bdfc00d",
       "tooltip": "Click me"
      }
     },
     "d23b41ef29594c89ba754466430b4fe4": {
      "model_module": "@jupyter-widgets/controls",
      "model_module_version": "1.4.0",
      "model_name": "ButtonStyleModel",
      "state": {}
     },
     "d2d136691e5d4cf7b9f6105c7a7d221b": {
      "model_module": "@jupyter-widgets/controls",
      "model_module_version": "1.4.0",
      "model_name": "FloatTextModel",
      "state": {
       "description": "MyField",
       "layout": "IPY_MODEL_c4842c5f2ce14746a70a56fe225e0ebe",
       "step": null,
       "style": "IPY_MODEL_a5e3b7bfc1234690b6e40cbbbd4a83ac",
       "value": 0.8
      }
     },
     "d52d480700ed44ef88777fad06f9e22f": {
      "model_module": "@jupyter-widgets/controls",
      "model_module_version": "1.4.0",
      "model_name": "FloatTextModel",
      "state": {
       "continuous_update": true,
       "description": "MyField",
       "layout": "IPY_MODEL_bb8eacfca3f9488984471d838f622705",
       "step": null,
       "style": "IPY_MODEL_49ea7280fd514fa9a11921683d8f9726",
       "value": -0.2
      }
     },
     "d56df7b974244075b4eb5eb720e8ae01": {
      "model_module": "@jupyter-widgets/controls",
      "model_module_version": "1.4.0",
      "model_name": "ButtonModel",
      "state": {
       "description": "234",
       "layout": "IPY_MODEL_62866348ea564db1b2ab2227b34fa1a2",
       "style": "IPY_MODEL_c76921e5161b4ac18dbdbd48c5ce96ca"
      }
     },
     "d5cf0f28508c49c59827b5b9abb97c68": {
      "model_module": "@jupyter-widgets/base",
      "model_module_version": "1.1.0",
      "model_name": "LayoutModel",
      "state": {}
     },
     "da7fb7a882b4403eba3ccc4f54c12eff": {
      "model_module": "@jupyter-widgets/controls",
      "model_module_version": "1.4.0",
      "model_name": "TextModel",
      "state": {
       "layout": "IPY_MODEL_8342a4a3c8da4cf5b2f334ac66a5e1b0",
       "style": "IPY_MODEL_fd18b4a552f449048fdcd226341d2e92"
      }
     },
     "db31a694066640cc8574f43b86e75696": {
      "model_module": "@jupyter-widgets/controls",
      "model_module_version": "1.4.0",
      "model_name": "LinkModel",
      "state": {
       "source": [
        "IPY_MODEL_324ebc670ede4c5d99ec7aef4493dd55",
        "value"
       ],
       "target": [
        "IPY_MODEL_75d3f96b68094ae789706f6ff168bd14",
        "value"
       ]
      }
     },
     "dba71d688d824cdaa72d7692d281e4fc": {
      "model_module": "@jupyter-widgets/base",
      "model_module_version": "1.1.0",
      "model_name": "LayoutModel",
      "state": {}
     },
     "dc30118437ab466eb2bb71e734a99f0e": {
      "model_module": "@jupyter-widgets/controls",
      "model_module_version": "1.4.0",
      "model_name": "ButtonModel",
      "state": {
       "description": "Salt Deprivation2",
       "layout": "IPY_MODEL_44eac70aa48e47468dab0bde084973cb",
       "style": "IPY_MODEL_582548c7c2a64fdd9016e32c096ccf06",
       "tooltip": "Click me"
      }
     },
     "dc46ef24574e4a4b9b0af6b90b09043c": {
      "model_module": "@jupyter-widgets/base",
      "model_module_version": "1.1.0",
      "model_name": "LayoutModel",
      "state": {}
     },
     "dc7909c00d494b09b27dba3f9f5c70b1": {
      "model_module": "@jupyter-widgets/controls",
      "model_module_version": "1.4.0",
      "model_name": "ButtonModel",
      "state": {
       "description": "Salt Satiation",
       "layout": "IPY_MODEL_a52b96965a784916ad35daac023be54f",
       "style": "IPY_MODEL_f2ed9aee8ddf48e4a9fdd010512118e0",
       "tooltip": "Click me"
      }
     },
     "de4b1e4c7a3346dd9b35a2c8749c42d1": {
      "model_module": "@jupyter-widgets/controls",
      "model_module_version": "1.4.0",
      "model_name": "ButtonStyleModel",
      "state": {}
     },
     "de4f4ab8a36a4c6d8d7ee690308a2cc6": {
      "model_module": "@jupyter-widgets/controls",
      "model_module_version": "1.4.0",
      "model_name": "ButtonStyleModel",
      "state": {}
     },
     "de60477fdb5e44d2a7ea59bc38020f43": {
      "model_module": "@jupyter-widgets/controls",
      "model_module_version": "1.4.0",
      "model_name": "ButtonModel",
      "state": {
       "description": "Salt Deprivation",
       "layout": "IPY_MODEL_00f2d527ca6d4ecb9e26f8810f2ad2c6",
       "style": "IPY_MODEL_394d275aae7f4c2cb9cecb13da7a8898",
       "tooltip": "Click me"
      }
     },
     "dead9c8cd85c4eb49a4fe0f9086303e9": {
      "model_module": "@jupyter-widgets/controls",
      "model_module_version": "1.4.0",
      "model_name": "LinkModel",
      "state": {
       "source": [
        "IPY_MODEL_e447531605d741349066a102468f9664",
        "value"
       ],
       "target": [
        "IPY_MODEL_936cb9fc0c4844ffb3e22a4f6dd2f732",
        "value"
       ]
      }
     },
     "dee8c020ecff4f219e1132c1bfdff32e": {
      "model_module": "@jupyter-widgets/base",
      "model_module_version": "1.1.0",
      "model_name": "LayoutModel",
      "state": {}
     },
     "df2a0598f6cc472f96a20f924f91e984": {
      "model_module": "@jupyter-widgets/controls",
      "model_module_version": "1.4.0",
      "model_name": "DescriptionStyleModel",
      "state": {
       "description_width": ""
      }
     },
     "dff484386d5c4993a20012368a4cea60": {
      "model_module": "@jupyter-widgets/controls",
      "model_module_version": "1.4.0",
      "model_name": "ButtonModel",
      "state": {
       "description": "Salt Satiation",
       "layout": "IPY_MODEL_664b3007dbd44e2ebaae91c7e90007bd",
       "style": "IPY_MODEL_a1f19ba850f3446ca3ff80d421297b29",
       "tooltip": "Click me"
      }
     },
     "e108ec225e084223baa55e97214f2aa4": {
      "model_module": "@jupyter-widgets/base",
      "model_module_version": "1.1.0",
      "model_name": "LayoutModel",
      "state": {}
     },
     "e2a4e8866a4d41729f24a2bfef9852ea": {
      "model_module": "@jupyter-widgets/controls",
      "model_module_version": "1.4.0",
      "model_name": "ButtonStyleModel",
      "state": {}
     },
     "e447531605d741349066a102468f9664": {
      "model_module": "@jupyter-widgets/controls",
      "model_module_version": "1.4.0",
      "model_name": "FloatTextModel",
      "state": {
       "layout": "IPY_MODEL_b6028011c37e44b5a4b6587ca5abd535",
       "step": null,
       "style": "IPY_MODEL_4faea67f169a4b509082926ceea1f8a2",
       "value": 1
      }
     },
     "e496b190a25e4b5c8ade58181bbeea4b": {
      "model_module": "@jupyter-widgets/controls",
      "model_module_version": "1.4.0",
      "model_name": "ButtonModel",
      "state": {
       "description": "234",
       "layout": "IPY_MODEL_1d461b16629f49a298d028d8a91d4cab",
       "style": "IPY_MODEL_7b2735eb747846fd9acbfbb86d4de27d"
      }
     },
     "e4afe0b2ec884c98a30f2113a6f5c467": {
      "model_module": "@jupyter-widgets/controls",
      "model_module_version": "1.4.0",
      "model_name": "FloatSliderModel",
      "state": {
       "description": "MyField",
       "layout": "IPY_MODEL_ad2f942376304a48971edd3c76e70259",
       "max": 5,
       "min": -5,
       "step": 0.1,
       "style": "IPY_MODEL_ec4be97ec60444e0915334ed32dd3d8d",
       "value": 1
      }
     },
     "e7e443df5f79468ca3e3199105fa6576": {
      "model_module": "@jupyter-widgets/controls",
      "model_module_version": "1.4.0",
      "model_name": "ButtonModel",
      "state": {
       "description": "234",
       "layout": "IPY_MODEL_5af0500d5c664ecca7dd5faebaefadf7",
       "style": "IPY_MODEL_3c89fcb78b6f494388c1ce769095af13"
      }
     },
     "e87adb6f128e41dcb895a3ceaf09b6a6": {
      "model_module": "@jupyter-widgets/controls",
      "model_module_version": "1.4.0",
      "model_name": "ButtonModel",
      "state": {
       "description": "Salt Satiation",
       "icon": "check",
       "layout": "IPY_MODEL_2d1eeb4a00c0474a863f3897c0957cc0",
       "style": "IPY_MODEL_de4f4ab8a36a4c6d8d7ee690308a2cc6",
       "tooltip": "Click me"
      }
     },
     "e8df552bf849492fb3f466b33cffde8c": {
      "model_module": "@jupyter-widgets/controls",
      "model_module_version": "1.4.0",
      "model_name": "ButtonModel",
      "state": {
       "description": "Salt Deprivation",
       "layout": "IPY_MODEL_285d04b846b94df3a741375e8d488d9b",
       "style": "IPY_MODEL_25ed9350ac394a5297d3960684cc70d9",
       "tooltip": "Click me"
      }
     },
     "ec4be97ec60444e0915334ed32dd3d8d": {
      "model_module": "@jupyter-widgets/controls",
      "model_module_version": "1.4.0",
      "model_name": "SliderStyleModel",
      "state": {
       "description_width": ""
      }
     },
     "ee73b27f2d8043b5818725668727f9a1": {
      "model_module": "@jupyter-widgets/controls",
      "model_module_version": "1.4.0",
      "model_name": "ButtonStyleModel",
      "state": {}
     },
     "ee86b0275d8c4186b5ac5d2bfc5efff9": {
      "model_module": "@jupyter-widgets/controls",
      "model_module_version": "1.4.0",
      "model_name": "ButtonModel",
      "state": {
       "description": "Salt Satiation",
       "layout": "IPY_MODEL_cc3caaa67e074baea9f3cdb0c75e4c8b",
       "style": "IPY_MODEL_e2a4e8866a4d41729f24a2bfef9852ea",
       "tooltip": "Click me"
      }
     },
     "f061266df2884ba8a734c1e60bdfc14c": {
      "model_module": "@jupyter-widgets/controls",
      "model_module_version": "1.4.0",
      "model_name": "ButtonStyleModel",
      "state": {}
     },
     "f0dc09214f0d4f8db4ed932ed7697874": {
      "model_module": "@jupyter-widgets/controls",
      "model_module_version": "1.4.0",
      "model_name": "ButtonModel",
      "state": {
       "description": "Salt Satiation",
       "layout": "IPY_MODEL_86a462aa48df4b00b29e0ef1a0537c11",
       "style": "IPY_MODEL_236b78fd15614601ad7951c93f784151",
       "tooltip": "Click me"
      }
     },
     "f0ec6b398fbf4c1b8bd52e59f925eea9": {
      "model_module": "@jupyter-widgets/base",
      "model_module_version": "1.1.0",
      "model_name": "LayoutModel",
      "state": {}
     },
     "f1f5ecf25b0d4c32bef2d5effda733fd": {
      "model_module": "@jupyter-widgets/controls",
      "model_module_version": "1.4.0",
      "model_name": "ButtonModel",
      "state": {
       "description": "Salt Satiation",
       "layout": "IPY_MODEL_6572b15c678f42c4ad3f54647b80e2b3",
       "style": "IPY_MODEL_5f52f8e8f34e411cabd65f32f66b440c",
       "tooltip": "Click me"
      }
     },
     "f2e210bcad1e4722a75e7918b89d0dd1": {
      "model_module": "@jupyter-widgets/base",
      "model_module_version": "1.1.0",
      "model_name": "LayoutModel",
      "state": {}
     },
     "f2ed9aee8ddf48e4a9fdd010512118e0": {
      "model_module": "@jupyter-widgets/controls",
      "model_module_version": "1.4.0",
      "model_name": "ButtonStyleModel",
      "state": {}
     },
     "f413e28dbdc74611a5ce01e0f80491be": {
      "model_module": "@jupyter-widgets/controls",
      "model_module_version": "1.4.0",
      "model_name": "FloatTextModel",
      "state": {
       "description": "MyField",
       "layout": "IPY_MODEL_6c9cdb4d34fb41cba77cdd2a17de8ad0",
       "step": null,
       "style": "IPY_MODEL_5eeb34f830874c8fa3da8d37896aa471",
       "value": 1.6
      }
     },
     "f43ac62b72394929b605193e1e09a796": {
      "model_module": "@jupyter-widgets/controls",
      "model_module_version": "1.4.0",
      "model_name": "ButtonStyleModel",
      "state": {}
     },
     "f442e37d60024f1ba4baaf32f845f815": {
      "model_module": "@jupyter-widgets/base",
      "model_module_version": "1.1.0",
      "model_name": "LayoutModel",
      "state": {}
     },
     "f57a25e36218400cb86259b8fc901d50": {
      "model_module": "@jupyter-widgets/controls",
      "model_module_version": "1.4.0",
      "model_name": "ButtonModel",
      "state": {
       "description": "Salt Deprivation2",
       "layout": "IPY_MODEL_8d098b2422e64988b6f1e897880e0eb5",
       "style": "IPY_MODEL_7d4b10839da84b29ae0af3831cad6bc0",
       "tooltip": "Click me"
      }
     },
     "f73e85537b434345a367158243167fc3": {
      "model_module": "@jupyter-widgets/controls",
      "model_module_version": "1.4.0",
      "model_name": "ButtonStyleModel",
      "state": {}
     },
     "f7f30cba887d45d4978efaf1b75f2718": {
      "model_module": "@jupyter-widgets/controls",
      "model_module_version": "1.4.0",
      "model_name": "ButtonModel",
      "state": {
       "description": "Salt Satiation",
       "layout": "IPY_MODEL_0120ea4bf166460fb6ee9897c4c931d3",
       "style": "IPY_MODEL_97da698c19604edb86ae970989d3bfde",
       "tooltip": "Click me"
      }
     },
     "fa0c6f3102714432b9f03dc34f8f2d59": {
      "model_module": "@jupyter-widgets/base",
      "model_module_version": "1.1.0",
      "model_name": "LayoutModel",
      "state": {}
     },
     "fa12a9fcfa6342f9945e1b927edbe3c4": {
      "model_module": "@jupyter-widgets/controls",
      "model_module_version": "1.4.0",
      "model_name": "FloatTextModel",
      "state": {
       "layout": "IPY_MODEL_ac212538abec4bc98ecff183e7f3eb1e",
       "step": null,
       "style": "IPY_MODEL_a3da8903f0124702b30d2311d379dc1e"
      }
     },
     "fabd244b34304a29aae377bd9be272d2": {
      "model_module": "@jupyter-widgets/base",
      "model_module_version": "1.1.0",
      "model_name": "LayoutModel",
      "state": {}
     },
     "fc039e7e939e4218a8623b8c7bdbbecc": {
      "model_module": "@jupyter-widgets/base",
      "model_module_version": "1.1.0",
      "model_name": "LayoutModel",
      "state": {}
     },
     "fc67a63cf2db4b1ca9b12e4299d88e62": {
      "model_module": "@jupyter-widgets/controls",
      "model_module_version": "1.4.0",
      "model_name": "ButtonModel",
      "state": {
       "description": "Salt Satiation",
       "layout": "IPY_MODEL_dee8c020ecff4f219e1132c1bfdff32e",
       "style": "IPY_MODEL_369e80f28c704581b039c02823db7b35",
       "tooltip": "Click me"
      }
     },
     "fca67762cb85411591662d7d002bfa89": {
      "model_module": "@jupyter-widgets/base",
      "model_module_version": "1.1.0",
      "model_name": "LayoutModel",
      "state": {}
     },
     "fd11ed76f69f49c991e1454f43db5daf": {
      "model_module": "@jupyter-widgets/controls",
      "model_module_version": "1.4.0",
      "model_name": "ButtonModel",
      "state": {
       "description": "Salt Satiation",
       "layout": "IPY_MODEL_0183b94ba04644cf91ed468f81ecb346",
       "style": "IPY_MODEL_5aa67b51927b4c0cb34c522feebc061e",
       "tooltip": "Click me"
      }
     },
     "fd18b4a552f449048fdcd226341d2e92": {
      "model_module": "@jupyter-widgets/controls",
      "model_module_version": "1.4.0",
      "model_name": "DescriptionStyleModel",
      "state": {
       "description_width": ""
      }
     },
     "fdc5a651ecc54ab89f808b5ff479f1d7": {
      "model_module": "@jupyter-widgets/controls",
      "model_module_version": "1.4.0",
      "model_name": "ButtonModel",
      "state": {
       "description": "Salt Deprivation",
       "layout": "IPY_MODEL_c882263e9c434131b38722c2f2bb9ffe",
       "style": "IPY_MODEL_8bb579c6495f4b669a39f61533b8362e",
       "tooltip": "Click me"
      }
     },
     "ff0f75d3e9dc4f0e9fcaaba542a124ca": {
      "model_module": "@jupyter-widgets/controls",
      "model_module_version": "1.4.0",
      "model_name": "ButtonStyleModel",
      "state": {}
     }
    },
    "version_major": 2,
    "version_minor": 0
   }
  }
 },
 "nbformat": 4,
 "nbformat_minor": 1
}
