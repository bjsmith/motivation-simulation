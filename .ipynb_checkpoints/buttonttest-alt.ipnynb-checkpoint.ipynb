{
 "cells": [
  {
   "cell_type": "markdown",
   "metadata": {},
   "source": [
    "from https://github.com/jupyterlab/jupyterlab/issues/1254\n"
   ]
  },
  {
   "cell_type": "code",
   "execution_count": 1,
   "metadata": {},
   "outputs": [
    {
     "data": {
      "application/vnd.jupyter.widget-view+json": {
       "model_id": "7bff528c30a9473d8c15a79388f4415a",
       "version_major": 2,
       "version_minor": 0
      },
      "text/plain": [
       "VBox(children=(Button(description='Display Chart', style=ButtonStyle()), Output()))"
      ]
     },
     "metadata": {},
     "output_type": "display_data"
    }
   ],
   "source": [
    "import ipywidgets as widgets\n",
    "button = widgets.Button(description='Display Chart')\n",
    "out = widgets.Output()\n",
    "def on_button_clicked(b):\n",
    "    button.description = 'clicked'\n",
    "    with out:\n",
    "        print('Ay')\n",
    "\n",
    "button.on_click(on_button_clicked)\n",
    "widgets.VBox([button, out])"
   ]
  },
  {
   "cell_type": "code",
   "execution_count": null,
   "metadata": {},
   "outputs": [],
   "source": []
  }
 ],
 "metadata": {
  "kernelspec": {
   "display_name": "Python 3",
   "language": "python",
   "name": "python3"
  },
  "language_info": {
   "codemirror_mode": {
    "name": "ipython",
    "version": 3
   },
   "file_extension": ".py",
   "mimetype": "text/x-python",
   "name": "python",
   "nbconvert_exporter": "python",
   "pygments_lexer": "ipython3",
   "version": "3.6.6"
  },
  "widgets": {
   "application/vnd.jupyter.widget-state+json": {
    "state": {
     "183e3a8d61f04851bf475a3de09bc7e0": {
      "model_module": "@jupyter-widgets/base",
      "model_module_version": "1.1.0",
      "model_name": "LayoutModel",
      "state": {}
     },
     "1c351740bc5a4baf80d970f5c61a5a4d": {
      "model_module": "@jupyter-widgets/base",
      "model_module_version": "1.1.0",
      "model_name": "LayoutModel",
      "state": {}
     },
     "28fd6b38b9ab45968174bd9efb3d9bbc": {
      "model_module": "@jupyter-widgets/base",
      "model_module_version": "1.1.0",
      "model_name": "LayoutModel",
      "state": {}
     },
     "61553859a20c45eb8f280e3197b59d42": {
      "model_module": "@jupyter-widgets/controls",
      "model_module_version": "1.4.0",
      "model_name": "VBoxModel",
      "state": {
       "children": [
        "IPY_MODEL_87df37bcc6c54b23b9b499448c5c7955",
        "IPY_MODEL_724fbbe2fe494a0c91bdf84e0ef155ec"
       ],
       "layout": "IPY_MODEL_95a879c7cbcb480eaef24415aa469b07"
      }
     },
     "624aca44619442f0b83c5b4aa4749c0b": {
      "model_module": "@jupyter-widgets/base",
      "model_module_version": "1.1.0",
      "model_name": "LayoutModel",
      "state": {}
     },
     "724fbbe2fe494a0c91bdf84e0ef155ec": {
      "model_module": "@jupyter-widgets/output",
      "model_module_version": "1.0.0",
      "model_name": "OutputModel",
      "state": {
       "layout": "IPY_MODEL_624aca44619442f0b83c5b4aa4749c0b",
       "outputs": [
        {
         "name": "stdout",
         "output_type": "stream",
         "text": "Ay\nAy\nAy\nAy\n"
        }
       ]
      }
     },
     "7bff528c30a9473d8c15a79388f4415a": {
      "model_module": "@jupyter-widgets/controls",
      "model_module_version": "1.4.0",
      "model_name": "VBoxModel",
      "state": {
       "children": [
        "IPY_MODEL_caadef85d9034a00b0f1d719dd00bfbb",
        "IPY_MODEL_eb052826b4e3439eb94b25e9c8d9afe0"
       ],
       "layout": "IPY_MODEL_1c351740bc5a4baf80d970f5c61a5a4d"
      }
     },
     "87df37bcc6c54b23b9b499448c5c7955": {
      "model_module": "@jupyter-widgets/controls",
      "model_module_version": "1.4.0",
      "model_name": "ButtonModel",
      "state": {
       "description": "clicked",
       "layout": "IPY_MODEL_d9ffe34220e347f9a919cbb7c7b2378f",
       "style": "IPY_MODEL_9a75ad424670410db08da9c80abb2522"
      }
     },
     "95a879c7cbcb480eaef24415aa469b07": {
      "model_module": "@jupyter-widgets/base",
      "model_module_version": "1.1.0",
      "model_name": "LayoutModel",
      "state": {}
     },
     "9a75ad424670410db08da9c80abb2522": {
      "model_module": "@jupyter-widgets/controls",
      "model_module_version": "1.4.0",
      "model_name": "ButtonStyleModel",
      "state": {}
     },
     "caadef85d9034a00b0f1d719dd00bfbb": {
      "model_module": "@jupyter-widgets/controls",
      "model_module_version": "1.4.0",
      "model_name": "ButtonModel",
      "state": {
       "description": "Display Chart",
       "layout": "IPY_MODEL_183e3a8d61f04851bf475a3de09bc7e0",
       "style": "IPY_MODEL_d392401f06bc42978094e8c02a0f0719"
      }
     },
     "d392401f06bc42978094e8c02a0f0719": {
      "model_module": "@jupyter-widgets/controls",
      "model_module_version": "1.4.0",
      "model_name": "ButtonStyleModel",
      "state": {}
     },
     "d9ffe34220e347f9a919cbb7c7b2378f": {
      "model_module": "@jupyter-widgets/base",
      "model_module_version": "1.1.0",
      "model_name": "LayoutModel",
      "state": {}
     },
     "eb052826b4e3439eb94b25e9c8d9afe0": {
      "model_module": "@jupyter-widgets/output",
      "model_module_version": "1.0.0",
      "model_name": "OutputModel",
      "state": {
       "layout": "IPY_MODEL_28fd6b38b9ab45968174bd9efb3d9bbc"
      }
     }
    },
    "version_major": 2,
    "version_minor": 0
   }
  }
 },
 "nbformat": 4,
 "nbformat_minor": 2
}
