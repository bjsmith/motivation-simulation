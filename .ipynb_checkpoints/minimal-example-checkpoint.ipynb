{
 "cells": [
  {
   "cell_type": "markdown",
   "metadata": {},
   "source": [
    "# Rat model minimal example\n",
    "\n",
    "\n",
    "## Model objectives\n",
    "\n",
    "This minimal example sets out to solve the following model objectives:\n",
    "\n",
    " - The rat prefers the moderate solution to the strong solution under salt depletion; it may approach the strong solution sometimes, but less often than the moderate solution\n",
    " - The rat prefers the moderate solution to the strong solution under salt satiation (i.e., finds it less aversive)\n",
    " - The rate will take the strong solution under salt depletion if it has no other option\n",
    " - Something representing reward signal will fire for a sugar solution but not a salt solution when there is a need for salt; however, when there is a need for salt, the reward signal will fire regardless\n",
    "\n",
    "## Objectives 1 and 2: multiple stimulus features\n",
    "\n",
    "We can specify the basic model we need to model salt like:\n",
    "\n",
    "\\begin{align}\\label{eq:BasicSaltModelZBVector}\n",
    "\\tilde r(\\mathbf{r},\\mathbf{\\kappa})=& \\mathbf{\\kappa}_{\\text{Na}} \\mathbf{r}_{\\text{Na}}+\\mathbf{\\kappa}_{h} \\mathbf{r}_{h}\n",
    "\\end{align}\n",
    "\n",
    "## Objectives 3: environmental cues\n",
    "To meet Objective 3 above--to show the rat will drink the salty solution if it is salt-depleted and is the only one available--we first need to assume a different weighting of hydration to deprivation. For instance, we can do that by increasing the deprivation/interoceptive state value $\\kappa_{\\text{Na}}$ from 1 to 1.5.\n",
    "\n",
    "Now, in order to make this aspect of the model explicit we need to introduce an extra vector describing environmental cues that elicit responses, $\\mathbf{c}$. Following the S-R-O expectancy valence account given in \\textcite{zhang2009neural}, the extra parameter describes environmental features eliciting a response. \n",
    "\n",
    "Using the new model with our vector representing environmental cues $\\mathbf{c}$, we can predict behavior where there is no cue for a moderate salt solution (Note the use of elementwise multiplication between the matrices using the symbol $\\circ$):\n",
    "\n",
    "$$\n",
    "\\begin{align}\\label{eq:WithCues}\n",
    "\\tilde r(\\mathbf{r},\\mathbf{\\kappa})= & \\mathbf{\\kappa}_{\\textrm{Na}} \\mathbf{r}_\\textrm{Na}\\mathbf{c}+\\mathbf{\\kappa}_{h} \\mathbf{r}_{h}\\mathbf{c} % \\\\\n",
    "% = & 1.5 \\times \\begin{bmatrix}0.5 \\\\ 1.0\\end{bmatrix}\\circ \\begin{bmatrix}0.0 \\\\ 1.0\\end{bmatrix} + 1 \\times \\begin{bmatrix}0.0 \\\\ -1.0\\end{bmatrix}\\circ \\begin{bmatrix}0.0 \\\\ 1.0\\end{bmatrix} \\nonumber \\\\\n",
    "% = & \\begin{bmatrix}0.0 \\\\ 0.5\\end{bmatrix} \\nonumber\n",
    "\\end{align}\n",
    "$$\n",
    "\n",
    "Here, I've modeled $\\mathbf{c}$ as a single vector without a subscript to indicate that we do not expect the cue value to systematically differ for each interoceptive value. This differs from the other documents produced--there, I'd included a subscript, more because I didn't think it through than any other reason.\n",
    "\n",
    "## Objective 4: Sugar\n",
    "\n",
    "The model in Equation~\\ref{eq:BasicSaltModelZBVector} can be extended slightly to account for the evidence discussed in the sugar example in Tindell et al. (2009):\n",
    "\n",
    "\\begin{equation}\\label{eq:SaltSugarModelTindell}\n",
    "\\tilde r(\\mathbf{r},\\mathbf{\\kappa})=\\kappa_{\\text{Na}} r_{\\text{Na}}+\\kappa_{h} r_{h} + \\kappa_{\\text{Glc}} r_{\\text{Glc}}\n",
    "\\end{equation}"
   ]
  },
  {
   "cell_type": "markdown",
   "metadata": {},
   "source": [
    "## Combined Model\n",
    "\n",
    "Combining the models presented above, we obtain the model \n",
    "\n",
    "\\begin{align}\n",
    "\\begin{split}\\label{eq:SaltSugarModelWithCue}\n",
    "\\tilde r(\\mathbf{r},\\mathbf{\\kappa})= & \\kappa_{\\text{Na}} r_{\\text{Na}}\\mathbf{c}+\\kappa_{h} r_{h}\\mathbf{c} + \\kappa_{\\text{Glc}} r_{\\text{Glc}}\\mathbf{c}\n",
    "\\end{split}\n",
    "\\end{align}\n",
    "\n",
    "We can generalize this further by describing an arbitrary number of cue-stimulus-interoception multiplicative terms:\n",
    "\n",
    "\\begin{align}\n",
    "\\tilde r(\\mathbf{r},\\mathbf{\\kappa},\\mathbf{c})= & \\kappa_{1} \\mathbf{r}_{1}\\mathbf{c}+\\dots+\\kappa_{\\text{N}} \\mathbf{r}_{\\text{N}}\\mathbf{c}\n",
    "\\end{align}\n",
    "\n",
    "We can then write a python function to model this equation, and then demonstrate how it handles each situation described above.\n",
    "\n",
    "The function ```multiplicative_term``` forms a python dictionary representing a term with kappa value, r array, and cue array. The function ```SaltSugarModelWithCue``` is simply a python implementation of the $r(\\mathbf{r},\\mathbf{\\kappa},\\mathbf{c})$ function nabove. It calls ```SaltSugarModelWithCue_SingleTerm```, which is written separately so that it can be used directly to show the working in the equation below."
   ]
  },
  {
   "cell_type": "code",
   "execution_count": 1,
   "metadata": {},
   "outputs": [],
   "source": [
    "from minimal_example_interface import *\n",
    "import numpy as np\n",
    "\n",
    "def multiplicative_term(kappa_val,r_array,cue_array):\n",
    "    assert(type(kappa_val)==float or type(kappa_val)==int)\n",
    "    assert(type(r_array)==np.ndarray)\n",
    "    assert(type(cue_array)==np.ndarray)\n",
    "    \n",
    "    return({\"kappa\": kappa_val, \"r\": r_array,\"cue\": cue_array})\n",
    "\n",
    "def SaltSugarModelWithCue_SingleTerm(term):\n",
    "    return term['kappa']*term['r']*term['cue']\n",
    "\n",
    "def SaltSugarModelWithCue(term_list):\n",
    "    return sum([SaltSugarModelWithCue_SingleTerm(term) for term in term_list])\n",
    "\n",
    "\n"
   ]
  },
  {
   "cell_type": "markdown",
   "metadata": {},
   "source": [
    "We can then create variables to represent each term and then calculate their value:"
   ]
  },
  {
   "cell_type": "code",
   "execution_count": 2,
   "metadata": {},
   "outputs": [],
   "source": [
    "term_Na=multiplicative_term(1,np.array([0.5,1.0,0.0]),np.array([1.0,1.0,1.0]))\n",
    "term_h=multiplicative_term(1,np.array([0.0,-1.0,0.0]),np.array([1.0,0.5,1.0]))\n",
    "term_Glc=multiplicative_term(1,np.array([0.0,0.0,1.0]),np.array([1.0,1.0,.7171]))\n",
    "\n"
   ]
  },
  {
   "cell_type": "markdown",
   "metadata": {},
   "source": [
    "We can write this out mathematically:"
   ]
  },
  {
   "cell_type": "code",
   "execution_count": 62,
   "metadata": {},
   "outputs": [
    {
     "data": {
      "text/markdown": [
       "\n",
       "    $$\n",
       "    \\begin{align}\n",
       "    \\begin{split}\n",
       "    \\tilde r(\\mathbf{r},\\mathbf{\\kappa},\\mathbf{c})= & \n",
       "    \\kappa_{\\text{Na}} \\mathbf{r}_{\\text{Na}}\\mathbf{c} \n",
       "    & + \\kappa_{h} \\mathbf{r}_{h}\\mathbf{c}\n",
       "    & + \\kappa_{\\text{Glc}} \\mathbf{r}_{\\text{Glc}}\\mathbf{c} \\\\\n",
       "     = & 1 \\times \\begin{bmatrix}0.5 \\\\ 1.0 \\\\ 0.0\\end{bmatrix}\\circ \\begin{bmatrix}1.0 \\\\ 1.0 \\\\ 1.0\\end{bmatrix} & + 1 \\times \\begin{bmatrix}0.0 \\\\ -1.0 \\\\ 0.0\\end{bmatrix}\\circ \\begin{bmatrix}1.0 \\\\ 0.5 \\\\ 1.0\\end{bmatrix} & + 1 \\times \\begin{bmatrix}0.0 \\\\ 0.0 \\\\ 1.0\\end{bmatrix}\\circ \\begin{bmatrix}1.0 \\\\ 1.0 \\\\ 0.72\\end{bmatrix} \\\\\n",
       "     = & \\begin{bmatrix}0.5 \\\\ 1.0 \\\\ 0.0\\end{bmatrix} & + \\begin{bmatrix}0.0 \\\\ -0.5 \\\\ 0.0\\end{bmatrix} & + \\begin{bmatrix}0.0 \\\\ 0.0 \\\\ 0.72\\end{bmatrix} \\\\\n",
       "     = & \\begin{bmatrix}0.5 \\\\ 0.5 \\\\ 0.72\\end{bmatrix}\n",
       "    \\end{split}\n",
       "    \\end{align}\n",
       "    $$\n",
       "    "
      ],
      "text/plain": [
       "<IPython.core.display.Markdown object>"
      ]
     },
     "execution_count": 62,
     "metadata": {},
     "output_type": "execute_result"
    }
   ],
   "source": [
    "from IPython.display import Markdown\n",
    "\n",
    "def get_main_equation_text():\n",
    "    return \"\"\"\n",
    "    $$\n",
    "    \\\\begin{{align}}\n",
    "    \\\\begin{{split}}\n",
    "    \\\\tilde r(\\mathbf{{r}},\\mathbf{{\\kappa}},\\mathbf{{c}})= & \n",
    "    \\kappa_{{\\\\text{{Na}}}} \\mathbf{{r}}_{{\\\\text{{Na}}}}\\mathbf{{c}} \n",
    "    & + \\kappa_{{h}} \\mathbf{{r}}_{{h}}\\mathbf{{c}}\n",
    "    & + \\kappa_{{\\\\text{{Glc}}}} \\mathbf{{r}}_{{\\\\text{{Glc}}}}\\mathbf{{c}} \\\\\\\\\n",
    "     = & {Na_term} & + {h_term} & + {Glc_term} \\\\\\\\\n",
    "     = & {Na_val} & + {h_val} & + {Glc_val} \\\\\\\\\n",
    "     = & {function_val}\n",
    "    \\end{{split}}\n",
    "    \\end{{align}}\n",
    "    $$\n",
    "    \"\"\".format(Na_term=krc_term_to_latex(term_Na), \n",
    "               h_term=krc_term_to_latex(term_h),\n",
    "               Glc_term=krc_term_to_latex(term_Glc),\n",
    "              Na_val=ndarray_latex_format(SaltSugarModelWithCue_SingleTerm(term_Na)),\n",
    "              h_val=ndarray_latex_format(SaltSugarModelWithCue_SingleTerm(term_h)),\n",
    "              Glc_val=ndarray_latex_format(SaltSugarModelWithCue_SingleTerm(term_Glc)),\n",
    "              function_val=ndarray_latex_format(SaltSugarModelWithCue([term_Na,term_h,term_Glc])))\n",
    "Markdown(get_main_equation_text())\n"
   ]
  },
  {
   "cell_type": "markdown",
   "metadata": {},
   "source": [
    "You can play with the values yourself here or use the presets to see how values change."
   ]
  },
  {
   "cell_type": "code",
   "execution_count": 4,
   "metadata": {},
   "outputs": [
    {
     "data": {
      "application/vnd.jupyter.widget-view+json": {
       "model_id": "6cd6b0f7b7774a46b2b4fd68b30d3c65",
       "version_major": 2,
       "version_minor": 0
      },
      "text/plain": [
       "HBox(children=(Button(description='Salt Deprived', style=ButtonStyle()), Button(description='Salt Satiated', s…"
      ]
     },
     "metadata": {},
     "output_type": "display_data"
    }
   ],
   "source": [
    "display(widgets.HBox([bDeprivationPreset,bSatiationPreset,tbSugarPresence]))\n"
   ]
  },
  {
   "cell_type": "markdown",
   "metadata": {},
   "source": [
    "### Interoception ($\\kappa$)"
   ]
  },
  {
   "cell_type": "code",
   "execution_count": 5,
   "metadata": {},
   "outputs": [
    {
     "data": {
      "application/vnd.jupyter.widget-view+json": {
       "model_id": "a8999c7c6fae4eadbb5dd3595445ecfc",
       "version_major": 2,
       "version_minor": 0
      },
      "text/plain": [
       "HBox(children=(FloatText(value=1.0, description='Na'), FloatText(value=1.0, description='hydration'), FloatTex…"
      ]
     },
     "metadata": {},
     "output_type": "display_data"
    }
   ],
   "source": [
    "widgets.HBox(ftKappaVals)\n"
   ]
  },
  {
   "cell_type": "markdown",
   "metadata": {},
   "source": [
    "### Expected reward ($\\tilde r$)"
   ]
  },
  {
   "cell_type": "code",
   "execution_count": 6,
   "metadata": {},
   "outputs": [
    {
     "data": {
      "application/vnd.jupyter.widget-view+json": {
       "model_id": "5536bb8ebd7a40b5ae6bc3e0b70bd254",
       "version_major": 2,
       "version_minor": 0
      },
      "text/plain": [
       "HBox(children=(VBox(children=(Label(value='Solution'), Label(value='Moderate Salt'), Label(value='Strong Salt'…"
      ]
     },
     "metadata": {},
     "output_type": "display_data"
    }
   ],
   "source": [
    "widgets.HBox(ftRewardVals)\n"
   ]
  },
  {
   "cell_type": "markdown",
   "metadata": {},
   "source": [
    "### Cue Accessibility ($\\mathbf{c}$)"
   ]
  },
  {
   "cell_type": "code",
   "execution_count": 7,
   "metadata": {},
   "outputs": [
    {
     "data": {
      "application/vnd.jupyter.widget-view+json": {
       "model_id": "3d6499c682104f8fa78da6e0b9bfd8f6",
       "version_major": 2,
       "version_minor": 0
      },
      "text/plain": [
       "VBox(children=(FloatText(value=0.0, description='Moderate Salt'), FloatText(value=0.0, description='Strong Sal…"
      ]
     },
     "metadata": {},
     "output_type": "display_data"
    }
   ],
   "source": [
    "widgets.VBox(ftCueVals)"
   ]
  },
  {
   "cell_type": "code",
   "execution_count": 8,
   "metadata": {},
   "outputs": [],
   "source": [
    "bResetAll_on_click(0)"
   ]
  },
  {
   "cell_type": "code",
   "execution_count": 10,
   "metadata": {},
   "outputs": [
    {
     "data": {
      "text/markdown": [
       "\n",
       "$$\n",
       "\\begin{align}\n",
       "\\begin{split}\n",
       "\\tilde r(\\mathbf{r},\\mathbf{\\kappa},\\mathbf{c})= & \n",
       "\\kappa_{\\text{Na}} \\mathbf{r}_{\\text{Na}}\\mathbf{c} \n",
       "& + \\kappa_{h} \\mathbf{r}_{h}\\mathbf{c}\n",
       "& + \\kappa_{\\text{Glc}} \\mathbf{r}_{\\text{Glc}}\\mathbf{c} \\\\\n",
       " = & 1 \\times \\begin{bmatrix}0.5 \\\\ 1.0 \\\\ 0.0\\end{bmatrix}\\circ \\begin{bmatrix}1.0 \\\\ 1.0 \\\\ 1.0\\end{bmatrix} & + 1 \\times \\begin{bmatrix}0.0 \\\\ -1.0 \\\\ 0.0\\end{bmatrix}\\circ \\begin{bmatrix}1.0 \\\\ 0.5 \\\\ 1.0\\end{bmatrix} & + 1 \\times \\begin{bmatrix}0.0 \\\\ 0.0 \\\\ 1.0\\end{bmatrix}\\circ \\begin{bmatrix}1.0 \\\\ 1.0 \\\\ 0.72\\end{bmatrix} \\\\\n",
       " = & \\begin{bmatrix}0.5 \\\\ 1.0 \\\\ 0.0\\end{bmatrix} & + \\begin{bmatrix}0.0 \\\\ -0.5 \\\\ 0.0\\end{bmatrix} & + \\begin{bmatrix}0.0 \\\\ 0.0 \\\\ 0.72\\end{bmatrix} \\\\\n",
       " = & \\begin{bmatrix}0.5 \\\\ 0.5 \\\\ 0.72\\end{bmatrix}\n",
       "\\end{split}\n",
       "\\end{align}\n",
       "$$\n"
      ],
      "text/plain": [
       "<IPython.core.display.Markdown object>"
      ]
     },
     "metadata": {},
     "output_type": "display_data"
    }
   ],
   "source": []
  },
  {
   "cell_type": "code",
   "execution_count": 69,
   "metadata": {},
   "outputs": [
    {
     "ename": "TypeError",
     "evalue": "myb_on_click() takes 0 positional arguments but 1 was given",
     "output_type": "error",
     "traceback": [
      "\u001b[0;31m---------------------------------------------------------------------------\u001b[0m",
      "\u001b[0;31mTypeError\u001b[0m                                 Traceback (most recent call last)",
      "\u001b[0;32m<ipython-input-69-96177382955b>\u001b[0m in \u001b[0;36m<module>\u001b[0;34m()\u001b[0m\n\u001b[1;32m     19\u001b[0m     \u001b[0mupdate_equation\u001b[0m\u001b[0;34m(\u001b[0m\u001b[0;34m)\u001b[0m\u001b[0;34m\u001b[0m\u001b[0m\n\u001b[1;32m     20\u001b[0m     \u001b[0mmath_widget\u001b[0m\u001b[0;34m=\u001b[0m\u001b[0mwidgets\u001b[0m\u001b[0;34m.\u001b[0m\u001b[0mHTMLMath\u001b[0m\u001b[0;34m(\u001b[0m\u001b[0mvalue\u001b[0m\u001b[0;34m=\u001b[0m\u001b[0mget_main_equation_text\u001b[0m\u001b[0;34m(\u001b[0m\u001b[0;34m)\u001b[0m\u001b[0;34m)\u001b[0m\u001b[0;34m\u001b[0m\u001b[0m\n\u001b[0;32m---> 21\u001b[0;31m \u001b[0mmyb\u001b[0m\u001b[0;34m.\u001b[0m\u001b[0mon_click\u001b[0m\u001b[0;34m(\u001b[0m\u001b[0mmyb_on_click\u001b[0m\u001b[0;34m)\u001b[0m\u001b[0;34m\u001b[0m\u001b[0m\n\u001b[0m\u001b[1;32m     22\u001b[0m \u001b[0;34m\u001b[0m\u001b[0m\n\u001b[1;32m     23\u001b[0m display(widgets.VBox([\n",
      "\u001b[0;31mTypeError\u001b[0m: myb_on_click() takes 0 positional arguments but 1 was given"
     ]
    }
   ],
   "source": [
    "#display(widgets.VBox([\n",
    "    #widgets.HBox([bDeprivationPreset,bSatiationPreset,tbSugarPresence]),\n",
    "    #widgets.HBox(ftKappaVals),\n",
    "#    widgets.HBox([widgets.HBox(ftRewardVals),widgets.VBox(ftCueVals)]),\n",
    "#    display(main_equation)]))\n",
    "\n",
    "def f7(myb):\n",
    "    display(main_equation)\n",
    "\n",
    "#get all the controls in the widget\n",
    "#full_control_list=ftKappaVals+[sln for driveset in ftRewardVals[1:] for sln in driveset.children[1:]]+ftCueVals\n",
    "\n",
    "#need to convert it into a bloody dictionary.\n",
    "#equation_out = widgets.interactive_output(f7, full_control_list.to)\n",
    "\n",
    "math_widget=widgets.HTMLMath(value=get_main_equation_text())\n",
    "def myb_on_click():\n",
    "    print(\"clicking\")\n",
    "    update_equation()\n",
    "    math_widget=widgets.HTMLMath(value=get_main_equation_text())\n",
    "myb.on_click(myb_on_click)\n",
    "\n",
    "display(widgets.VBox([\n",
    "    widgets.HBox([bDeprivationPreset,bSatiationPreset,tbSugarPresence,myb]),\n",
    "    widgets.HBox(ftKappaVals),\n",
    "    widgets.HBox([widgets.HBox(ftRewardVals),widgets.VBox(ftCueVals)]),\n",
    "    math_widget]))"
   ]
  },
  {
   "cell_type": "code",
   "execution_count": 49,
   "metadata": {},
   "outputs": [],
   "source": []
  },
  {
   "cell_type": "code",
   "execution_count": 48,
   "metadata": {},
   "outputs": [
    {
     "data": {
      "text/plain": [
       "[FloatText(value=0.5, layout=Layout(width='100px')),\n",
       " FloatText(value=1.0, layout=Layout(width='100px')),\n",
       " FloatText(value=0.0, layout=Layout(width='100px')),\n",
       " FloatText(value=0.0, layout=Layout(width='100px')),\n",
       " FloatText(value=-1.0, layout=Layout(width='100px')),\n",
       " FloatText(value=0.0, layout=Layout(width='100px')),\n",
       " FloatText(value=0.0, layout=Layout(width='100px')),\n",
       " FloatText(value=0.0, layout=Layout(width='100px')),\n",
       " FloatText(value=1.0, layout=Layout(width='100px'))]"
      ]
     },
     "execution_count": 48,
     "metadata": {},
     "output_type": "execute_result"
    }
   ],
   "source": []
  },
  {
   "cell_type": "code",
   "execution_count": 35,
   "metadata": {},
   "outputs": [
    {
     "data": {
      "text/plain": [
       "[FloatText(value=-1.0, description='Na'),\n",
       " FloatText(value=3.0, description='hydration'),\n",
       " FloatText(value=0.5, description='Glucose'),\n",
       " [Label(value='Solution'),\n",
       "  Label(value='Moderate Salt'),\n",
       "  Label(value='Strong Salt'),\n",
       "  Label(value='Sugar')],\n",
       " [Label(value='Na'),\n",
       "  FloatText(value=0.5, layout=Layout(width='100px')),\n",
       "  FloatText(value=1.0, layout=Layout(width='100px')),\n",
       "  FloatText(value=0.0, layout=Layout(width='100px'))],\n",
       " [Label(value='hydration'),\n",
       "  FloatText(value=0.0, layout=Layout(width='100px')),\n",
       "  FloatText(value=-1.0, layout=Layout(width='100px')),\n",
       "  FloatText(value=0.0, layout=Layout(width='100px'))],\n",
       " [Label(value='Glucose'),\n",
       "  FloatText(value=0.0, layout=Layout(width='100px')),\n",
       "  FloatText(value=0.0, layout=Layout(width='100px')),\n",
       "  FloatText(value=1.0, layout=Layout(width='100px'))],\n",
       " FloatText(value=0.0, description='Moderate Salt'),\n",
       " FloatText(value=0.0, description='Strong Salt'),\n",
       " FloatText(value=1.0, description='Sugar')]"
      ]
     },
     "execution_count": 35,
     "metadata": {},
     "output_type": "execute_result"
    }
   ],
   "source": [
    "full_control_list"
   ]
  },
  {
   "cell_type": "code",
   "execution_count": null,
   "metadata": {},
   "outputs": [],
   "source": []
  }
 ],
 "metadata": {
  "kernelspec": {
   "display_name": "Python 3",
   "language": "python",
   "name": "python3"
  },
  "language_info": {
   "codemirror_mode": {
    "name": "ipython",
    "version": 3
   },
   "file_extension": ".py",
   "mimetype": "text/x-python",
   "name": "python",
   "nbconvert_exporter": "python",
   "pygments_lexer": "ipython3",
   "version": "3.6.6"
  }
 },
 "nbformat": 4,
 "nbformat_minor": 2
}
