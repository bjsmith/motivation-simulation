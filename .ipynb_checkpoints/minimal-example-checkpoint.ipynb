{
 "cells": [
  {
   "cell_type": "markdown",
   "metadata": {},
   "source": [
    "# Rat model minimal example\n",
    "\n",
    "\n",
    "## Model objectives\n",
    "\n",
    "This minimal example sets out to solve the following model objectives:\n",
    "\n",
    " - The rat prefers the moderate solution to the strong solution under salt depletion; it may approach the strong solution sometimes, but less often than the moderate solution\n",
    " - The rat prefers the moderate solution to the strong solution under salt satiation (i.e., finds it less aversive)\n",
    " - The rate will take the strong solution under salt depletion if it has no other option\n",
    " - Something representing reward signal will fire for a sugar solution but not a salt solution when there is a need for salt; however, when there is a need for salt, the reward signal will fire regardless\n",
    "\n",
    "## Objectives 1 and 2: multiple stimulus features\n",
    "\n",
    "We can specify the basic model we need to model salt like:\n",
    "\n",
    "\\begin{align}\\label{eq:BasicSaltModelZBVector}\n",
    "\\tilde r(\\mathbf{r},\\mathbf{\\kappa})=& \\mathbf{\\kappa}_{\\text{Na}} \\mathbf{r}_{\\text{Na}}+\\mathbf{\\kappa}_{h} \\mathbf{r}_{h}\n",
    "\\end{align}\n",
    "\n",
    "## Objectives 3: environmental cues\n",
    "To meet Objective 3 above--to show the rat will drink the salty solution if it is salt-depleted and is the only one available--we first need to assume a different weighting of hydration to deprivation. For instance, we can do that by increasing the deprivation/interoceptive state value $\\kappa_{\\text{Na}}$ from 1 to 1.5.\n",
    "\n",
    "Now, in order to make this aspect of the model explicit we need to introduce an extra vector describing environmental cues that elicit responses, $\\mathbf{c}$. Following the S-R-O expectancy valence account given in \\textcite{zhang2009neural}, the extra parameter describes environmental features eliciting a response. \n",
    "\n",
    "Using the new model with our vector representing environmental cues $\\mathbf{c}$, we can predict behavior where there is no cue for a moderate salt solution (Note the use of elementwise multiplication between the matrices using the symbol $\\circ$):\n",
    "\n",
    "$$\n",
    "\\begin{align}\\label{eq:WithCues}\n",
    "\\tilde r(\\mathbf{r},\\mathbf{\\kappa})= & \\mathbf{\\kappa}_{\\textrm{Na}} \\mathbf{r}_\\textrm{Na}\\mathbf{c}+\\mathbf{\\kappa}_{h} \\mathbf{r}_{h}\\mathbf{c} % \\\\\n",
    "% = & 1.5 \\times \\begin{bmatrix}0.5 \\\\ 1.0\\end{bmatrix}\\circ \\begin{bmatrix}0.0 \\\\ 1.0\\end{bmatrix} + 1 \\times \\begin{bmatrix}0.0 \\\\ -1.0\\end{bmatrix}\\circ \\begin{bmatrix}0.0 \\\\ 1.0\\end{bmatrix} \\nonumber \\\\\n",
    "% = & \\begin{bmatrix}0.0 \\\\ 0.5\\end{bmatrix} \\nonumber\n",
    "\\end{align}\n",
    "$$\n",
    "\n",
    "Here, I've modeled $\\mathbf{c}$ as a single vector without a subscript to indicate that we do not expect the cue value to systematically differ for each interoceptive value. This differs from the other documents produced--there, I'd included a subscript, more because I didn't think it through than any other reason.\n",
    "\n",
    "## Objective 4: Sugar\n",
    "\n",
    "The model in Equation~\\ref{eq:BasicSaltModelZBVector} can be extended slightly to account for the evidence discussed in the sugar example in Tindell et al. (2009):\n",
    "\n",
    "\\begin{equation}\\label{eq:SaltSugarModelTindell}\n",
    "\\tilde r(\\mathbf{r},\\mathbf{\\kappa})=\\kappa_{\\text{Na}} r_{\\text{Na}}+\\kappa_{h} r_{h} + \\kappa_{\\text{Glc}} r_{\\text{Glc}}\n",
    "\\end{equation}"
   ]
  },
  {
   "cell_type": "markdown",
   "metadata": {},
   "source": [
    "## Combined Model\n",
    "\n",
    "Combining the models presented above, we obtain the model \n",
    "\n",
    "\\begin{align}\n",
    "\\begin{split}\\label{eq:SaltSugarModelWithCue}\n",
    "\\tilde r(\\mathbf{r},\\mathbf{\\kappa})= & \\kappa_{\\text{Na}} r_{\\text{Na}}\\mathbf{c}+\\kappa_{h} r_{h}\\mathbf{c} + \\kappa_{\\text{Glc}} r_{\\text{Glc}}\\mathbf{c}\n",
    "\\end{split}\n",
    "\\end{align}\n",
    "\n",
    "We can generalize this further by describing an arbitrary number of cue-stimulus-interoception multiplicative terms:\n",
    "\n",
    "\\begin{align}\n",
    "\\tilde r(\\mathbf{r},\\mathbf{\\kappa},\\mathbf{c})= & \\kappa_{1} \\mathbf{r}_{1}\\mathbf{c}+\\dots+\\kappa_{\\text{N}} \\mathbf{r}_{\\text{N}}\\mathbf{c}\n",
    "\\end{align}\n",
    "\n",
    "We can then write a python function to model this equation, and then demonstrate how it handles each situation described above.\n",
    "\n",
    "The function ```multiplicative_term``` forms a python dictionary representing a term with kappa value, r array, and cue array. The function ```SaltSugarModelWithCue``` is simply a python implementation of the $r(\\mathbf{r},\\mathbf{\\kappa},\\mathbf{c})$ function above. It calls ```SaltSugarModelWithCue_SingleTerm```, which is written separately so that it can be used directly to show the working in the equation below."
   ]
  },
  {
   "cell_type": "code",
   "execution_count": 1,
   "metadata": {},
   "outputs": [
    {
     "ename": "NameError",
     "evalue": "name 'term_Na' is not defined",
     "output_type": "error",
     "traceback": [
      "\u001b[0;31m---------------------------------------------------------------------------\u001b[0m",
      "\u001b[0;31mNameError\u001b[0m                                 Traceback (most recent call last)",
      "\u001b[0;32m<ipython-input-1-175f963bb421>\u001b[0m in \u001b[0;36m<module>\u001b[0;34m()\u001b[0m\n\u001b[0;32m----> 1\u001b[0;31m \u001b[0;32mfrom\u001b[0m \u001b[0mminimal_example_interface\u001b[0m \u001b[0;32mimport\u001b[0m \u001b[0;34m*\u001b[0m\u001b[0;34m\u001b[0m\u001b[0m\n\u001b[0m\u001b[1;32m      2\u001b[0m \u001b[0;32mimport\u001b[0m \u001b[0mnumpy\u001b[0m \u001b[0;32mas\u001b[0m \u001b[0mnp\u001b[0m\u001b[0;34m\u001b[0m\u001b[0m\n\u001b[1;32m      3\u001b[0m \u001b[0;34m\u001b[0m\u001b[0m\n\u001b[1;32m      4\u001b[0m \u001b[0;32mdef\u001b[0m \u001b[0mmultiplicative_term\u001b[0m\u001b[0;34m(\u001b[0m\u001b[0mkappa_val\u001b[0m\u001b[0;34m,\u001b[0m\u001b[0mr_array\u001b[0m\u001b[0;34m,\u001b[0m\u001b[0mcue_array\u001b[0m\u001b[0;34m)\u001b[0m\u001b[0;34m:\u001b[0m\u001b[0;34m\u001b[0m\u001b[0m\n\u001b[1;32m      5\u001b[0m     \u001b[0;32massert\u001b[0m\u001b[0;34m(\u001b[0m\u001b[0mtype\u001b[0m\u001b[0;34m(\u001b[0m\u001b[0mkappa_val\u001b[0m\u001b[0;34m)\u001b[0m\u001b[0;34m==\u001b[0m\u001b[0mfloat\u001b[0m \u001b[0;32mor\u001b[0m \u001b[0mtype\u001b[0m\u001b[0;34m(\u001b[0m\u001b[0mkappa_val\u001b[0m\u001b[0;34m)\u001b[0m\u001b[0;34m==\u001b[0m\u001b[0mint\u001b[0m\u001b[0;34m)\u001b[0m\u001b[0;34m\u001b[0m\u001b[0m\n",
      "\u001b[0;32m~/Documents/computational-modeling/motivation-simulation/minimal_example_interface.py\u001b[0m in \u001b[0;36m<module>\u001b[0;34m()\u001b[0m\n\u001b[1;32m    112\u001b[0m \u001b[0;34m\u001b[0m\u001b[0m\n\u001b[1;32m    113\u001b[0m \u001b[0;31m#set up equation\u001b[0m\u001b[0;34m\u001b[0m\u001b[0;34m\u001b[0m\u001b[0m\n\u001b[0;32m--> 114\u001b[0;31m \u001b[0mmath_widget\u001b[0m\u001b[0;34m=\u001b[0m\u001b[0mwidgets\u001b[0m\u001b[0;34m.\u001b[0m\u001b[0mHTMLMath\u001b[0m\u001b[0;34m(\u001b[0m\u001b[0mvalue\u001b[0m\u001b[0;34m=\u001b[0m\u001b[0mget_and_format_main_equation_text\u001b[0m\u001b[0;34m(\u001b[0m\u001b[0mterm_Na\u001b[0m\u001b[0;34m,\u001b[0m\u001b[0mterm_h\u001b[0m\u001b[0;34m,\u001b[0m\u001b[0mterm_Glc\u001b[0m\u001b[0;34m)\u001b[0m\u001b[0;34m)\u001b[0m\u001b[0;34m\u001b[0m\u001b[0m\n\u001b[0m\u001b[1;32m    115\u001b[0m \u001b[0;34m\u001b[0m\u001b[0m\n\u001b[1;32m    116\u001b[0m \u001b[0;31m#set up click events for buttons\u001b[0m\u001b[0;34m\u001b[0m\u001b[0;34m\u001b[0m\u001b[0m\n",
      "\u001b[0;31mNameError\u001b[0m: name 'term_Na' is not defined"
     ]
    }
   ],
   "source": [
    "from minimal_example_interface import *\n",
    "import numpy as np\n",
    "\n",
    "def multiplicative_term(kappa_val,r_array,cue_array):\n",
    "    assert(type(kappa_val)==float or type(kappa_val)==int)\n",
    "    assert(type(r_array)==np.ndarray)\n",
    "    assert(type(cue_array)==np.ndarray)\n",
    "    \n",
    "    return({\"kappa\": kappa_val, \"r\": r_array,\"cue\": cue_array})\n",
    "\n",
    "set_term_function(multiplicative_term)\n",
    "\n",
    "def SaltSugarModelWithCue_SingleTerm(term):\n",
    "    return term['kappa']*term['r']*term['cue']\n",
    "\n",
    "set_singleterm_calculation_function(SaltSugarModelWithCue_SingleTerm)\n",
    "\n",
    "def SaltSugarModelWithCue(term_list):\n",
    "    return sum([SaltSugarModelWithCue_SingleTerm(term) for term in term_list])\n",
    "\n",
    "set_model_calculation_function(SaltSugarModelWithCue)\n",
    "\n"
   ]
  },
  {
   "cell_type": "markdown",
   "metadata": {},
   "source": [
    "We can then create variables to represent each term and then calculate their value:"
   ]
  },
  {
   "cell_type": "code",
   "execution_count": null,
   "metadata": {},
   "outputs": [],
   "source": [
    "cue=np.array([1.0,1.0,0.0])\n",
    "term_Na=multiplicative_term(1,np.array([0.5,1.0,0.0]),cue)\n",
    "term_h=multiplicative_term(1,np.array([0.0,-1.0,0.0]),cue)\n",
    "term_Glc=multiplicative_term(1,np.array([0.0,0.0,1.0]),cue)\n",
    "\n"
   ]
  },
  {
   "cell_type": "markdown",
   "metadata": {},
   "source": [
    "We can write this out mathematically:"
   ]
  },
  {
   "cell_type": "code",
   "execution_count": null,
   "metadata": {},
   "outputs": [],
   "source": [
    "from IPython.display import Markdown\n",
    "\n",
    "\n",
    "\n",
    "Markdown(get_and_format_main_equation_text(term_Na,term_h,term_Glc))"
   ]
  },
  {
   "cell_type": "markdown",
   "metadata": {},
   "source": [
    "You can play with the values yourself here or use the presets to see how values change.\n"
   ]
  },
  {
   "cell_type": "code",
   "execution_count": null,
   "metadata": {},
   "outputs": [],
   "source": [
    "math_widget.value=get_and_format_main_equation_text(term_Na,term_h,term_Glc)\n",
    "\n",
    "\n",
    "display(widgets.VBox([\n",
    "    widgets.HBox([bDeprivationPreset,bSatiationPreset,tbSugarPresence,bResetAll]),\n",
    "    widgets.Label('Interoception ($\\kappa$)'),\n",
    "    widgets.HBox(ftKappaVals),\n",
    "    widgets.HBox([widgets.VBox([widgets.Label(value='Expected reward ($ \\\\tilde r$)'),\n",
    "                                widgets.HBox(ftRewardVals)]),\n",
    "                  widgets.VBox([widgets.Label('Cue Accessibility ($\\mathbf{c}$)')]+ftCueVals)]),\n",
    "    bRecalculate,\n",
    "    math_widget]))"
   ]
  }
 ],
 "metadata": {
  "kernelspec": {
   "display_name": "Python 3",
   "language": "python",
   "name": "python3"
  },
  "language_info": {
   "codemirror_mode": {
    "name": "ipython",
    "version": 3
   },
   "file_extension": ".py",
   "mimetype": "text/x-python",
   "name": "python",
   "nbconvert_exporter": "python",
   "pygments_lexer": "ipython3",
   "version": "3.6.6"
  }
 },
 "nbformat": 4,
 "nbformat_minor": 2
}
