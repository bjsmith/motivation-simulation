{
 "cells": [
  {
   "cell_type": "markdown",
   "metadata": {},
   "source": [
    "# Rat model minimal example\n",
    "\n",
    "\n",
    "## Model objectives\n",
    "\n",
    "This minimal example sets out to solve the following model objectives:\n",
    "\n",
    " 1. The rat prefers the moderate solution to the strong solution under salt depletion; it may approach the strong solution sometimes, but less often than the moderate solution\n",
    " 2. The rat prefers the moderate solution to the strong solution under salt satiation (i.e., finds it less aversive)\n",
    " 3. There will be some wanting for the aversive solution under sufficiently strong salt depletion\n",
    " 4. The rat will take the strong solution under salt depletion if it has no other option\n",
    " 5. Something representing reward signal will fire for a sugar solution but not a salt solution when there is a need for salt; however, when there is a need for salt, the reward signal will fire regardless\n",
    "\n",
    "## Objectives 1 and 2: multiple stimulus features\n",
    "\n",
    "We can specify the basic model we need to model salt like:\n",
    "\n",
    "\\begin{align}\\label{eq:BasicSaltModelZBVector}\n",
    "\\tilde r(\\mathbf{r},\\mathbf{\\kappa})=& \\mathbf{\\kappa}_{\\text{Na}} \\mathbf{r}_{\\text{Na}}+\\mathbf{\\kappa}_{h} \\mathbf{r}_{h}\n",
    "\\end{align}\n",
    "\n",
    "## Objective 3: environmental cues\n",
    "To meet Objective 3 above--to show the rat will drink the strong salty solution if it is sufficiently salt-depleted, though still prefer the moderate solution--we can assume a different weighting of hydration to deprivation. For instance, we can do that by increasing the deprivation/interoceptive state value $\\kappa_{\\text{Na}}$ from 1 to 1.5.\n",
    "\n",
    "## Objective 4: environmental cues\n",
    "\n",
    "To meet Objective 4 above--to show the rat will drink the strong salty solution consistently if it is the only one available, we need to introduce an extra vector describing environmental cues that elicit responses, $\\mathbf{c}$. Following the S-R-O expectancy valence account given in \\textcite{zhang2009neural}, the extra parameter describes environmental features eliciting a response. \n",
    "\n",
    "Using the new model with our vector representing environmental cues $\\mathbf{c}$, we can predict behavior where there is no cue for a moderate salt solution (Note the use of elementwise multiplication between the matrices using the symbol $\\circ$):\n",
    "\n",
    "$$\n",
    "\\begin{align}\\label{eq:WithCues}\n",
    "\\tilde r(\\mathbf{r},\\mathbf{\\kappa})= & \\mathbf{\\kappa}_{\\textrm{Na}} \\mathbf{r}_\\textrm{Na}\\mathbf{c}+\\mathbf{\\kappa}_{h} \\mathbf{r}_{h}\\mathbf{c} % \\\\\n",
    "% = & 1.5 \\times \\begin{bmatrix}0.5 \\\\ 1.0\\end{bmatrix}\\circ \\begin{bmatrix}0.0 \\\\ 1.0\\end{bmatrix} + 1 \\times \\begin{bmatrix}0.0 \\\\ -1.0\\end{bmatrix}\\circ \\begin{bmatrix}0.0 \\\\ 1.0\\end{bmatrix} \\nonumber \\\\\n",
    "% = & \\begin{bmatrix}0.0 \\\\ 0.5\\end{bmatrix} \\nonumber\n",
    "\\end{align}\n",
    "$$\n",
    "\n",
    "Here, I've modeled $\\mathbf{c}$ as a single vector without a subscript to indicate that we do not expect the cue value to systematically differ for each interoceptive value. This differs from the other documents produced--there, I'd included a subscript, more because I didn't think it through than any other reason.\n",
    "\n",
    "## Objective 5: Sugar\n",
    "\n",
    "The model in Equation~\\ref{eq:BasicSaltModelZBVector} can be extended slightly to account for the evidence discussed in the sugar example in Tindell et al. (2009):\n",
    "\n",
    "\\begin{equation}\\label{eq:SaltSugarModelTindell}\n",
    "\\tilde r(\\mathbf{r},\\mathbf{\\kappa})=\\kappa_{\\text{Na}} r_{\\text{Na}}+\\kappa_{h} r_{h} + \\kappa_{\\text{Glc}} r_{\\text{Glc}}\n",
    "\\end{equation}"
   ]
  },
  {
   "cell_type": "markdown",
   "metadata": {},
   "source": [
    "## Combined Model\n",
    "\n",
    "Combining the models presented above, we obtain the model \n",
    "\n",
    "\\begin{align}\n",
    "\\begin{split}\\label{eq:SaltSugarModelWithCue}\n",
    "\\tilde r(\\mathbf{r},\\mathbf{\\kappa})= & \\kappa_{\\text{Na}} r_{\\text{Na}}\\mathbf{c}+\\kappa_{h} r_{h}\\mathbf{c} + \\kappa_{\\text{Glc}} r_{\\text{Glc}}\\mathbf{c}\n",
    "\\end{split}\n",
    "\\end{align}\n",
    "\n",
    "We can generalize this further by describing an arbitrary number of cue-stimulus-interoception multiplicative terms:\n",
    "\n",
    "\\begin{align}\n",
    "\\tilde r(\\mathbf{r},\\mathbf{\\kappa},\\mathbf{c})= & \\kappa_{1} \\mathbf{r}_{1}\\mathbf{c}+\\dots+\\kappa_{\\text{N}} \\mathbf{r}_{\\text{N}}\\mathbf{c}\n",
    "\\end{align}\n",
    "\n",
    "We can then write a python function to model this equation, and then demonstrate how it handles each situation described above.\n",
    "\n",
    "The function ```multiplicative_term``` forms a python dictionary representing a term with kappa value, r array, and cue array. The function ```SaltSugarModelWithCue``` is simply a python implementation of the $r(\\mathbf{r},\\mathbf{\\kappa},\\mathbf{c})$ function above. It calls ```SaltSugarModelWithCue_SingleTerm```, which is written separately so that it can be used directly to show the working in the equation below."
   ]
  },
  {
   "cell_type": "code",
   "execution_count": 1,
   "metadata": {},
   "outputs": [],
   "source": [
    "from minimal_example_interface import *\n",
    "\n",
    "\n",
    "def multiplicative_term(kappa_val,r_array,cue_array):\n",
    "    assert(type(kappa_val)==float or type(kappa_val)==int)\n",
    "    assert(type(r_array)==np.ndarray)\n",
    "    assert(type(cue_array)==np.ndarray)\n",
    "    \n",
    "    return({\"kappa\": kappa_val, \"r\": r_array,\"cue\": cue_array})\n",
    "\n",
    "set_term_function(multiplicative_term)\n",
    "\n",
    "def SaltSugarModelWithCue_SingleTerm(term):\n",
    "    return term['kappa']*term['r']*term['cue']\n",
    "\n",
    "set_singleterm_calculation_function(SaltSugarModelWithCue_SingleTerm)\n",
    "\n",
    "def SaltSugarModelWithCue(term_list):\n",
    "    return sum([SaltSugarModelWithCue_SingleTerm(term) for term in term_list])\n",
    "\n",
    "set_model_calculation_function(SaltSugarModelWithCue)\n",
    "\n"
   ]
  },
  {
   "cell_type": "markdown",
   "metadata": {},
   "source": [
    "We can then create variables to represent each term and then calculate their value:"
   ]
  },
  {
   "cell_type": "code",
   "execution_count": 2,
   "metadata": {},
   "outputs": [],
   "source": [
    "cue=np.array([1.0,1.0,0.0])\n",
    "term_Na=multiplicative_term(1.5,np.array([1.0,1.0,0.0]),cue)\n",
    "term_h=multiplicative_term(1,np.array([0.0,-1.0,0.0]),cue)\n",
    "term_Glc=multiplicative_term(1,np.array([0.0,0.0,1.0]),cue)\n"
   ]
  },
  {
   "cell_type": "markdown",
   "metadata": {},
   "source": [
    "We can write this out mathematically:"
   ]
  },
  {
   "cell_type": "code",
   "execution_count": 3,
   "metadata": {},
   "outputs": [
    {
     "data": {
      "text/markdown": [
       "\n",
       "$$\n",
       "\\begin{align}\n",
       "\\begin{split}\n",
       "\\tilde r(\\mathbf{r},\\mathbf{\\kappa},\\mathbf{c})= & \n",
       "\\kappa_{\\text{Na}} \\mathbf{r}_{\\text{Na}}\\mathbf{c} \n",
       "& + \\kappa_{h} \\mathbf{r}_{h}\\mathbf{c}\n",
       "& + \\kappa_{\\text{Glc}} \\mathbf{r}_{\\text{Glc}}\\mathbf{c} \\\\\n",
       " = & 1.5 \\times \\begin{bmatrix}1.0 \\\\ 1.0 \\\\ 0.0\\end{bmatrix}\\circ \\begin{bmatrix}1.0 \\\\ 1.0 \\\\ 0.0\\end{bmatrix} & + 1 \\times \\begin{bmatrix}0.0 \\\\ -1.0 \\\\ 0.0\\end{bmatrix}\\circ \\begin{bmatrix}1.0 \\\\ 1.0 \\\\ 0.0\\end{bmatrix} & + 1 \\times \\begin{bmatrix}0.0 \\\\ 0.0 \\\\ 1.0\\end{bmatrix}\\circ \\begin{bmatrix}1.0 \\\\ 1.0 \\\\ 0.0\\end{bmatrix} \\\\\n",
       " = & \\begin{bmatrix}1.5 \\\\ 1.5 \\\\ 0.0\\end{bmatrix} & + \\begin{bmatrix}0.0 \\\\ -1.0 \\\\ 0.0\\end{bmatrix} & + \\begin{bmatrix}0.0 \\\\ 0.0 \\\\ 0.0\\end{bmatrix} \\\\\n",
       " = & \\begin{bmatrix}1.5 \\\\ 0.5 \\\\ 0.0\\end{bmatrix} \\begin{matrix} \\textit{Moderate Salt solution}\\\\ \\textit{Strong Salt solution}\\\\ \\textit{Sugar solution} \\end{matrix}\n",
       "\\end{split}\n",
       "\\end{align}\n",
       "$$\n"
      ],
      "text/plain": [
       "<IPython.core.display.Markdown object>"
      ]
     },
     "execution_count": 3,
     "metadata": {},
     "output_type": "execute_result"
    }
   ],
   "source": [
    "Markdown(get_and_format_main_equation_text(term_Na,term_h,term_Glc))"
   ]
  },
  {
   "cell_type": "code",
   "execution_count": null,
   "metadata": {},
   "outputs": [],
   "source": [
    "myb= widgets.Button(description=\"the fun button\")\n",
    "def add_text(b):\n",
    "    txtArea.value = txtArea.value + txtArea.value\n",
    "\n",
    "\n",
    "myb.on_click(add_text)\n",
    "\n",
    "display(myb)"
   ]
  },
  {
   "cell_type": "markdown",
   "metadata": {},
   "source": [
    "You can play with the values yourself here or use the presets to see how values change.\n"
   ]
  },
  {
   "cell_type": "code",
   "execution_count": 4,
   "metadata": {},
   "outputs": [],
   "source": [
    "math_widget.value=get_and_format_main_equation_text(term_Na,term_h,term_Glc)"
   ]
  },
  {
   "cell_type": "code",
   "execution_count": 13,
   "metadata": {},
   "outputs": [
    {
     "data": {
      "application/vnd.jupyter.widget-view+json": {
       "model_id": "b246629865df4f8ebe9ce21d3d677b59",
       "version_major": 2,
       "version_minor": 0
      },
      "text/plain": [
       "Button(description='Salt Deprived', style=ButtonStyle())"
      ]
     },
     "metadata": {},
     "output_type": "display_data"
    }
   ],
   "source": [
    "bDeprivationPreset"
   ]
  },
  {
   "cell_type": "code",
   "execution_count": 5,
   "metadata": {},
   "outputs": [
    {
     "data": {
      "application/vnd.jupyter.widget-view+json": {
       "model_id": "482ffd8b7a944a06ad0aab904390c3cd",
       "version_major": 2,
       "version_minor": 0
      },
      "text/plain": [
       "VBox(children=(HBox(children=(Button(description='Salt Deprived', style=ButtonStyle()), Button(description='Sa…"
      ]
     },
     "metadata": {},
     "output_type": "display_data"
    }
   ],
   "source": []
  },
  {
   "cell_type": "code",
   "execution_count": 6,
   "metadata": {},
   "outputs": [],
   "source": [
    "box_bordered=widgets.Layout(border='solid 1pt black')\n",
    "#     def widget_header(value):\n",
    "#         return widgets.Label(value='### ' + value)\n",
    "    \n",
    "reward_box=widgets.VBox([widgets.Label(value='Expected reward ($ \\\\tilde r$)'),\n",
    "                                widgets.HBox(ftRewardVals)],layout=box_bordered)\n",
    "cue_box=widgets.VBox([widgets.Label('Cue Accessibility ($\\mathbf{c}$)')]+ftCueVals, layout=box_bordered)\n"
   ]
  },
  {
   "cell_type": "markdown",
   "metadata": {},
   "source": [
    "(Hint: Press the 'Recalculate' button to recalculate custom values you entered)"
   ]
  },
  {
   "cell_type": "code",
   "execution_count": 7,
   "metadata": {},
   "outputs": [
    {
     "data": {
      "application/vnd.jupyter.widget-view+json": {
       "model_id": "229308b12277490d8a95537cc6829b46",
       "version_major": 2,
       "version_minor": 0
      },
      "text/plain": [
       "VBox(children=(HBox(children=(Button(description='Salt Deprived', style=ButtonStyle()), Button(description='Sa…"
      ]
     },
     "metadata": {},
     "output_type": "display_data"
    }
   ],
   "source": [
    "widgets.HBox(ftKappaVals)\n"
   ]
  },
  {
   "cell_type": "code",
   "execution_count": 8,
   "metadata": {},
   "outputs": [
    {
     "data": {
      "application/vnd.jupyter.widget-view+json": {
       "model_id": "b242452d25eb4509b913e079c4c2d8a9",
       "version_major": 2,
       "version_minor": 0
      },
      "text/plain": [
       "VBox(children=(HBox(children=(Button(description='Salt Deprived', style=ButtonStyle()), Button(description='Sa…"
      ]
     },
     "metadata": {},
     "output_type": "display_data"
    }
   ],
   "source": [
    "widgets.VBox([\n",
    "    widgets.HBox([bDeprivationPreset,bSatiationPreset,tbSugarPresence,bResetAll]),\n",
    "    widgets.VBox([widgets.Label('Interoception ($\\kappa$)'),\n",
    "                 widgets.HBox(ftKappaVals)],layout=box_bordered),\n",
    "    widgets.HBox([reward_box,cue_box]),\n",
    "    bRecalculate,\n",
    "    math_widget])"
   ]
  },
  {
   "cell_type": "code",
   "execution_count": 9,
   "metadata": {},
   "outputs": [
    {
     "data": {
      "application/vnd.jupyter.widget-view+json": {
       "model_id": "a2c670d8da8c48469bdf1be17550c3fe",
       "version_major": 2,
       "version_minor": 0
      },
      "text/plain": [
       "VBox(children=(Label(value='Expected reward ($ \\\\tilde r$)'), HBox(children=(VBox(children=(Label(value='Solut…"
      ]
     },
     "metadata": {},
     "output_type": "display_data"
    }
   ],
   "source": [
    "reward_box"
   ]
  },
  {
   "cell_type": "code",
   "execution_count": 10,
   "metadata": {},
   "outputs": [
    {
     "data": {
      "application/vnd.jupyter.widget-view+json": {
       "model_id": "a2c670d8da8c48469bdf1be17550c3fe",
       "version_major": 2,
       "version_minor": 0
      },
      "text/plain": [
       "VBox(children=(Label(value='Expected reward ($ \\\\tilde r$)'), HBox(children=(VBox(children=(Label(value='Solut…"
      ]
     },
     "metadata": {},
     "output_type": "display_data"
    }
   ],
   "source": [
    "display(reward_box)"
   ]
  },
  {
   "cell_type": "code",
   "execution_count": 11,
   "metadata": {},
   "outputs": [
    {
     "data": {
      "application/vnd.jupyter.widget-view+json": {
       "model_id": "6d8a03cf1c3b48f8bbe2aa696b0beb3b",
       "version_major": 2,
       "version_minor": 0
      },
      "text/plain": [
       "HBox(children=(Button(description='Salt Deprived', style=ButtonStyle()), Button(description='Salt Satiated', s…"
      ]
     },
     "metadata": {},
     "output_type": "display_data"
    }
   ],
   "source": [
    "widgets.HBox([bDeprivationPreset,bSatiationPreset,tbSugarPresence,bResetAll])"
   ]
  },
  {
   "cell_type": "code",
   "execution_count": 12,
   "metadata": {},
   "outputs": [
    {
     "data": {
      "application/vnd.jupyter.widget-view+json": {
       "model_id": "9fa7607e544547dcb3043f2d83423959",
       "version_major": 2,
       "version_minor": 0
      },
      "text/plain": [
       "HBox(children=(Button(description='Salt Deprived', style=ButtonStyle()), Button(description='Salt Satiated', s…"
      ]
     },
     "metadata": {},
     "output_type": "display_data"
    }
   ],
   "source": [
    "display(widgets.HBox([bDeprivationPreset,bSatiationPreset,tbSugarPresence,bResetAll]))"
   ]
  }
 ],
 "metadata": {
  "kernelspec": {
   "display_name": "Python 3",
   "language": "python",
   "name": "python3"
  },
  "language_info": {
   "codemirror_mode": {
    "name": "ipython",
    "version": 3
   },
   "file_extension": ".py",
   "mimetype": "text/x-python",
   "name": "python",
   "nbconvert_exporter": "python",
   "pygments_lexer": "ipython3",
   "version": "3.6.6"
  }
 },
 "nbformat": 4,
 "nbformat_minor": 2
}
