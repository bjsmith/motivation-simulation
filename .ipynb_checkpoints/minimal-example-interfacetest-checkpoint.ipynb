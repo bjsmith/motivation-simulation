{
 "cells": [
  {
   "cell_type": "code",
   "execution_count": 1,
   "metadata": {},
   "outputs": [
    {
     "data": {
      "application/vnd.jupyter.widget-view+json": {
       "model_id": "8d797356089e4bbfa869eab5c68be1d5",
       "version_major": 2,
       "version_minor": 0
      },
      "text/plain": [
       "Text(value='')"
      ]
     },
     "metadata": {},
     "output_type": "display_data"
    },
    {
     "data": {
      "application/vnd.jupyter.widget-view+json": {
       "model_id": "2892bb48dae448608c43bfaff55895d9",
       "version_major": 2,
       "version_minor": 0
      },
      "text/plain": [
       "Button(description='234', style=ButtonStyle())"
      ]
     },
     "metadata": {},
     "output_type": "display_data"
    }
   ],
   "source": [
    "from ipywidgets import widgets\n",
    "from IPython.display import display\n",
    "from IPython.display import Markdown\n",
    "\n",
    "txtArea = widgets.Text()\n",
    "display(txtArea)\n",
    "\n",
    "myb= widgets.Button(description=\"234\")\n",
    "def add_text(b):\n",
    "    txtArea.value = txtArea.value + txtArea.value\n",
    "\n",
    "\n",
    "myb.on_click(add_text)\n",
    "\n",
    "display(myb)"
   ]
  },
  {
   "cell_type": "markdown",
   "metadata": {},
   "source": [
    "# Rat model minimal example\n",
    "\n",
    "\n",
    "## Model objectives\n",
    "\n",
    "This minimal example sets out to solve the following model objectives:\n",
    "\n",
    " 1. The rat prefers the moderate solution to the strong solution under salt depletion; it may approach the strong solution sometimes, but less often than the moderate solution\n",
    " 2. The rat prefers the moderate solution to the strong solution under salt satiation (i.e., finds it less aversive)\n",
    " 3. There will be some wanting for the aversive solution under sufficiently strong salt depletion\n",
    " 4. The rat will take the strong solution under salt depletion if it has no other option\n",
    " 5. Something representing reward signal will fire for a sugar solution but not a salt solution when there is a need for salt; however, when there is a need for salt, the reward signal will fire regardless\n",
    "\n",
    "## Objectives 1 and 2: multiple stimulus features\n",
    "\n",
    "We can specify the basic model we need to model salt like:\n",
    "\n",
    "\\begin{align}\\label{eq:BasicSaltModelZBVector}\n",
    "\\tilde r(\\mathbf{r},\\mathbf{\\kappa})=& \\mathbf{\\kappa}_{\\text{Na}} \\mathbf{r}_{\\text{Na}}+\\mathbf{\\kappa}_{h} \\mathbf{r}_{h}\n",
    "\\end{align}\n",
    "\n",
    "## Objective 3: environmental cues\n",
    "To meet Objective 3 above--to show the rat will drink the strong salty solution if it is sufficiently salt-depleted, though still prefer the moderate solution--we can assume a different weighting of hydration to deprivation. For instance, we can do that by increasing the deprivation/interoceptive state value $\\kappa_{\\text{Na}}$ from 1 to 1.5.\n",
    "\n",
    "## Objective 4: environmental cues\n",
    "\n",
    "To meet Objective 4 above--to show the rat will drink the strong salty solution consistently if it is the only one available, we need to introduce an extra vector describing environmental cues that elicit responses, $\\mathbf{c}$. Following the S-R-O expectancy valence account given in \\textcite{zhang2009neural}, the extra parameter describes environmental features eliciting a response. \n",
    "\n",
    "Using the new model with our vector representing environmental cues $\\mathbf{c}$, we can predict behavior where there is no cue for a moderate salt solution (Note the use of elementwise multiplication between the matrices using the symbol $\\circ$):\n",
    "\n",
    "$$\n",
    "\\begin{align}\\label{eq:WithCues}\n",
    "\\tilde r(\\mathbf{r},\\mathbf{\\kappa})= & \\mathbf{\\kappa}_{\\textrm{Na}} \\mathbf{r}_\\textrm{Na}\\mathbf{c}+\\mathbf{\\kappa}_{h} \\mathbf{r}_{h}\\mathbf{c} % \\\\\n",
    "% = & 1.5 \\times \\begin{bmatrix}0.5 \\\\ 1.0\\end{bmatrix}\\circ \\begin{bmatrix}0.0 \\\\ 1.0\\end{bmatrix} + 1 \\times \\begin{bmatrix}0.0 \\\\ -1.0\\end{bmatrix}\\circ \\begin{bmatrix}0.0 \\\\ 1.0\\end{bmatrix} \\nonumber \\\\\n",
    "% = & \\begin{bmatrix}0.0 \\\\ 0.5\\end{bmatrix} \\nonumber\n",
    "\\end{align}\n",
    "$$\n",
    "\n",
    "Here, I've modeled $\\mathbf{c}$ as a single vector without a subscript to indicate that we do not expect the cue value to systematically differ for each interoceptive value. This differs from the other documents produced--there, I'd included a subscript, more because I didn't think it through than any other reason.\n",
    "\n",
    "## Objective 5: Sugar\n",
    "\n",
    "The model in Equation~\\ref{eq:BasicSaltModelZBVector} can be extended slightly to account for the evidence discussed in the sugar example in Tindell et al. (2009):\n",
    "\n",
    "\\begin{equation}\\label{eq:SaltSugarModelTindell}\n",
    "\\tilde r(\\mathbf{r},\\mathbf{\\kappa})=\\kappa_{\\text{Na}} r_{\\text{Na}}+\\kappa_{h} r_{h} + \\kappa_{\\text{Glc}} r_{\\text{Glc}}\n",
    "\\end{equation}"
   ]
  },
  {
   "cell_type": "markdown",
   "metadata": {},
   "source": [
    "## Combined Model\n",
    "\n",
    "Combining the models presented above, we obtain the model \n",
    "\n",
    "\\begin{align}\n",
    "\\begin{split}\\label{eq:SaltSugarModelWithCue}\n",
    "\\tilde r(\\mathbf{r},\\mathbf{\\kappa})= & \\kappa_{\\text{Na}} r_{\\text{Na}}\\mathbf{c}+\\kappa_{h} r_{h}\\mathbf{c} + \\kappa_{\\text{Glc}} r_{\\text{Glc}}\\mathbf{c}\n",
    "\\end{split}\n",
    "\\end{align}\n",
    "\n",
    "We can generalize this further by describing an arbitrary number of cue-stimulus-interoception multiplicative terms:\n",
    "\n",
    "\\begin{align}\n",
    "\\tilde r(\\mathbf{r},\\mathbf{\\kappa},\\mathbf{c})= & \\kappa_{1} \\mathbf{r}_{1}\\mathbf{c}+\\dots+\\kappa_{\\text{N}} \\mathbf{r}_{\\text{N}}\\mathbf{c}\n",
    "\\end{align}\n",
    "\n",
    "We can then write a python function to model this equation, and then demonstrate how it handles each situation described above.\n",
    "\n",
    "The function ```multiplicative_term``` forms a python dictionary representing a term with kappa value, r array, and cue array. The function ```SaltSugarModelWithCue``` is simply a python implementation of the $r(\\mathbf{r},\\mathbf{\\kappa},\\mathbf{c})$ function above. It calls ```SaltSugarModelWithCue_SingleTerm```, which is written separately so that it can be used directly to show the working in the equation below."
   ]
  },
  {
   "cell_type": "code",
   "execution_count": 2,
   "metadata": {},
   "outputs": [],
   "source": [
    "from minimal_example_interface import *\n",
    "\n",
    "\n",
    "def multiplicative_term(kappa_val,r_array,cue_array):\n",
    "    assert(type(kappa_val)==float or type(kappa_val)==int)\n",
    "    assert(type(r_array)==np.ndarray)\n",
    "    assert(type(cue_array)==np.ndarray)\n",
    "    \n",
    "    return({\"kappa\": kappa_val, \"r\": r_array,\"cue\": cue_array})\n",
    "\n",
    "set_term_function(multiplicative_term)\n",
    "\n",
    "def SaltSugarModelWithCue_SingleTerm(term):\n",
    "    return term['kappa']*term['r']*term['cue']\n",
    "\n",
    "set_singleterm_calculation_function(SaltSugarModelWithCue_SingleTerm)\n",
    "\n",
    "def SaltSugarModelWithCue(term_list):\n",
    "    return sum([SaltSugarModelWithCue_SingleTerm(term) for term in term_list])\n",
    "\n",
    "set_model_calculation_function(SaltSugarModelWithCue)\n",
    "\n"
   ]
  },
  {
   "cell_type": "markdown",
   "metadata": {},
   "source": [
    "We can then create variables to represent each term and then calculate their value:"
   ]
  },
  {
   "cell_type": "code",
   "execution_count": 3,
   "metadata": {},
   "outputs": [],
   "source": [
    "cue=np.array([1.0,1.0,0.0])\n",
    "term_Na=multiplicative_term(1.5,np.array([1.0,1.0,0.0]),cue)\n",
    "term_h=multiplicative_term(1,np.array([0.0,-1.0,0.0]),cue)\n",
    "term_Glc=multiplicative_term(1,np.array([0.0,0.0,1.0]),cue)\n"
   ]
  },
  {
   "cell_type": "markdown",
   "metadata": {},
   "source": [
    "We can write this out mathematically:"
   ]
  },
  {
   "cell_type": "code",
   "execution_count": 4,
   "metadata": {},
   "outputs": [
    {
     "data": {
      "text/markdown": [
       "\n",
       "$$\n",
       "\\begin{align}\n",
       "\\begin{split}\n",
       "\\tilde r(\\mathbf{r},\\mathbf{\\kappa},\\mathbf{c})= & \n",
       "\\kappa_{\\text{Na}} \\mathbf{r}_{\\text{Na}}\\mathbf{c} \n",
       "& + \\kappa_{h} \\mathbf{r}_{h}\\mathbf{c}\n",
       "& + \\kappa_{\\text{Glc}} \\mathbf{r}_{\\text{Glc}}\\mathbf{c} \\\\\n",
       " = & 1.5 \\times \\begin{bmatrix}1.0 \\\\ 1.0 \\\\ 0.0\\end{bmatrix}\\circ \\begin{bmatrix}1.0 \\\\ 1.0 \\\\ 0.0\\end{bmatrix} & + 1 \\times \\begin{bmatrix}0.0 \\\\ -1.0 \\\\ 0.0\\end{bmatrix}\\circ \\begin{bmatrix}1.0 \\\\ 1.0 \\\\ 0.0\\end{bmatrix} & + 1 \\times \\begin{bmatrix}0.0 \\\\ 0.0 \\\\ 1.0\\end{bmatrix}\\circ \\begin{bmatrix}1.0 \\\\ 1.0 \\\\ 0.0\\end{bmatrix} \\\\\n",
       " = & \\begin{bmatrix}1.5 \\\\ 1.5 \\\\ 0.0\\end{bmatrix} & + \\begin{bmatrix}0.0 \\\\ -1.0 \\\\ 0.0\\end{bmatrix} & + \\begin{bmatrix}0.0 \\\\ 0.0 \\\\ 0.0\\end{bmatrix} \\\\\n",
       " = & \\begin{bmatrix}1.5 \\\\ 0.5 \\\\ 0.0\\end{bmatrix} \\begin{matrix} \\textit{Moderate Salt solution}\\\\ \\textit{Strong Salt solution}\\\\ \\textit{Sugar solution} \\end{matrix}\n",
       "\\end{split}\n",
       "\\end{align}\n",
       "$$\n"
      ],
      "text/plain": [
       "<IPython.core.display.Markdown object>"
      ]
     },
     "execution_count": 4,
     "metadata": {},
     "output_type": "execute_result"
    }
   ],
   "source": [
    "Markdown(get_and_format_main_equation_text(term_Na,term_h,term_Glc))"
   ]
  },
  {
   "cell_type": "code",
   "execution_count": 5,
   "metadata": {},
   "outputs": [
    {
     "data": {
      "application/vnd.jupyter.widget-view+json": {
       "model_id": "76be2fda49f94e57b4a9d987098a706e",
       "version_major": 2,
       "version_minor": 0
      },
      "text/plain": [
       "Button(description='the fun button', style=ButtonStyle())"
      ]
     },
     "metadata": {},
     "output_type": "display_data"
    }
   ],
   "source": [
    "myb= widgets.Button(description=\"the fun button\")\n",
    "def add_text(b):\n",
    "    txtArea.value = txtArea.value + txtArea.value\n",
    "\n",
    "\n",
    "myb.on_click(add_text)\n",
    "\n",
    "display(myb)"
   ]
  },
  {
   "cell_type": "markdown",
   "metadata": {},
   "source": [
    "You can play with the values yourself here or use the presets to see how values change.\n"
   ]
  },
  {
   "cell_type": "code",
   "execution_count": 6,
   "metadata": {},
   "outputs": [],
   "source": [
    "math_widget.value=get_and_format_main_equation_text(term_Na,term_h,term_Glc)"
   ]
  },
  {
   "cell_type": "code",
   "execution_count": 7,
   "metadata": {},
   "outputs": [
    {
     "data": {
      "application/vnd.jupyter.widget-view+json": {
       "model_id": "5541fce21baa43608bdc4d97bc1c749a",
       "version_major": 2,
       "version_minor": 0
      },
      "text/plain": [
       "Button(description='Salt Deprived', style=ButtonStyle())"
      ]
     },
     "metadata": {},
     "output_type": "display_data"
    }
   ],
   "source": [
    "bDeprivationPreset"
   ]
  },
  {
   "cell_type": "code",
   "execution_count": null,
   "metadata": {},
   "outputs": [],
   "source": []
  },
  {
   "cell_type": "code",
   "execution_count": 8,
   "metadata": {},
   "outputs": [],
   "source": [
    "box_bordered=widgets.Layout(border='solid 1pt black')\n",
    "#     def widget_header(value):\n",
    "#         return widgets.Label(value='### ' + value)\n",
    "    \n",
    "reward_box=widgets.VBox([widgets.Label(value='Expected reward ($ \\\\tilde r$)'),\n",
    "                                widgets.HBox(ftRewardVals)],layout=box_bordered)\n",
    "cue_box=widgets.VBox([widgets.Label('Cue Accessibility ($\\mathbf{c}$)')]+ftCueVals, layout=box_bordered)\n"
   ]
  },
  {
   "cell_type": "markdown",
   "metadata": {},
   "source": [
    "(Hint: Press the 'Recalculate' button to recalculate custom values you entered)"
   ]
  },
  {
   "cell_type": "code",
   "execution_count": 9,
   "metadata": {},
   "outputs": [
    {
     "data": {
      "application/vnd.jupyter.widget-view+json": {
       "model_id": "a035c3729738487eae8c91a0e58063e8",
       "version_major": 2,
       "version_minor": 0
      },
      "text/plain": [
       "HBox(children=(FloatText(value=1.5, description='Na'), FloatText(value=1.0, description='hydration'), FloatTex…"
      ]
     },
     "metadata": {},
     "output_type": "display_data"
    }
   ],
   "source": [
    "widgets.HBox(ftKappaVals)\n"
   ]
  },
  {
   "cell_type": "code",
   "execution_count": 10,
   "metadata": {},
   "outputs": [
    {
     "data": {
      "application/vnd.jupyter.widget-view+json": {
       "model_id": "cfa179c6034c4ac1b5c2e3ac36decdbd",
       "version_major": 2,
       "version_minor": 0
      },
      "text/plain": [
       "VBox(children=(HBox(children=(Button(description='Salt Deprived', style=ButtonStyle()), Button(description='Sa…"
      ]
     },
     "metadata": {},
     "output_type": "display_data"
    }
   ],
   "source": [
    "widgets.VBox([\n",
    "    widgets.HBox([bDeprivationPreset,bSatiationPreset,tbSugarPresence,bResetAll]),\n",
    "    widgets.VBox([widgets.Label('Interoception ($\\kappa$)'),\n",
    "                 widgets.HBox(ftKappaVals)],layout=box_bordered),\n",
    "    widgets.HBox([reward_box,cue_box]),\n",
    "    bRecalculate,\n",
    "    math_widget])"
   ]
  },
  {
   "cell_type": "code",
   "execution_count": 11,
   "metadata": {},
   "outputs": [
    {
     "data": {
      "application/vnd.jupyter.widget-view+json": {
       "model_id": "218a0a8f113e404284a6e7fa71f241a6",
       "version_major": 2,
       "version_minor": 0
      },
      "text/plain": [
       "VBox(children=(Label(value='Expected reward ($ \\\\tilde r$)'), HBox(children=(VBox(children=(Label(value='Solut…"
      ]
     },
     "metadata": {},
     "output_type": "display_data"
    }
   ],
   "source": [
    "reward_box"
   ]
  },
  {
   "cell_type": "code",
   "execution_count": 12,
   "metadata": {},
   "outputs": [
    {
     "data": {
      "application/vnd.jupyter.widget-view+json": {
       "model_id": "218a0a8f113e404284a6e7fa71f241a6",
       "version_major": 2,
       "version_minor": 0
      },
      "text/plain": [
       "VBox(children=(Label(value='Expected reward ($ \\\\tilde r$)'), HBox(children=(VBox(children=(Label(value='Solut…"
      ]
     },
     "metadata": {},
     "output_type": "display_data"
    }
   ],
   "source": [
    "display(reward_box)"
   ]
  },
  {
   "cell_type": "code",
   "execution_count": 13,
   "metadata": {},
   "outputs": [
    {
     "data": {
      "application/vnd.jupyter.widget-view+json": {
       "model_id": "809cd4256d194470a3f19b5447901ebc",
       "version_major": 2,
       "version_minor": 0
      },
      "text/plain": [
       "HBox(children=(Button(description='Salt Deprived', style=ButtonStyle()), Button(description='Salt Satiated', s…"
      ]
     },
     "metadata": {},
     "output_type": "display_data"
    }
   ],
   "source": [
    "widgets.HBox([bDeprivationPreset,bSatiationPreset,tbSugarPresence,bResetAll])"
   ]
  },
  {
   "cell_type": "code",
   "execution_count": 14,
   "metadata": {},
   "outputs": [
    {
     "data": {
      "application/vnd.jupyter.widget-view+json": {
       "model_id": "91cbcb6f5e8f4ddfa982191b24d464b3",
       "version_major": 2,
       "version_minor": 0
      },
      "text/plain": [
       "HBox(children=(Button(description='Salt Deprived', style=ButtonStyle()), Button(description='Salt Satiated', s…"
      ]
     },
     "metadata": {},
     "output_type": "display_data"
    }
   ],
   "source": [
    "display(widgets.HBox([bDeprivationPreset,bSatiationPreset,tbSugarPresence,bResetAll]))"
   ]
  }
 ],
 "metadata": {
  "kernelspec": {
   "display_name": "Python 3",
   "language": "python",
   "name": "python3"
  },
  "language_info": {
   "codemirror_mode": {
    "name": "ipython",
    "version": 3
   },
   "file_extension": ".py",
   "mimetype": "text/x-python",
   "name": "python",
   "nbconvert_exporter": "python",
   "pygments_lexer": "ipython3",
   "version": "3.6.6"
  },
  "widgets": {
   "application/vnd.jupyter.widget-state+json": {
    "state": {
     "00dbe0bab95e4d4b807bef997f876f95": {
      "model_module": "@jupyter-widgets/controls",
      "model_module_version": "1.4.0",
      "model_name": "FloatTextModel",
      "state": {
       "layout": "IPY_MODEL_93c349c7b3cb479d9923cd0209126f18",
       "step": null,
       "style": "IPY_MODEL_254baa584d0a4a21957cd91d0b7cd347"
      }
     },
     "01729a428a9c4a64bea4b26dab3f26f2": {
      "model_module": "@jupyter-widgets/base",
      "model_module_version": "1.1.0",
      "model_name": "LayoutModel",
      "state": {}
     },
     "02337232774946bc8385076a3bb93fdc": {
      "model_module": "@jupyter-widgets/controls",
      "model_module_version": "1.4.0",
      "model_name": "ButtonStyleModel",
      "state": {}
     },
     "02da681c3407480796a0369d0b0fafd7": {
      "model_module": "@jupyter-widgets/controls",
      "model_module_version": "1.4.0",
      "model_name": "VBoxModel",
      "state": {
       "children": [
        "IPY_MODEL_f0c41ecd0bec459ebe6d86bac68442d1",
        "IPY_MODEL_ffb64a816607490597896736e10d02af",
        "IPY_MODEL_3ff29f490ed141e484013fc57fbfebf4",
        "IPY_MODEL_1cabb7571faf4a0382d566a0b46d7884",
        "IPY_MODEL_dae343f2b68449b49c1ef0ff28be3f07"
       ],
       "layout": "IPY_MODEL_9450d5447b154284ba583ad02b692785"
      }
     },
     "0323e4347db34f5783dd5d79b0044855": {
      "model_module": "@jupyter-widgets/controls",
      "model_module_version": "1.4.0",
      "model_name": "FloatTextModel",
      "state": {
       "description": "Sugar",
       "layout": "IPY_MODEL_d96e55b60baa419eb3fbfc405cd6d174",
       "step": null,
       "style": "IPY_MODEL_532d833f01054842b5761154105a9399"
      }
     },
     "03875bed5cdf4111bb5e4ba393a975c6": {
      "model_module": "@jupyter-widgets/controls",
      "model_module_version": "1.4.0",
      "model_name": "ButtonStyleModel",
      "state": {}
     },
     "04309eec390f468095a5afc02f09cd3e": {
      "model_module": "@jupyter-widgets/base",
      "model_module_version": "1.1.0",
      "model_name": "LayoutModel",
      "state": {}
     },
     "0432173e22754935a23d81144aa28fca": {
      "model_module": "@jupyter-widgets/controls",
      "model_module_version": "1.4.0",
      "model_name": "FloatTextModel",
      "state": {
       "description": "hydration",
       "layout": "IPY_MODEL_6563d091048542b5b3db7aed697139cf",
       "step": null,
       "style": "IPY_MODEL_a387ffe57fc94c5a9211c881257b005c",
       "value": 1
      }
     },
     "054ac3d5240e4899b6c9234988543928": {
      "model_module": "@jupyter-widgets/controls",
      "model_module_version": "1.4.0",
      "model_name": "DescriptionStyleModel",
      "state": {
       "description_width": ""
      }
     },
     "05514bbc61e34cde99618c944fe760d7": {
      "model_module": "@jupyter-widgets/controls",
      "model_module_version": "1.4.0",
      "model_name": "VBoxModel",
      "state": {
       "children": [
        "IPY_MODEL_64b74235e9a84b54aa20743a45422bb8",
        "IPY_MODEL_44895434814c4cccaa5cdc385ce13b36",
        "IPY_MODEL_2075ba3ddd794886b6a4558f1227d1b5",
        "IPY_MODEL_c0f7c2f28bfa4cf6942684c7e5b05be0"
       ],
       "layout": "IPY_MODEL_5b6580d52a954d2bac350e97f3544e15"
      }
     },
     "080d949cd7b4403fbad30eff8e40e6a3": {
      "model_module": "@jupyter-widgets/base",
      "model_module_version": "1.1.0",
      "model_name": "LayoutModel",
      "state": {}
     },
     "08ba74b54256425c8a06d2aaa5124532": {
      "model_module": "@jupyter-widgets/controls",
      "model_module_version": "1.4.0",
      "model_name": "VBoxModel",
      "state": {
       "children": [
        "IPY_MODEL_9f26cbf38cd04ebcbb208900c5984e2f",
        "IPY_MODEL_de8035ff85254cc2a47a54e1954c89a2",
        "IPY_MODEL_ae80b906fd5847a7966f8fae25b42e05",
        "IPY_MODEL_b1ba797d3ea0420abbb6cb3de5bcba3b"
       ],
       "layout": "IPY_MODEL_7da85940a3eb4883af846331cb9adc34"
      }
     },
     "08ee656fb78445c79843899c53725b4d": {
      "model_module": "@jupyter-widgets/controls",
      "model_module_version": "1.4.0",
      "model_name": "FloatTextModel",
      "state": {
       "layout": "IPY_MODEL_46433d3b6e974c15aaca75920084a033",
       "step": null,
       "style": "IPY_MODEL_c37ab586df1a43acb92591ba57f6811f"
      }
     },
     "099b9a0c56fe4b018876e0b0814fb5cf": {
      "model_module": "@jupyter-widgets/controls",
      "model_module_version": "1.4.0",
      "model_name": "LabelModel",
      "state": {
       "layout": "IPY_MODEL_38ec7b6afbf649ceb3fe6d7405f56d3e",
       "style": "IPY_MODEL_0c2421c0bb07490185b49a57f59bfb9a",
       "value": "Interoception ($\\kappa$)"
      }
     },
     "0a5c2ea9032c44e7b5982d5825909a93": {
      "model_module": "@jupyter-widgets/base",
      "model_module_version": "1.1.0",
      "model_name": "LayoutModel",
      "state": {}
     },
     "0a6970adb6ce47adbd2bfd29f1281b25": {
      "model_module": "@jupyter-widgets/controls",
      "model_module_version": "1.4.0",
      "model_name": "DescriptionStyleModel",
      "state": {
       "description_width": ""
      }
     },
     "0c12438d3f364edc861011c688255caa": {
      "model_module": "@jupyter-widgets/controls",
      "model_module_version": "1.4.0",
      "model_name": "DescriptionStyleModel",
      "state": {
       "description_width": ""
      }
     },
     "0c2421c0bb07490185b49a57f59bfb9a": {
      "model_module": "@jupyter-widgets/controls",
      "model_module_version": "1.4.0",
      "model_name": "DescriptionStyleModel",
      "state": {
       "description_width": ""
      }
     },
     "0cdfabe9b4a84c4dbcdefc1f2b8cae82": {
      "model_module": "@jupyter-widgets/controls",
      "model_module_version": "1.4.0",
      "model_name": "DescriptionStyleModel",
      "state": {
       "description_width": ""
      }
     },
     "0cfeeffa150f4aa58985872f44003373": {
      "model_module": "@jupyter-widgets/controls",
      "model_module_version": "1.4.0",
      "model_name": "DescriptionStyleModel",
      "state": {
       "description_width": ""
      }
     },
     "0d9237f9e12b49b8b90fb0c3cd2462bf": {
      "model_module": "@jupyter-widgets/controls",
      "model_module_version": "1.4.0",
      "model_name": "ButtonModel",
      "state": {
       "description": "234",
       "layout": "IPY_MODEL_491452f8797f4d1e8ed89eddc9bdbcec",
       "style": "IPY_MODEL_3eac5a0727864d5295261358ca987e42"
      }
     },
     "0de3f8e3bdc84614b94da545ac3a0022": {
      "model_module": "@jupyter-widgets/controls",
      "model_module_version": "1.4.0",
      "model_name": "DescriptionStyleModel",
      "state": {
       "description_width": ""
      }
     },
     "0eb46b206db040cf88b8d2d6c86c32ae": {
      "model_module": "@jupyter-widgets/controls",
      "model_module_version": "1.4.0",
      "model_name": "FloatTextModel",
      "state": {
       "layout": "IPY_MODEL_c78fb0e6d4df406ab7142ab9094704b4",
       "step": null,
       "style": "IPY_MODEL_b5be984d68d941a4966bbb127f2a0d3a"
      }
     },
     "0ece8e25f13f4b4888eedd8adf6338ce": {
      "model_module": "@jupyter-widgets/base",
      "model_module_version": "1.1.0",
      "model_name": "LayoutModel",
      "state": {
       "width": "100px"
      }
     },
     "0f5313223aba42de98153dc0e17cb812": {
      "model_module": "@jupyter-widgets/base",
      "model_module_version": "1.1.0",
      "model_name": "LayoutModel",
      "state": {}
     },
     "0feefaee885a4e2da17aea3b481b2b7a": {
      "model_module": "@jupyter-widgets/controls",
      "model_module_version": "1.4.0",
      "model_name": "HBoxModel",
      "state": {
       "children": [
        "IPY_MODEL_218a0a8f113e404284a6e7fa71f241a6",
        "IPY_MODEL_a4a5f8b8afc74f34a95f57e614699d43"
       ],
       "layout": "IPY_MODEL_ac880d8203fc4069b14fca32b7a892aa"
      }
     },
     "117fd7d14f4e4df081942cda9574f0c6": {
      "model_module": "@jupyter-widgets/controls",
      "model_module_version": "1.4.0",
      "model_name": "ButtonStyleModel",
      "state": {}
     },
     "12db119bc3c346dcbd58411623fcdfd7": {
      "model_module": "@jupyter-widgets/controls",
      "model_module_version": "1.4.0",
      "model_name": "HBoxModel",
      "state": {
       "children": [
        "IPY_MODEL_80c58ade0ad84c5ba86371a32cc0dfd6",
        "IPY_MODEL_8cff2db51e9e47e4b80bc484f8403c87"
       ],
       "layout": "IPY_MODEL_782031e0ba8f406ea6d9d9ac765a3717"
      }
     },
     "13280179b68d42299fd7c8d241a69e61": {
      "model_module": "@jupyter-widgets/base",
      "model_module_version": "1.1.0",
      "model_name": "LayoutModel",
      "state": {}
     },
     "1365afb0242344c7b99babc85e115608": {
      "model_module": "@jupyter-widgets/controls",
      "model_module_version": "1.4.0",
      "model_name": "VBoxModel",
      "state": {
       "children": [
        "IPY_MODEL_c0c77f4aa0854c3082d74285a708fe3d",
        "IPY_MODEL_c0373f704f5f4727b10ed5ff291e8282"
       ],
       "layout": "IPY_MODEL_5908fc88edc24e9bb0f96dcd5144ded0"
      }
     },
     "13d97ef755d44f47bed1a5ffc19d52c1": {
      "model_module": "@jupyter-widgets/controls",
      "model_module_version": "1.4.0",
      "model_name": "DescriptionStyleModel",
      "state": {
       "description_width": ""
      }
     },
     "14051994c4cf48d499e2caa0b9abb600": {
      "model_module": "@jupyter-widgets/controls",
      "model_module_version": "1.4.0",
      "model_name": "DescriptionStyleModel",
      "state": {
       "description_width": ""
      }
     },
     "15c4a9dcd04d49d4a1839b2d085011c0": {
      "model_module": "@jupyter-widgets/controls",
      "model_module_version": "1.4.0",
      "model_name": "DescriptionStyleModel",
      "state": {
       "description_width": ""
      }
     },
     "1699129863af4d2a9588e474341a92f4": {
      "model_module": "@jupyter-widgets/controls",
      "model_module_version": "1.4.0",
      "model_name": "LabelModel",
      "state": {
       "layout": "IPY_MODEL_95f5891bd3c04d51b2975d9c2d5a61c6",
       "style": "IPY_MODEL_898ce9ff61fc48e29be031f0968e156f",
       "value": "Cue Accessibility ($\\mathbf{c}$)"
      }
     },
     "16da70081fbf471392a56281d00edf65": {
      "model_module": "@jupyter-widgets/controls",
      "model_module_version": "1.4.0",
      "model_name": "DescriptionStyleModel",
      "state": {
       "description_width": ""
      }
     },
     "16f0136e36904892a6ea711168badfbf": {
      "model_module": "@jupyter-widgets/base",
      "model_module_version": "1.1.0",
      "model_name": "LayoutModel",
      "state": {
       "width": "100px"
      }
     },
     "18eecc81142e4ce1b62d5bfcf4ea23f0": {
      "model_module": "@jupyter-widgets/controls",
      "model_module_version": "1.4.0",
      "model_name": "DescriptionStyleModel",
      "state": {
       "description_width": ""
      }
     },
     "193cf00e59a14978988ad63e0aa0dca9": {
      "model_module": "@jupyter-widgets/controls",
      "model_module_version": "1.4.0",
      "model_name": "DescriptionStyleModel",
      "state": {
       "description_width": ""
      }
     },
     "19c9675276c64c5caae5958dc4a81e80": {
      "model_module": "@jupyter-widgets/controls",
      "model_module_version": "1.4.0",
      "model_name": "FloatTextModel",
      "state": {
       "description": "Moderate Salt",
       "layout": "IPY_MODEL_bed81a14d12e40e2ba05b23ddfce300a",
       "step": null,
       "style": "IPY_MODEL_22c84cf580c54fb9b853acb88a4dc1c6",
       "value": 1
      }
     },
     "1b5a0dec595545d6ad4b77a73e2fac86": {
      "model_module": "@jupyter-widgets/base",
      "model_module_version": "1.1.0",
      "model_name": "LayoutModel",
      "state": {}
     },
     "1c79adf4c4f4489bb27c5d58416c52f3": {
      "model_module": "@jupyter-widgets/base",
      "model_module_version": "1.1.0",
      "model_name": "LayoutModel",
      "state": {}
     },
     "1cabb7571faf4a0382d566a0b46d7884": {
      "model_module": "@jupyter-widgets/controls",
      "model_module_version": "1.4.0",
      "model_name": "ButtonModel",
      "state": {
       "description": "Recalculate",
       "layout": "IPY_MODEL_8311e25e90a54fee8145c9c0cf89336c",
       "style": "IPY_MODEL_a52167a10eb74f58ad15bdd5341f6cb6"
      }
     },
     "1dae6a2eef7f41e2967e99e8b4152979": {
      "model_module": "@jupyter-widgets/controls",
      "model_module_version": "1.4.0",
      "model_name": "VBoxModel",
      "state": {
       "children": [
        "IPY_MODEL_fb0c5e3a85234b15ba4b7c227396b76e",
        "IPY_MODEL_6a4dd10a912b4cdaa00013bf4b40456c"
       ],
       "layout": "IPY_MODEL_20aa14eb31584a2991781949e3ed5d94"
      }
     },
     "1e4e46e4c31c46b9b8317d4b1c2e9ad2": {
      "model_module": "@jupyter-widgets/controls",
      "model_module_version": "1.4.0",
      "model_name": "LabelModel",
      "state": {
       "layout": "IPY_MODEL_b48ddb471ddf4c8591db6d067321e364",
       "style": "IPY_MODEL_13d97ef755d44f47bed1a5ffc19d52c1",
       "value": "Interoception ($\\kappa$)"
      }
     },
     "1e6192a9eda542558ee85c3775200033": {
      "model_module": "@jupyter-widgets/controls",
      "model_module_version": "1.4.0",
      "model_name": "DescriptionStyleModel",
      "state": {
       "description_width": ""
      }
     },
     "1e807b2f4c904ce4a1c3c890d6767d32": {
      "model_module": "@jupyter-widgets/base",
      "model_module_version": "1.1.0",
      "model_name": "LayoutModel",
      "state": {}
     },
     "1e9fbd4da40c4b08bb2fcad573276afd": {
      "model_module": "@jupyter-widgets/controls",
      "model_module_version": "1.4.0",
      "model_name": "FloatTextModel",
      "state": {
       "description": "Strong Salt",
       "layout": "IPY_MODEL_51fa1945c76f4f55bee3c32d53fa0509",
       "step": null,
       "style": "IPY_MODEL_33c1af228be2441e962238a1325a6d8d",
       "value": 1
      }
     },
     "1ef622f646b546e7bed47015062c998f": {
      "model_module": "@jupyter-widgets/base",
      "model_module_version": "1.1.0",
      "model_name": "LayoutModel",
      "state": {}
     },
     "2075ba3ddd794886b6a4558f1227d1b5": {
      "model_module": "@jupyter-widgets/controls",
      "model_module_version": "1.4.0",
      "model_name": "LabelModel",
      "state": {
       "layout": "IPY_MODEL_a68361e3d6c74fd8a7a9557dc9714b57",
       "style": "IPY_MODEL_964cd3e79cfa4fceb2d04c43dec339e5",
       "value": "Strong Salt"
      }
     },
     "20aa14eb31584a2991781949e3ed5d94": {
      "model_module": "@jupyter-widgets/base",
      "model_module_version": "1.1.0",
      "model_name": "LayoutModel",
      "state": {
       "border": "solid 1pt black"
      }
     },
     "218a0a8f113e404284a6e7fa71f241a6": {
      "model_module": "@jupyter-widgets/controls",
      "model_module_version": "1.4.0",
      "model_name": "VBoxModel",
      "state": {
       "children": [
        "IPY_MODEL_b77f4c608426491e83a4c140f29e7b08",
        "IPY_MODEL_2fc09ad8b2644bb19dfd0be01d87f9cb"
       ],
       "layout": "IPY_MODEL_55cf85310ad04a9ba4d4183109843a3c"
      }
     },
     "229308b12277490d8a95537cc6829b46": {
      "model_module": "@jupyter-widgets/controls",
      "model_module_version": "1.4.0",
      "model_name": "VBoxModel",
      "state": {
       "children": [
        "IPY_MODEL_76d5e9aa2e9b4fdc887ffe4980893b9f",
        "IPY_MODEL_1dae6a2eef7f41e2967e99e8b4152979",
        "IPY_MODEL_a7e69803fc6442b89386c5ba0b14722b",
        "IPY_MODEL_6c32f6bdad76487e9b1df97012395edc",
        "IPY_MODEL_de0ab60544794214b9f4161966ab2ab7"
       ],
       "layout": "IPY_MODEL_d2ce86a30f6e4ea0b861231549604c5e"
      }
     },
     "22c84cf580c54fb9b853acb88a4dc1c6": {
      "model_module": "@jupyter-widgets/controls",
      "model_module_version": "1.4.0",
      "model_name": "DescriptionStyleModel",
      "state": {
       "description_width": ""
      }
     },
     "230f6381f49b4c61b17e14c4551681ee": {
      "model_module": "@jupyter-widgets/controls",
      "model_module_version": "1.4.0",
      "model_name": "DescriptionStyleModel",
      "state": {
       "description_width": ""
      }
     },
     "232704df18944dc5921cf5eeaa340649": {
      "model_module": "@jupyter-widgets/base",
      "model_module_version": "1.1.0",
      "model_name": "LayoutModel",
      "state": {}
     },
     "24a43b59679c441882222256a9ab2c89": {
      "model_module": "@jupyter-widgets/controls",
      "model_module_version": "1.4.0",
      "model_name": "FloatTextModel",
      "state": {
       "description": "Sugar",
       "layout": "IPY_MODEL_d4f1411d3c914923807cc90c98e1fa4e",
       "step": null,
       "style": "IPY_MODEL_d313a59b3fd94a9da077ae52dfb3db42"
      }
     },
     "24b665f45fa0486ea2a0250a144753cb": {
      "model_module": "@jupyter-widgets/base",
      "model_module_version": "1.1.0",
      "model_name": "LayoutModel",
      "state": {
       "width": "100px"
      }
     },
     "24ddd1ce5c97415b98afe9fe223f9605": {
      "model_module": "@jupyter-widgets/base",
      "model_module_version": "1.1.0",
      "model_name": "LayoutModel",
      "state": {}
     },
     "254baa584d0a4a21957cd91d0b7cd347": {
      "model_module": "@jupyter-widgets/controls",
      "model_module_version": "1.4.0",
      "model_name": "DescriptionStyleModel",
      "state": {
       "description_width": ""
      }
     },
     "25d863f01b4a4e3b825419166dffb0a7": {
      "model_module": "@jupyter-widgets/controls",
      "model_module_version": "1.4.0",
      "model_name": "HBoxModel",
      "state": {
       "children": [
        "IPY_MODEL_a81507617c6646dfa749634de2300d8b",
        "IPY_MODEL_4659af5d324d447993cb4ad27a52bc5a",
        "IPY_MODEL_89f9834c6474459e827a6d2eefa9bd4e"
       ],
       "layout": "IPY_MODEL_40fb34a25add4a708a4b1f1a27c1a18c"
      }
     },
     "265e4779b6d24ede871b1144917a551f": {
      "model_module": "@jupyter-widgets/controls",
      "model_module_version": "1.4.0",
      "model_name": "HBoxModel",
      "state": {
       "children": [
        "IPY_MODEL_3b54237091094ee3a5be23e4cb149d5c",
        "IPY_MODEL_a716c33436b842ab9cd05ea3439262b7",
        "IPY_MODEL_08ba74b54256425c8a06d2aaa5124532",
        "IPY_MODEL_51ba41cb86a4447592d94e15a1317c04"
       ],
       "layout": "IPY_MODEL_0a5c2ea9032c44e7b5982d5825909a93"
      }
     },
     "27acce565f3e40dcb402d055e7160ab3": {
      "model_module": "@jupyter-widgets/base",
      "model_module_version": "1.1.0",
      "model_name": "LayoutModel",
      "state": {}
     },
     "2892bb48dae448608c43bfaff55895d9": {
      "model_module": "@jupyter-widgets/controls",
      "model_module_version": "1.4.0",
      "model_name": "ButtonModel",
      "state": {
       "description": "234",
       "layout": "IPY_MODEL_fd3f6896a91443bc8fd6394456a086a2",
       "style": "IPY_MODEL_f60a9237451a4fb3b9c5dfaa22183aa8"
      }
     },
     "295f9b90c705411c9d43806b6ceaded0": {
      "model_module": "@jupyter-widgets/controls",
      "model_module_version": "1.4.0",
      "model_name": "DescriptionStyleModel",
      "state": {
       "description_width": ""
      }
     },
     "2ab1348403404975910c7601ccdbe2f8": {
      "model_module": "@jupyter-widgets/base",
      "model_module_version": "1.1.0",
      "model_name": "LayoutModel",
      "state": {
       "width": "100px"
      }
     },
     "2b311871b5bf41a3854167fcc6bb8ae8": {
      "model_module": "@jupyter-widgets/controls",
      "model_module_version": "1.4.0",
      "model_name": "DescriptionStyleModel",
      "state": {
       "description_width": ""
      }
     },
     "2b6a9cd0b7a54616b9ece09a43330050": {
      "model_module": "@jupyter-widgets/controls",
      "model_module_version": "1.4.0",
      "model_name": "DescriptionStyleModel",
      "state": {
       "description_width": ""
      }
     },
     "2c1858720c55485da9acdd7412b894b6": {
      "model_module": "@jupyter-widgets/base",
      "model_module_version": "1.1.0",
      "model_name": "LayoutModel",
      "state": {}
     },
     "2cecaace39834b34bbd6228042a4a8ac": {
      "model_module": "@jupyter-widgets/controls",
      "model_module_version": "1.4.0",
      "model_name": "LabelModel",
      "state": {
       "layout": "IPY_MODEL_719c190c5a494a3f8010792555526622",
       "style": "IPY_MODEL_295f9b90c705411c9d43806b6ceaded0",
       "value": "Na"
      }
     },
     "2d6600e06b404544b434b7cfc066be38": {
      "model_module": "@jupyter-widgets/base",
      "model_module_version": "1.1.0",
      "model_name": "LayoutModel",
      "state": {}
     },
     "2eac96b9a7e74efeb1e49d419808bc37": {
      "model_module": "@jupyter-widgets/controls",
      "model_module_version": "1.4.0",
      "model_name": "DescriptionStyleModel",
      "state": {
       "description_width": ""
      }
     },
     "2fc09ad8b2644bb19dfd0be01d87f9cb": {
      "model_module": "@jupyter-widgets/controls",
      "model_module_version": "1.4.0",
      "model_name": "HBoxModel",
      "state": {
       "children": [
        "IPY_MODEL_05514bbc61e34cde99618c944fe760d7",
        "IPY_MODEL_a22bc9c9c3284c39a266184017b113b6",
        "IPY_MODEL_be02cd7e14784f6899b67ad1d5da9208",
        "IPY_MODEL_4f88f60021ca4716ae34ff0a9958b8a2"
       ],
       "layout": "IPY_MODEL_af07ce2de99647bb9ea41362481a663b"
      }
     },
     "2fd61f793fff4eecaf08f2c84964c04c": {
      "model_module": "@jupyter-widgets/base",
      "model_module_version": "1.1.0",
      "model_name": "LayoutModel",
      "state": {}
     },
     "302cbd5cb1d64bb0937304b353599c77": {
      "model_module": "@jupyter-widgets/base",
      "model_module_version": "1.1.0",
      "model_name": "LayoutModel",
      "state": {}
     },
     "305bc9b8200c491e80851fcfe3d257e1": {
      "model_module": "@jupyter-widgets/base",
      "model_module_version": "1.1.0",
      "model_name": "LayoutModel",
      "state": {}
     },
     "31844c2de1994e6cb928f6a91c47b0a1": {
      "model_module": "@jupyter-widgets/base",
      "model_module_version": "1.1.0",
      "model_name": "LayoutModel",
      "state": {}
     },
     "31c68bce438e40258e9786341eaa8295": {
      "model_module": "@jupyter-widgets/base",
      "model_module_version": "1.1.0",
      "model_name": "LayoutModel",
      "state": {}
     },
     "32a4fa2fad2b4828920473782fefc0fa": {
      "model_module": "@jupyter-widgets/base",
      "model_module_version": "1.1.0",
      "model_name": "LayoutModel",
      "state": {}
     },
     "32b78f8b2e904ed3a77896a3cd92f344": {
      "model_module": "@jupyter-widgets/controls",
      "model_module_version": "1.4.0",
      "model_name": "FloatTextModel",
      "state": {
       "description": "Moderate Salt",
       "layout": "IPY_MODEL_94c38d2abc9e42b1904ac10947850664",
       "step": null,
       "style": "IPY_MODEL_94eed5792bb7427c9fb3c68d3962b173",
       "value": 1
      }
     },
     "330dfe29b6764eaab22c4c3daae10bad": {
      "model_module": "@jupyter-widgets/base",
      "model_module_version": "1.1.0",
      "model_name": "LayoutModel",
      "state": {}
     },
     "33c1af228be2441e962238a1325a6d8d": {
      "model_module": "@jupyter-widgets/controls",
      "model_module_version": "1.4.0",
      "model_name": "DescriptionStyleModel",
      "state": {
       "description_width": ""
      }
     },
     "34a2dbb6cb7a465a93e4af531c4a1117": {
      "model_module": "@jupyter-widgets/controls",
      "model_module_version": "1.4.0",
      "model_name": "LabelModel",
      "state": {
       "layout": "IPY_MODEL_2c1858720c55485da9acdd7412b894b6",
       "style": "IPY_MODEL_96b06bd2d67d49989e6319fe12aeef18",
       "value": "Sugar"
      }
     },
     "34e12896ce9449c18ed7a57be5c20a0e": {
      "model_module": "@jupyter-widgets/base",
      "model_module_version": "1.1.0",
      "model_name": "LayoutModel",
      "state": {}
     },
     "352cc23c2b474f57ba8bf69735223a9b": {
      "model_module": "@jupyter-widgets/controls",
      "model_module_version": "1.4.0",
      "model_name": "FloatTextModel",
      "state": {
       "layout": "IPY_MODEL_16f0136e36904892a6ea711168badfbf",
       "step": null,
       "style": "IPY_MODEL_3f511d345d2a42d390615765f234d2bb",
       "value": 1
      }
     },
     "35a6298983f74e5983e13cd223e09948": {
      "model_module": "@jupyter-widgets/controls",
      "model_module_version": "1.4.0",
      "model_name": "ButtonModel",
      "state": {
       "description": "the fun button",
       "layout": "IPY_MODEL_3e3e50e490c84185965ae7c50c88ef44",
       "style": "IPY_MODEL_388b3843c98f495f90125908cd4cedc7"
      }
     },
     "36ae1b219af64c84b4692c434f38b40a": {
      "model_module": "@jupyter-widgets/base",
      "model_module_version": "1.1.0",
      "model_name": "LayoutModel",
      "state": {}
     },
     "382388228d824152b310d624d20c8efe": {
      "model_module": "@jupyter-widgets/controls",
      "model_module_version": "1.4.0",
      "model_name": "LabelModel",
      "state": {
       "layout": "IPY_MODEL_a37a77bc37364173b8216c02d49238f5",
       "style": "IPY_MODEL_9960d15428d5450b83718c7413c662b8",
       "value": "Na"
      }
     },
     "3832c9a701f34cca84ab2523b1e8279f": {
      "model_module": "@jupyter-widgets/controls",
      "model_module_version": "1.4.0",
      "model_name": "DescriptionStyleModel",
      "state": {
       "description_width": ""
      }
     },
     "388b3843c98f495f90125908cd4cedc7": {
      "model_module": "@jupyter-widgets/controls",
      "model_module_version": "1.4.0",
      "model_name": "ButtonStyleModel",
      "state": {}
     },
     "38ec7b6afbf649ceb3fe6d7405f56d3e": {
      "model_module": "@jupyter-widgets/base",
      "model_module_version": "1.1.0",
      "model_name": "LayoutModel",
      "state": {}
     },
     "39eabe13dbc64353af7d83b2a086693e": {
      "model_module": "@jupyter-widgets/controls",
      "model_module_version": "1.4.0",
      "model_name": "FloatTextModel",
      "state": {
       "layout": "IPY_MODEL_64693a69b7b2438d91374415bce0abb1",
       "step": null,
       "style": "IPY_MODEL_8b58ee0fd99e406684533657d22d858e"
      }
     },
     "3aff461304cd404caa02c1b39e3f808b": {
      "model_module": "@jupyter-widgets/base",
      "model_module_version": "1.1.0",
      "model_name": "LayoutModel",
      "state": {}
     },
     "3b4f9e1120924e09a4e8f49b71659c27": {
      "model_module": "@jupyter-widgets/controls",
      "model_module_version": "1.4.0",
      "model_name": "DescriptionStyleModel",
      "state": {
       "description_width": ""
      }
     },
     "3b54237091094ee3a5be23e4cb149d5c": {
      "model_module": "@jupyter-widgets/controls",
      "model_module_version": "1.4.0",
      "model_name": "VBoxModel",
      "state": {
       "children": [
        "IPY_MODEL_d8f24bf054534271b5f0ec10d045ba78",
        "IPY_MODEL_97bff80c4be74cb5b1cf231a00f72ecc",
        "IPY_MODEL_d20ea6513e35405f8f79b824474537a8",
        "IPY_MODEL_34a2dbb6cb7a465a93e4af531c4a1117"
       ],
       "layout": "IPY_MODEL_c2ff63cb6ab048288f1b135f5bc7e571"
      }
     },
     "3b5ba5ed363c4669a865db00d31fe4fc": {
      "model_module": "@jupyter-widgets/controls",
      "model_module_version": "1.4.0",
      "model_name": "HBoxModel",
      "state": {
       "children": [
        "IPY_MODEL_79f7b091b7d74efaa44854439cae657b",
        "IPY_MODEL_849cc7ef13f74f789b35c8912a44b9ff",
        "IPY_MODEL_4929f97ef6bb45c182447e3eca347aba"
       ],
       "layout": "IPY_MODEL_91aa8a3e204a4ba5b2199d11fec2cecd"
      }
     },
     "3b95b9071f3741a1a2bbc9dc5937f5c5": {
      "model_module": "@jupyter-widgets/base",
      "model_module_version": "1.1.0",
      "model_name": "LayoutModel",
      "state": {}
     },
     "3c17141253874795b6b9c5558c536ecc": {
      "model_module": "@jupyter-widgets/controls",
      "model_module_version": "1.4.0",
      "model_name": "LabelModel",
      "state": {
       "layout": "IPY_MODEL_e697495293ac451381aa576e71def93e",
       "style": "IPY_MODEL_7ff2f19331e74fb480e9c4229933ab2f",
       "value": "Glucose"
      }
     },
     "3c7a343be52c4c26bdca1cb06d871c1a": {
      "model_module": "@jupyter-widgets/controls",
      "model_module_version": "1.4.0",
      "model_name": "HBoxModel",
      "state": {
       "children": [
        "IPY_MODEL_e69f3e3709274c7c87213059bccfb528",
        "IPY_MODEL_0432173e22754935a23d81144aa28fca",
        "IPY_MODEL_aba505dadc6347b483cf4409284706df"
       ],
       "layout": "IPY_MODEL_1ef622f646b546e7bed47015062c998f"
      }
     },
     "3d5149aeb3fe4066907d514e95a5f6c6": {
      "model_module": "@jupyter-widgets/base",
      "model_module_version": "1.1.0",
      "model_name": "LayoutModel",
      "state": {}
     },
     "3d70ede429e443ad9d2dd461dfa3a058": {
      "model_module": "@jupyter-widgets/controls",
      "model_module_version": "1.4.0",
      "model_name": "FloatTextModel",
      "state": {
       "layout": "IPY_MODEL_6a52df7f7ae44f708fdeb7bce2a4740d",
       "step": null,
       "style": "IPY_MODEL_b66e5059115a45a9bee56669e73534c7"
      }
     },
     "3d7f070332e44857a49034cb4fdffc07": {
      "model_module": "@jupyter-widgets/base",
      "model_module_version": "1.1.0",
      "model_name": "LayoutModel",
      "state": {}
     },
     "3d8c6e222ff2498882e77bb3cfb2f505": {
      "model_module": "@jupyter-widgets/controls",
      "model_module_version": "1.4.0",
      "model_name": "ToggleButtonModel",
      "state": {
       "description": "Sugar present",
       "layout": "IPY_MODEL_e5653b1f84b34a4a8ffdcd0bd0d652e7",
       "style": "IPY_MODEL_7cfff0c01daa4698a4defe8c43608741"
      }
     },
     "3ddc5cad27d94a2584c6427b27eb2f27": {
      "model_module": "@jupyter-widgets/controls",
      "model_module_version": "1.4.0",
      "model_name": "ButtonModel",
      "state": {
       "description": "Reset to Defaults",
       "layout": "IPY_MODEL_a5649883ce5c48aa8005783a550fd6cd",
       "style": "IPY_MODEL_03875bed5cdf4111bb5e4ba393a975c6"
      }
     },
     "3e3e50e490c84185965ae7c50c88ef44": {
      "model_module": "@jupyter-widgets/base",
      "model_module_version": "1.1.0",
      "model_name": "LayoutModel",
      "state": {}
     },
     "3eac5a0727864d5295261358ca987e42": {
      "model_module": "@jupyter-widgets/controls",
      "model_module_version": "1.4.0",
      "model_name": "ButtonStyleModel",
      "state": {}
     },
     "3ee69c8e524740e3b7367ddf98462d6e": {
      "model_module": "@jupyter-widgets/controls",
      "model_module_version": "1.4.0",
      "model_name": "FloatTextModel",
      "state": {
       "layout": "IPY_MODEL_76a4815fe62a4e32b55be828c7832963",
       "step": null,
       "style": "IPY_MODEL_a1766c6fabec46a6b792ea33bf766f00",
       "value": 1
      }
     },
     "3efe85a59f41477d91dc05d525dac4d3": {
      "model_module": "@jupyter-widgets/controls",
      "model_module_version": "1.4.0",
      "model_name": "LabelModel",
      "state": {
       "layout": "IPY_MODEL_81111d7e8b184652a67929eaa9ac6909",
       "style": "IPY_MODEL_7ded60e6b28e4d1c9f4e1624cc03e087",
       "value": "Cue Accessibility ($\\mathbf{c}$)"
      }
     },
     "3f33e49e286c400aa3352b48323b5396": {
      "model_module": "@jupyter-widgets/controls",
      "model_module_version": "1.4.0",
      "model_name": "DescriptionStyleModel",
      "state": {
       "description_width": ""
      }
     },
     "3f511d345d2a42d390615765f234d2bb": {
      "model_module": "@jupyter-widgets/controls",
      "model_module_version": "1.4.0",
      "model_name": "DescriptionStyleModel",
      "state": {
       "description_width": ""
      }
     },
     "3fd2f8d180934588a4cd806d50acb803": {
      "model_module": "@jupyter-widgets/controls",
      "model_module_version": "1.4.0",
      "model_name": "ButtonModel",
      "state": {
       "description": "Reset to Defaults",
       "layout": "IPY_MODEL_d47a7431274c41deaff8629d6be4aaf2",
       "style": "IPY_MODEL_dd7d521471354304b577006dc7d08514"
      }
     },
     "3ff29f490ed141e484013fc57fbfebf4": {
      "model_module": "@jupyter-widgets/controls",
      "model_module_version": "1.4.0",
      "model_name": "HBoxModel",
      "state": {
       "children": [
        "IPY_MODEL_1365afb0242344c7b99babc85e115608",
        "IPY_MODEL_c98da47b80eb41df94f5036d837de73f"
       ],
       "layout": "IPY_MODEL_24ddd1ce5c97415b98afe9fe223f9605"
      }
     },
     "405bcf7c977e470f84a1d69b40d3ae1a": {
      "model_module": "@jupyter-widgets/controls",
      "model_module_version": "1.4.0",
      "model_name": "FloatTextModel",
      "state": {
       "layout": "IPY_MODEL_24b665f45fa0486ea2a0250a144753cb",
       "step": null,
       "style": "IPY_MODEL_729c804a912e42b5a53d7ad10fed60fe"
      }
     },
     "40ac612b6238443ab9914ee81c7d1b3b": {
      "model_module": "@jupyter-widgets/base",
      "model_module_version": "1.1.0",
      "model_name": "LayoutModel",
      "state": {}
     },
     "40e1374a0e2d463d8a98401377cd5c28": {
      "model_module": "@jupyter-widgets/controls",
      "model_module_version": "1.4.0",
      "model_name": "LabelModel",
      "state": {
       "layout": "IPY_MODEL_eb916404a39243e0a4234f73a53cad91",
       "style": "IPY_MODEL_a1f28624e3954161a02a1c9ba66f73be",
       "value": "Expected reward ($ \\tilde r$)"
      }
     },
     "40e4e669bc13400a95babb62ab2a1c90": {
      "model_module": "@jupyter-widgets/controls",
      "model_module_version": "1.4.0",
      "model_name": "DescriptionStyleModel",
      "state": {
       "description_width": ""
      }
     },
     "40fb34a25add4a708a4b1f1a27c1a18c": {
      "model_module": "@jupyter-widgets/base",
      "model_module_version": "1.1.0",
      "model_name": "LayoutModel",
      "state": {}
     },
     "418abebe059242f0b90fe730fa88f323": {
      "model_module": "@jupyter-widgets/base",
      "model_module_version": "1.1.0",
      "model_name": "LayoutModel",
      "state": {}
     },
     "4270b30f70c845d2959b9bf6e66ddab3": {
      "model_module": "@jupyter-widgets/controls",
      "model_module_version": "1.4.0",
      "model_name": "LabelModel",
      "state": {
       "layout": "IPY_MODEL_a6236502231048c68c530add9f73dce7",
       "style": "IPY_MODEL_16da70081fbf471392a56281d00edf65",
       "value": "Interoception ($\\kappa$)"
      }
     },
     "4454a9b51fd04db2808ba1ebb16ac1dc": {
      "model_module": "@jupyter-widgets/controls",
      "model_module_version": "1.4.0",
      "model_name": "VBoxModel",
      "state": {
       "children": [
        "IPY_MODEL_099b9a0c56fe4b018876e0b0814fb5cf",
        "IPY_MODEL_3b5ba5ed363c4669a865db00d31fe4fc"
       ],
       "layout": "IPY_MODEL_46320a2187374708a33d01bff2893ea6"
      }
     },
     "44895434814c4cccaa5cdc385ce13b36": {
      "model_module": "@jupyter-widgets/controls",
      "model_module_version": "1.4.0",
      "model_name": "LabelModel",
      "state": {
       "layout": "IPY_MODEL_d296b5d6a28d47d5ada98a6721c5e045",
       "style": "IPY_MODEL_15c4a9dcd04d49d4a1839b2d085011c0",
       "value": "Moderate Salt"
      }
     },
     "4489a638250a46fa82c4d2694bc36602": {
      "model_module": "@jupyter-widgets/controls",
      "model_module_version": "1.4.0",
      "model_name": "ToggleButtonModel",
      "state": {
       "description": "Sugar present",
       "layout": "IPY_MODEL_305bc9b8200c491e80851fcfe3d257e1",
       "style": "IPY_MODEL_7be4a750a5504ad5885c12f5440e8b92"
      }
     },
     "44b52a9b98dc47d2a37967a3bd7386ea": {
      "model_module": "@jupyter-widgets/controls",
      "model_module_version": "1.4.0",
      "model_name": "VBoxModel",
      "state": {
       "children": [
        "IPY_MODEL_e3d5bcbb0b5546b7a17a1057bc1460fd",
        "IPY_MODEL_e363c1b767344621a15e204a99b37947",
        "IPY_MODEL_da4acbab2bf541f8ad48c1a4ff40c34e",
        "IPY_MODEL_352cc23c2b474f57ba8bf69735223a9b"
       ],
       "layout": "IPY_MODEL_48c0cf4bb32142ccb53ef0d2829bfe23"
      }
     },
     "4509489448f74a9cb3cda0e3826a30ca": {
      "model_module": "@jupyter-widgets/controls",
      "model_module_version": "1.4.0",
      "model_name": "DescriptionStyleModel",
      "state": {
       "description_width": ""
      }
     },
     "46320a2187374708a33d01bff2893ea6": {
      "model_module": "@jupyter-widgets/base",
      "model_module_version": "1.1.0",
      "model_name": "LayoutModel",
      "state": {
       "border": "solid 1pt black"
      }
     },
     "46433d3b6e974c15aaca75920084a033": {
      "model_module": "@jupyter-widgets/base",
      "model_module_version": "1.1.0",
      "model_name": "LayoutModel",
      "state": {
       "width": "100px"
      }
     },
     "4659af5d324d447993cb4ad27a52bc5a": {
      "model_module": "@jupyter-widgets/controls",
      "model_module_version": "1.4.0",
      "model_name": "FloatTextModel",
      "state": {
       "description": "hydration",
       "layout": "IPY_MODEL_302cbd5cb1d64bb0937304b353599c77",
       "step": null,
       "style": "IPY_MODEL_9095a726f36e41a18be3f544e78fcc09",
       "value": 1
      }
     },
     "467eb13fdf4549c2aea19e33d93b60b6": {
      "model_module": "@jupyter-widgets/base",
      "model_module_version": "1.1.0",
      "model_name": "LayoutModel",
      "state": {}
     },
     "482ffd8b7a944a06ad0aab904390c3cd": {
      "model_module": "@jupyter-widgets/controls",
      "model_module_version": "1.4.0",
      "model_name": "VBoxModel",
      "state": {
       "children": [
        "IPY_MODEL_951eb14cf1e0462887cd6fc400a2c903",
        "IPY_MODEL_4454a9b51fd04db2808ba1ebb16ac1dc",
        "IPY_MODEL_12db119bc3c346dcbd58411623fcdfd7",
        "IPY_MODEL_6c32f6bdad76487e9b1df97012395edc",
        "IPY_MODEL_de0ab60544794214b9f4161966ab2ab7"
       ],
       "layout": "IPY_MODEL_467eb13fdf4549c2aea19e33d93b60b6"
      }
     },
     "48c0cf4bb32142ccb53ef0d2829bfe23": {
      "model_module": "@jupyter-widgets/base",
      "model_module_version": "1.1.0",
      "model_name": "LayoutModel",
      "state": {}
     },
     "48cc8278eea9446fb8ecdfa93d95ab3d": {
      "model_module": "@jupyter-widgets/controls",
      "model_module_version": "1.4.0",
      "model_name": "DescriptionStyleModel",
      "state": {
       "description_width": ""
      }
     },
     "48fd24b35baf4681aa081882bebe15e8": {
      "model_module": "@jupyter-widgets/base",
      "model_module_version": "1.1.0",
      "model_name": "LayoutModel",
      "state": {}
     },
     "491452f8797f4d1e8ed89eddc9bdbcec": {
      "model_module": "@jupyter-widgets/base",
      "model_module_version": "1.1.0",
      "model_name": "LayoutModel",
      "state": {}
     },
     "4929f97ef6bb45c182447e3eca347aba": {
      "model_module": "@jupyter-widgets/controls",
      "model_module_version": "1.4.0",
      "model_name": "FloatTextModel",
      "state": {
       "description": "Glucose",
       "layout": "IPY_MODEL_330dfe29b6764eaab22c4c3daae10bad",
       "step": null,
       "style": "IPY_MODEL_2eac96b9a7e74efeb1e49d419808bc37",
       "value": 1
      }
     },
     "4a414d9556f348a789cce344ed04bdf1": {
      "model_module": "@jupyter-widgets/base",
      "model_module_version": "1.1.0",
      "model_name": "LayoutModel",
      "state": {}
     },
     "4b1ef482063a4c96b7c94456681309a6": {
      "model_module": "@jupyter-widgets/base",
      "model_module_version": "1.1.0",
      "model_name": "LayoutModel",
      "state": {
       "width": "100px"
      }
     },
     "4b6831a87e544a30ba7f076d2061b0f0": {
      "model_module": "@jupyter-widgets/base",
      "model_module_version": "1.1.0",
      "model_name": "LayoutModel",
      "state": {}
     },
     "4e8d1294497e4ea18892d9a43614fa10": {
      "model_module": "@jupyter-widgets/base",
      "model_module_version": "1.1.0",
      "model_name": "LayoutModel",
      "state": {}
     },
     "4f2d50485c3d4907ba694cfd8ab6d491": {
      "model_module": "@jupyter-widgets/controls",
      "model_module_version": "1.4.0",
      "model_name": "DescriptionStyleModel",
      "state": {
       "description_width": ""
      }
     },
     "4f5bcce566dd4409a936ce2533aa6a58": {
      "model_module": "@jupyter-widgets/controls",
      "model_module_version": "1.4.0",
      "model_name": "DescriptionStyleModel",
      "state": {
       "description_width": ""
      }
     },
     "4f88f60021ca4716ae34ff0a9958b8a2": {
      "model_module": "@jupyter-widgets/controls",
      "model_module_version": "1.4.0",
      "model_name": "VBoxModel",
      "state": {
       "children": [
        "IPY_MODEL_3c17141253874795b6b9c5558c536ecc",
        "IPY_MODEL_3d70ede429e443ad9d2dd461dfa3a058",
        "IPY_MODEL_628bf218c7044afabd8742a15752d373",
        "IPY_MODEL_3ee69c8e524740e3b7367ddf98462d6e"
       ],
       "layout": "IPY_MODEL_a4db6d3f053f4a53ba5b2004ce1b55e8"
      }
     },
     "505bf21cdb8844af838c1946cec6a164": {
      "model_module": "@jupyter-widgets/base",
      "model_module_version": "1.1.0",
      "model_name": "LayoutModel",
      "state": {
       "width": "100px"
      }
     },
     "51ba41cb86a4447592d94e15a1317c04": {
      "model_module": "@jupyter-widgets/controls",
      "model_module_version": "1.4.0",
      "model_name": "VBoxModel",
      "state": {
       "children": [
        "IPY_MODEL_7f156b0dc65647e5ad870e7e6bfac28e",
        "IPY_MODEL_cd4d2580c04a4d73b7467988f7fc5e69",
        "IPY_MODEL_00dbe0bab95e4d4b807bef997f876f95",
        "IPY_MODEL_e4f4152bf1fe48d797552012c113d6dd"
       ],
       "layout": "IPY_MODEL_b1c5e8d89f584b6695cea99b90b3eb1e"
      }
     },
     "51f238ba1cba43a88ca9beee208a2e16": {
      "model_module": "@jupyter-widgets/base",
      "model_module_version": "1.1.0",
      "model_name": "LayoutModel",
      "state": {}
     },
     "51fa1945c76f4f55bee3c32d53fa0509": {
      "model_module": "@jupyter-widgets/base",
      "model_module_version": "1.1.0",
      "model_name": "LayoutModel",
      "state": {}
     },
     "532d833f01054842b5761154105a9399": {
      "model_module": "@jupyter-widgets/controls",
      "model_module_version": "1.4.0",
      "model_name": "DescriptionStyleModel",
      "state": {
       "description_width": ""
      }
     },
     "5416a48a330b40b09772cd40b4036cf9": {
      "model_module": "@jupyter-widgets/controls",
      "model_module_version": "1.4.0",
      "model_name": "DescriptionStyleModel",
      "state": {
       "description_width": ""
      }
     },
     "54e2e7da8fb6454496eb8e2d42e098fa": {
      "model_module": "@jupyter-widgets/controls",
      "model_module_version": "1.4.0",
      "model_name": "LabelModel",
      "state": {
       "layout": "IPY_MODEL_51f238ba1cba43a88ca9beee208a2e16",
       "style": "IPY_MODEL_b0d20bb656e6473bb10f4c2849de1db2",
       "value": "Interoception ($\\kappa$)"
      }
     },
     "5541fce21baa43608bdc4d97bc1c749a": {
      "model_module": "@jupyter-widgets/controls",
      "model_module_version": "1.4.0",
      "model_name": "ButtonModel",
      "state": {
       "description": "Salt Deprived",
       "layout": "IPY_MODEL_4b6831a87e544a30ba7f076d2061b0f0",
       "style": "IPY_MODEL_682afca55ee6480b9358c57dc8d90e1c"
      }
     },
     "55cf85310ad04a9ba4d4183109843a3c": {
      "model_module": "@jupyter-widgets/base",
      "model_module_version": "1.1.0",
      "model_name": "LayoutModel",
      "state": {
       "border": "solid 1pt black"
      }
     },
     "580eb93ce3024e1682fb9fab08efd873": {
      "model_module": "@jupyter-widgets/base",
      "model_module_version": "1.1.0",
      "model_name": "LayoutModel",
      "state": {
       "width": "100px"
      }
     },
     "58562d8e07d94e1cabb2c7c0942df9f9": {
      "model_module": "@jupyter-widgets/base",
      "model_module_version": "1.1.0",
      "model_name": "LayoutModel",
      "state": {}
     },
     "58a2291fa1e749cdbcf1425ffefdc483": {
      "model_module": "@jupyter-widgets/controls",
      "model_module_version": "1.4.0",
      "model_name": "DescriptionStyleModel",
      "state": {
       "description_width": ""
      }
     },
     "5908fc88edc24e9bb0f96dcd5144ded0": {
      "model_module": "@jupyter-widgets/base",
      "model_module_version": "1.1.0",
      "model_name": "LayoutModel",
      "state": {
       "border": "solid 1pt black"
      }
     },
     "5a22f66b3c694a14957734b680619e51": {
      "model_module": "@jupyter-widgets/base",
      "model_module_version": "1.1.0",
      "model_name": "LayoutModel",
      "state": {}
     },
     "5a3a43d71983457d84e86fbfa7304fb2": {
      "model_module": "@jupyter-widgets/controls",
      "model_module_version": "1.4.0",
      "model_name": "DescriptionStyleModel",
      "state": {
       "description_width": ""
      }
     },
     "5b6580d52a954d2bac350e97f3544e15": {
      "model_module": "@jupyter-widgets/base",
      "model_module_version": "1.1.0",
      "model_name": "LayoutModel",
      "state": {}
     },
     "5dc2732ca36c49ceb3d1704addc1471f": {
      "model_module": "@jupyter-widgets/controls",
      "model_module_version": "1.4.0",
      "model_name": "LabelModel",
      "state": {
       "layout": "IPY_MODEL_b65a7c32916b40d4888716cacf049032",
       "style": "IPY_MODEL_e0aabc3226ea4d9fa30a82285a2ee62d",
       "value": "Na"
      }
     },
     "5eae1b51e316411cac5db742a7063b22": {
      "model_module": "@jupyter-widgets/controls",
      "model_module_version": "1.4.0",
      "model_name": "DescriptionStyleModel",
      "state": {
       "description_width": ""
      }
     },
     "5f53094154bd4046b304aee214c49c65": {
      "model_module": "@jupyter-widgets/base",
      "model_module_version": "1.1.0",
      "model_name": "LayoutModel",
      "state": {}
     },
     "60a507be9da84d0eaa100f236b1cc008": {
      "model_module": "@jupyter-widgets/controls",
      "model_module_version": "1.4.0",
      "model_name": "DescriptionStyleModel",
      "state": {
       "description_width": ""
      }
     },
     "61e44de897174a149af1a86ce895d8c9": {
      "model_module": "@jupyter-widgets/controls",
      "model_module_version": "1.4.0",
      "model_name": "ToggleButtonModel",
      "state": {
       "description": "Sugar present",
       "layout": "IPY_MODEL_861ce75d30014c499258d6e201459741",
       "style": "IPY_MODEL_669a1847c441450ab0d4bde594b31107"
      }
     },
     "628bf218c7044afabd8742a15752d373": {
      "model_module": "@jupyter-widgets/controls",
      "model_module_version": "1.4.0",
      "model_name": "FloatTextModel",
      "state": {
       "layout": "IPY_MODEL_bc8c999f20a041c883e3865dca30af8d",
       "step": null,
       "style": "IPY_MODEL_ed02346f911f4815814fd758a916c8b8"
      }
     },
     "63f8c1182bd64cddbac524a6c11bee6c": {
      "model_module": "@jupyter-widgets/controls",
      "model_module_version": "1.4.0",
      "model_name": "FloatTextModel",
      "state": {
       "layout": "IPY_MODEL_9460bdbb77dc401b8e9dbc7260021114",
       "step": null,
       "style": "IPY_MODEL_a803b5ef9bed4a66a42095613634b6c7",
       "value": 0.5
      }
     },
     "64693a69b7b2438d91374415bce0abb1": {
      "model_module": "@jupyter-widgets/base",
      "model_module_version": "1.1.0",
      "model_name": "LayoutModel",
      "state": {
       "width": "100px"
      }
     },
     "64b74235e9a84b54aa20743a45422bb8": {
      "model_module": "@jupyter-widgets/controls",
      "model_module_version": "1.4.0",
      "model_name": "LabelModel",
      "state": {
       "layout": "IPY_MODEL_7d80104c1eb641f2a7441e2dda601721",
       "style": "IPY_MODEL_58a2291fa1e749cdbcf1425ffefdc483",
       "value": "Solution"
      }
     },
     "64bed681c7404c9aab95a3b8bc22e546": {
      "model_module": "@jupyter-widgets/controls",
      "model_module_version": "1.4.0",
      "model_name": "HBoxModel",
      "state": {
       "children": [
        "IPY_MODEL_3b54237091094ee3a5be23e4cb149d5c",
        "IPY_MODEL_a716c33436b842ab9cd05ea3439262b7",
        "IPY_MODEL_08ba74b54256425c8a06d2aaa5124532",
        "IPY_MODEL_51ba41cb86a4447592d94e15a1317c04"
       ],
       "layout": "IPY_MODEL_99658e8c2aa545898e54117b2dad48ec"
      }
     },
     "6563d091048542b5b3db7aed697139cf": {
      "model_module": "@jupyter-widgets/base",
      "model_module_version": "1.1.0",
      "model_name": "LayoutModel",
      "state": {}
     },
     "65799a5bca3048a383520aeb6d5fc0b3": {
      "model_module": "@jupyter-widgets/controls",
      "model_module_version": "1.4.0",
      "model_name": "DescriptionStyleModel",
      "state": {
       "description_width": ""
      }
     },
     "6631f717403742178a50caa03332118b": {
      "model_module": "@jupyter-widgets/controls",
      "model_module_version": "1.4.0",
      "model_name": "DescriptionStyleModel",
      "state": {
       "description_width": ""
      }
     },
     "66982309faaa401cb43e3d7a0417e0b0": {
      "model_module": "@jupyter-widgets/controls",
      "model_module_version": "1.4.0",
      "model_name": "DescriptionStyleModel",
      "state": {
       "description_width": ""
      }
     },
     "669a1847c441450ab0d4bde594b31107": {
      "model_module": "@jupyter-widgets/controls",
      "model_module_version": "1.4.0",
      "model_name": "DescriptionStyleModel",
      "state": {
       "description_width": ""
      }
     },
     "66a8ad9d60e04025898b3b992683293a": {
      "model_module": "@jupyter-widgets/base",
      "model_module_version": "1.1.0",
      "model_name": "LayoutModel",
      "state": {}
     },
     "66b41d140b834c7bb3e4b4adc5b6ee48": {
      "model_module": "@jupyter-widgets/base",
      "model_module_version": "1.1.0",
      "model_name": "LayoutModel",
      "state": {}
     },
     "66fb638217a1471b8e85a185212b03e6": {
      "model_module": "@jupyter-widgets/controls",
      "model_module_version": "1.4.0",
      "model_name": "DescriptionStyleModel",
      "state": {
       "description_width": ""
      }
     },
     "682afca55ee6480b9358c57dc8d90e1c": {
      "model_module": "@jupyter-widgets/controls",
      "model_module_version": "1.4.0",
      "model_name": "ButtonStyleModel",
      "state": {}
     },
     "6a4dd10a912b4cdaa00013bf4b40456c": {
      "model_module": "@jupyter-widgets/controls",
      "model_module_version": "1.4.0",
      "model_name": "HBoxModel",
      "state": {
       "children": [
        "IPY_MODEL_79f7b091b7d74efaa44854439cae657b",
        "IPY_MODEL_849cc7ef13f74f789b35c8912a44b9ff",
        "IPY_MODEL_4929f97ef6bb45c182447e3eca347aba"
       ],
       "layout": "IPY_MODEL_e739af441f574db4b5a1eb565aa1ca58"
      }
     },
     "6a52df7f7ae44f708fdeb7bce2a4740d": {
      "model_module": "@jupyter-widgets/base",
      "model_module_version": "1.1.0",
      "model_name": "LayoutModel",
      "state": {
       "width": "100px"
      }
     },
     "6c27d5f8f2e54393aa5f429d6ebe30be": {
      "model_module": "@jupyter-widgets/controls",
      "model_module_version": "1.4.0",
      "model_name": "DescriptionStyleModel",
      "state": {
       "description_width": ""
      }
     },
     "6c32f6bdad76487e9b1df97012395edc": {
      "model_module": "@jupyter-widgets/controls",
      "model_module_version": "1.4.0",
      "model_name": "ButtonModel",
      "state": {
       "description": "Recalculate",
       "layout": "IPY_MODEL_7e9da944e08a4981a86b8a2713c4ae77",
       "style": "IPY_MODEL_8069c6ff135347558bf07f6b9214193e"
      }
     },
     "6ca269a136864deb8159d350e948b995": {
      "model_module": "@jupyter-widgets/base",
      "model_module_version": "1.1.0",
      "model_name": "LayoutModel",
      "state": {}
     },
     "6d5a5e9eee0f4330a6c8657cc5c8fdcf": {
      "model_module": "@jupyter-widgets/controls",
      "model_module_version": "1.4.0",
      "model_name": "LabelModel",
      "state": {
       "layout": "IPY_MODEL_8b4165fa2ade40f6b3217cb641879584",
       "style": "IPY_MODEL_66fb638217a1471b8e85a185212b03e6",
       "value": "Cue Accessibility ($\\mathbf{c}$)"
      }
     },
     "6d8a03cf1c3b48f8bbe2aa696b0beb3b": {
      "model_module": "@jupyter-widgets/controls",
      "model_module_version": "1.4.0",
      "model_name": "HBoxModel",
      "state": {
       "children": [
        "IPY_MODEL_b246629865df4f8ebe9ce21d3d677b59",
        "IPY_MODEL_f08f46bb4dfb463f9ad38216dfd7271e",
        "IPY_MODEL_61e44de897174a149af1a86ce895d8c9",
        "IPY_MODEL_3fd2f8d180934588a4cd806d50acb803"
       ],
       "layout": "IPY_MODEL_d2a17e2a2be148b9ab88a481f2b7eda3"
      }
     },
     "6f5299d961b441b5acfd0a42965b80b9": {
      "model_module": "@jupyter-widgets/controls",
      "model_module_version": "1.4.0",
      "model_name": "LabelModel",
      "state": {
       "layout": "IPY_MODEL_58562d8e07d94e1cabb2c7c0942df9f9",
       "style": "IPY_MODEL_9dbf502d24934366a6c349bdc76db413",
       "value": "hydration"
      }
     },
     "702d901b2a264d3b881a01b60862c105": {
      "model_module": "@jupyter-widgets/controls",
      "model_module_version": "1.4.0",
      "model_name": "FloatTextModel",
      "state": {
       "layout": "IPY_MODEL_79617a9c5f2542039bd602fd478a02bd",
       "step": null,
       "style": "IPY_MODEL_a45990ea6a8b4df3b2f1fda272ff7803",
       "value": -1
      }
     },
     "704cd484271745f3b05c8a4e9fe10a62": {
      "model_module": "@jupyter-widgets/base",
      "model_module_version": "1.1.0",
      "model_name": "LayoutModel",
      "state": {}
     },
     "719c190c5a494a3f8010792555526622": {
      "model_module": "@jupyter-widgets/base",
      "model_module_version": "1.1.0",
      "model_name": "LayoutModel",
      "state": {}
     },
     "729c804a912e42b5a53d7ad10fed60fe": {
      "model_module": "@jupyter-widgets/controls",
      "model_module_version": "1.4.0",
      "model_name": "DescriptionStyleModel",
      "state": {
       "description_width": ""
      }
     },
     "72f3cd02955c4388b79b5dd70d450394": {
      "model_module": "@jupyter-widgets/base",
      "model_module_version": "1.1.0",
      "model_name": "LayoutModel",
      "state": {}
     },
     "76a4815fe62a4e32b55be828c7832963": {
      "model_module": "@jupyter-widgets/base",
      "model_module_version": "1.1.0",
      "model_name": "LayoutModel",
      "state": {
       "width": "100px"
      }
     },
     "76be2fda49f94e57b4a9d987098a706e": {
      "model_module": "@jupyter-widgets/controls",
      "model_module_version": "1.4.0",
      "model_name": "ButtonModel",
      "state": {
       "description": "the fun button",
       "layout": "IPY_MODEL_c0c12996b053419ab8ac201f562cd20f",
       "style": "IPY_MODEL_dc36b9325fed43ca8c75bc61ccc21516"
      }
     },
     "76d5e9aa2e9b4fdc887ffe4980893b9f": {
      "model_module": "@jupyter-widgets/controls",
      "model_module_version": "1.4.0",
      "model_name": "HBoxModel",
      "state": {
       "children": [
        "IPY_MODEL_b246629865df4f8ebe9ce21d3d677b59",
        "IPY_MODEL_f08f46bb4dfb463f9ad38216dfd7271e",
        "IPY_MODEL_61e44de897174a149af1a86ce895d8c9",
        "IPY_MODEL_3fd2f8d180934588a4cd806d50acb803"
       ],
       "layout": "IPY_MODEL_31c68bce438e40258e9786341eaa8295"
      }
     },
     "76fa766fe55f490c994532ac0349edd2": {
      "model_module": "@jupyter-widgets/controls",
      "model_module_version": "1.4.0",
      "model_name": "FloatTextModel",
      "state": {
       "layout": "IPY_MODEL_bf49fa4d1b4f4a5ab162bc4e47853eee",
       "step": null,
       "style": "IPY_MODEL_66982309faaa401cb43e3d7a0417e0b0"
      }
     },
     "77989aeae55748709e736f2b6e40707d": {
      "model_module": "@jupyter-widgets/controls",
      "model_module_version": "1.4.0",
      "model_name": "LabelModel",
      "state": {
       "layout": "IPY_MODEL_9bd000be6efc4634a36bf096227518dd",
       "style": "IPY_MODEL_d276211623c647088f8babb5a5245ec0",
       "value": "Solution"
      }
     },
     "782031e0ba8f406ea6d9d9ac765a3717": {
      "model_module": "@jupyter-widgets/base",
      "model_module_version": "1.1.0",
      "model_name": "LayoutModel",
      "state": {}
     },
     "78724fa8b97346b19f62e4df67356d2f": {
      "model_module": "@jupyter-widgets/controls",
      "model_module_version": "1.4.0",
      "model_name": "VBoxModel",
      "state": {
       "children": [
        "IPY_MODEL_77989aeae55748709e736f2b6e40707d",
        "IPY_MODEL_7fdd34fdbd6c4b009de6d775b4202a3e",
        "IPY_MODEL_f1c4e887919048729fa515fac24887c9",
        "IPY_MODEL_9a9b4b49bfaf4f80bfd92cf0fe5bd159"
       ],
       "layout": "IPY_MODEL_2fd61f793fff4eecaf08f2c84964c04c"
      }
     },
     "78ce45ff85f04a63b833ba531cb1c013": {
      "model_module": "@jupyter-widgets/controls",
      "model_module_version": "1.4.0",
      "model_name": "FloatTextModel",
      "state": {
       "layout": "IPY_MODEL_eb70c324ef594f33937651e466f18163",
       "step": null,
       "style": "IPY_MODEL_5eae1b51e316411cac5db742a7063b22",
       "value": 1
      }
     },
     "79617a9c5f2542039bd602fd478a02bd": {
      "model_module": "@jupyter-widgets/base",
      "model_module_version": "1.1.0",
      "model_name": "LayoutModel",
      "state": {
       "width": "100px"
      }
     },
     "7969c3adae5949728c06ee7b4b07a219": {
      "model_module": "@jupyter-widgets/controls",
      "model_module_version": "1.4.0",
      "model_name": "HBoxModel",
      "state": {
       "children": [
        "IPY_MODEL_951faf33c5574a60894934154b34c57b",
        "IPY_MODEL_85143d9c21a44a378e4f923a4accad8c",
        "IPY_MODEL_4489a638250a46fa82c4d2694bc36602",
        "IPY_MODEL_3ddc5cad27d94a2584c6427b27eb2f27"
       ],
       "layout": "IPY_MODEL_8a4d88e0e8944434b42a93ce29685c1b"
      }
     },
     "7972dc0082474dfbaefe8b002c760b58": {
      "model_module": "@jupyter-widgets/base",
      "model_module_version": "1.1.0",
      "model_name": "LayoutModel",
      "state": {
       "width": "100px"
      }
     },
     "79f7b091b7d74efaa44854439cae657b": {
      "model_module": "@jupyter-widgets/controls",
      "model_module_version": "1.4.0",
      "model_name": "FloatTextModel",
      "state": {
       "description": "Na",
       "layout": "IPY_MODEL_813589d5c24d4c6cac872bf6e31b7194",
       "step": null,
       "style": "IPY_MODEL_6c27d5f8f2e54393aa5f429d6ebe30be",
       "value": 1.5
      }
     },
     "7be4a750a5504ad5885c12f5440e8b92": {
      "model_module": "@jupyter-widgets/controls",
      "model_module_version": "1.4.0",
      "model_name": "DescriptionStyleModel",
      "state": {
       "description_width": ""
      }
     },
     "7c0b91ac618b47878e9034263f9b74b2": {
      "model_module": "@jupyter-widgets/controls",
      "model_module_version": "1.4.0",
      "model_name": "LabelModel",
      "state": {
       "layout": "IPY_MODEL_3d7f070332e44857a49034cb4fdffc07",
       "style": "IPY_MODEL_2b6a9cd0b7a54616b9ece09a43330050",
       "value": "Cue Accessibility ($\\mathbf{c}$)"
      }
     },
     "7c165d6c3d9345e79627e7945d6fb8c2": {
      "model_module": "@jupyter-widgets/base",
      "model_module_version": "1.1.0",
      "model_name": "LayoutModel",
      "state": {}
     },
     "7cd2bbaba6ff46bf8e9d64350009619b": {
      "model_module": "@jupyter-widgets/base",
      "model_module_version": "1.1.0",
      "model_name": "LayoutModel",
      "state": {}
     },
     "7cfff0c01daa4698a4defe8c43608741": {
      "model_module": "@jupyter-widgets/controls",
      "model_module_version": "1.4.0",
      "model_name": "DescriptionStyleModel",
      "state": {
       "description_width": ""
      }
     },
     "7d80104c1eb641f2a7441e2dda601721": {
      "model_module": "@jupyter-widgets/base",
      "model_module_version": "1.1.0",
      "model_name": "LayoutModel",
      "state": {}
     },
     "7da1092f523b434ab58c7f2d8c8b2d28": {
      "model_module": "@jupyter-widgets/controls",
      "model_module_version": "1.4.0",
      "model_name": "DescriptionStyleModel",
      "state": {
       "description_width": ""
      }
     },
     "7da85940a3eb4883af846331cb9adc34": {
      "model_module": "@jupyter-widgets/base",
      "model_module_version": "1.1.0",
      "model_name": "LayoutModel",
      "state": {}
     },
     "7ded60e6b28e4d1c9f4e1624cc03e087": {
      "model_module": "@jupyter-widgets/controls",
      "model_module_version": "1.4.0",
      "model_name": "DescriptionStyleModel",
      "state": {
       "description_width": ""
      }
     },
     "7e9da944e08a4981a86b8a2713c4ae77": {
      "model_module": "@jupyter-widgets/base",
      "model_module_version": "1.1.0",
      "model_name": "LayoutModel",
      "state": {}
     },
     "7ef23ae51a3d4ba6a4ef0aa84adaef27": {
      "model_module": "@jupyter-widgets/controls",
      "model_module_version": "1.4.0",
      "model_name": "DescriptionStyleModel",
      "state": {
       "description_width": ""
      }
     },
     "7f156b0dc65647e5ad870e7e6bfac28e": {
      "model_module": "@jupyter-widgets/controls",
      "model_module_version": "1.4.0",
      "model_name": "LabelModel",
      "state": {
       "layout": "IPY_MODEL_13280179b68d42299fd7c8d241a69e61",
       "style": "IPY_MODEL_fb7c79c3b18c43ab95ba48d4867dee40",
       "value": "Glucose"
      }
     },
     "7fdd34fdbd6c4b009de6d775b4202a3e": {
      "model_module": "@jupyter-widgets/controls",
      "model_module_version": "1.4.0",
      "model_name": "LabelModel",
      "state": {
       "layout": "IPY_MODEL_7cd2bbaba6ff46bf8e9d64350009619b",
       "style": "IPY_MODEL_8936ee1a0f7742a2a71f60cb7b94df83",
       "value": "Moderate Salt"
      }
     },
     "7ff2f19331e74fb480e9c4229933ab2f": {
      "model_module": "@jupyter-widgets/controls",
      "model_module_version": "1.4.0",
      "model_name": "DescriptionStyleModel",
      "state": {
       "description_width": ""
      }
     },
     "802149c46bb74bf2946fce5ec25606a5": {
      "model_module": "@jupyter-widgets/base",
      "model_module_version": "1.1.0",
      "model_name": "LayoutModel",
      "state": {
       "width": "100px"
      }
     },
     "805b4848bc5e46b9a26a2a508a0702e1": {
      "model_module": "@jupyter-widgets/controls",
      "model_module_version": "1.4.0",
      "model_name": "DescriptionStyleModel",
      "state": {
       "description_width": ""
      }
     },
     "8069c6ff135347558bf07f6b9214193e": {
      "model_module": "@jupyter-widgets/controls",
      "model_module_version": "1.4.0",
      "model_name": "ButtonStyleModel",
      "state": {}
     },
     "809cd4256d194470a3f19b5447901ebc": {
      "model_module": "@jupyter-widgets/controls",
      "model_module_version": "1.4.0",
      "model_name": "HBoxModel",
      "state": {
       "children": [
        "IPY_MODEL_5541fce21baa43608bdc4d97bc1c749a",
        "IPY_MODEL_a6da25cc715b466ca696442ef171c65a",
        "IPY_MODEL_3d8c6e222ff2498882e77bb3cfb2f505",
        "IPY_MODEL_d900b53d063b4776a1b0b16bb1e5291e"
       ],
       "layout": "IPY_MODEL_32a4fa2fad2b4828920473782fefc0fa"
      }
     },
     "80c58ade0ad84c5ba86371a32cc0dfd6": {
      "model_module": "@jupyter-widgets/controls",
      "model_module_version": "1.4.0",
      "model_name": "VBoxModel",
      "state": {
       "children": [
        "IPY_MODEL_e208382b43674669a1e9f9e7124ff2ab",
        "IPY_MODEL_64bed681c7404c9aab95a3b8bc22e546"
       ],
       "layout": "IPY_MODEL_46320a2187374708a33d01bff2893ea6"
      }
     },
     "81111d7e8b184652a67929eaa9ac6909": {
      "model_module": "@jupyter-widgets/base",
      "model_module_version": "1.1.0",
      "model_name": "LayoutModel",
      "state": {}
     },
     "813589d5c24d4c6cac872bf6e31b7194": {
      "model_module": "@jupyter-widgets/base",
      "model_module_version": "1.1.0",
      "model_name": "LayoutModel",
      "state": {}
     },
     "82330e8788b14de0883e1e6065fb6a50": {
      "model_module": "@jupyter-widgets/controls",
      "model_module_version": "1.4.0",
      "model_name": "LabelModel",
      "state": {
       "layout": "IPY_MODEL_9231534e4e9541c9822fffb336f7b616",
       "style": "IPY_MODEL_9e989813948e461f8cf26198ee85054c",
       "value": "hydration"
      }
     },
     "8311e25e90a54fee8145c9c0cf89336c": {
      "model_module": "@jupyter-widgets/base",
      "model_module_version": "1.1.0",
      "model_name": "LayoutModel",
      "state": {}
     },
     "837dd6de5b33478088f09baf61bc1c6d": {
      "model_module": "@jupyter-widgets/controls",
      "model_module_version": "1.4.0",
      "model_name": "VBoxModel",
      "state": {
       "children": [
        "IPY_MODEL_6d5a5e9eee0f4330a6c8657cc5c8fdcf",
        "IPY_MODEL_fbbef13ff67b47acb6e99a5c7b9ac0e7",
        "IPY_MODEL_f9f1139487d3455c818d2df943b1dee9",
        "IPY_MODEL_24a43b59679c441882222256a9ab2c89"
       ],
       "layout": "IPY_MODEL_20aa14eb31584a2991781949e3ed5d94"
      }
     },
     "849cc7ef13f74f789b35c8912a44b9ff": {
      "model_module": "@jupyter-widgets/controls",
      "model_module_version": "1.4.0",
      "model_name": "FloatTextModel",
      "state": {
       "description": "hydration",
       "layout": "IPY_MODEL_2d6600e06b404544b434b7cfc066be38",
       "step": null,
       "style": "IPY_MODEL_805b4848bc5e46b9a26a2a508a0702e1",
       "value": 1
      }
     },
     "85143d9c21a44a378e4f923a4accad8c": {
      "model_module": "@jupyter-widgets/controls",
      "model_module_version": "1.4.0",
      "model_name": "ButtonModel",
      "state": {
       "description": "Salt Satiated",
       "layout": "IPY_MODEL_48fd24b35baf4681aa081882bebe15e8",
       "style": "IPY_MODEL_db69c4515b974628aad76e4f0c222a01"
      }
     },
     "85b8b311cc184e519fa3aace71f14b7a": {
      "model_module": "@jupyter-widgets/base",
      "model_module_version": "1.1.0",
      "model_name": "LayoutModel",
      "state": {}
     },
     "861ce75d30014c499258d6e201459741": {
      "model_module": "@jupyter-widgets/base",
      "model_module_version": "1.1.0",
      "model_name": "LayoutModel",
      "state": {}
     },
     "87620ab9eb854264a50896de10027a0e": {
      "model_module": "@jupyter-widgets/controls",
      "model_module_version": "1.4.0",
      "model_name": "ButtonStyleModel",
      "state": {}
     },
     "8936ee1a0f7742a2a71f60cb7b94df83": {
      "model_module": "@jupyter-widgets/controls",
      "model_module_version": "1.4.0",
      "model_name": "DescriptionStyleModel",
      "state": {
       "description_width": ""
      }
     },
     "898ce9ff61fc48e29be031f0968e156f": {
      "model_module": "@jupyter-widgets/controls",
      "model_module_version": "1.4.0",
      "model_name": "DescriptionStyleModel",
      "state": {
       "description_width": ""
      }
     },
     "89f9834c6474459e827a6d2eefa9bd4e": {
      "model_module": "@jupyter-widgets/controls",
      "model_module_version": "1.4.0",
      "model_name": "FloatTextModel",
      "state": {
       "description": "Glucose",
       "layout": "IPY_MODEL_4e8d1294497e4ea18892d9a43614fa10",
       "step": null,
       "style": "IPY_MODEL_5416a48a330b40b09772cd40b4036cf9",
       "value": 1
      }
     },
     "8a4d88e0e8944434b42a93ce29685c1b": {
      "model_module": "@jupyter-widgets/base",
      "model_module_version": "1.1.0",
      "model_name": "LayoutModel",
      "state": {}
     },
     "8b4165fa2ade40f6b3217cb641879584": {
      "model_module": "@jupyter-widgets/base",
      "model_module_version": "1.1.0",
      "model_name": "LayoutModel",
      "state": {}
     },
     "8b58ee0fd99e406684533657d22d858e": {
      "model_module": "@jupyter-widgets/controls",
      "model_module_version": "1.4.0",
      "model_name": "DescriptionStyleModel",
      "state": {
       "description_width": ""
      }
     },
     "8c1aa9ce38e746c2b7a747bcf0327c2b": {
      "model_module": "@jupyter-widgets/base",
      "model_module_version": "1.1.0",
      "model_name": "LayoutModel",
      "state": {}
     },
     "8cff2db51e9e47e4b80bc484f8403c87": {
      "model_module": "@jupyter-widgets/controls",
      "model_module_version": "1.4.0",
      "model_name": "VBoxModel",
      "state": {
       "children": [
        "IPY_MODEL_7c0b91ac618b47878e9034263f9b74b2",
        "IPY_MODEL_fbbef13ff67b47acb6e99a5c7b9ac0e7",
        "IPY_MODEL_f9f1139487d3455c818d2df943b1dee9",
        "IPY_MODEL_24a43b59679c441882222256a9ab2c89"
       ],
       "layout": "IPY_MODEL_46320a2187374708a33d01bff2893ea6"
      }
     },
     "8d797356089e4bbfa869eab5c68be1d5": {
      "model_module": "@jupyter-widgets/controls",
      "model_module_version": "1.4.0",
      "model_name": "TextModel",
      "state": {
       "layout": "IPY_MODEL_7c165d6c3d9345e79627e7945d6fb8c2",
       "style": "IPY_MODEL_193cf00e59a14978988ad63e0aa0dca9"
      }
     },
     "8d7f892a906d432488bb08dcaf621f36": {
      "model_module": "@jupyter-widgets/controls",
      "model_module_version": "1.4.0",
      "model_name": "HBoxModel",
      "state": {
       "children": [
        "IPY_MODEL_79f7b091b7d74efaa44854439cae657b",
        "IPY_MODEL_849cc7ef13f74f789b35c8912a44b9ff",
        "IPY_MODEL_4929f97ef6bb45c182447e3eca347aba"
       ],
       "layout": "IPY_MODEL_ebd0d45248e44aa9af8630ae0162ccc0"
      }
     },
     "8d9c67d3a70a40ba881401b33383e6eb": {
      "model_module": "@jupyter-widgets/controls",
      "model_module_version": "1.4.0",
      "model_name": "DescriptionStyleModel",
      "state": {
       "description_width": ""
      }
     },
     "8ee9494e5de54c419fa54ec387b7048b": {
      "model_module": "@jupyter-widgets/base",
      "model_module_version": "1.1.0",
      "model_name": "LayoutModel",
      "state": {
       "width": "100px"
      }
     },
     "8fc70e5a10ef45b3a0337c6c7cf97c17": {
      "model_module": "@jupyter-widgets/controls",
      "model_module_version": "1.4.0",
      "model_name": "HBoxModel",
      "state": {
       "children": [
        "IPY_MODEL_5541fce21baa43608bdc4d97bc1c749a",
        "IPY_MODEL_a6da25cc715b466ca696442ef171c65a",
        "IPY_MODEL_3d8c6e222ff2498882e77bb3cfb2f505",
        "IPY_MODEL_d900b53d063b4776a1b0b16bb1e5291e"
       ],
       "layout": "IPY_MODEL_04309eec390f468095a5afc02f09cd3e"
      }
     },
     "9016c8e2a4914174883e7cff5676340c": {
      "model_module": "@jupyter-widgets/base",
      "model_module_version": "1.1.0",
      "model_name": "LayoutModel",
      "state": {}
     },
     "9095a726f36e41a18be3f544e78fcc09": {
      "model_module": "@jupyter-widgets/controls",
      "model_module_version": "1.4.0",
      "model_name": "DescriptionStyleModel",
      "state": {
       "description_width": ""
      }
     },
     "91aa8a3e204a4ba5b2199d11fec2cecd": {
      "model_module": "@jupyter-widgets/base",
      "model_module_version": "1.1.0",
      "model_name": "LayoutModel",
      "state": {}
     },
     "91cbcb6f5e8f4ddfa982191b24d464b3": {
      "model_module": "@jupyter-widgets/controls",
      "model_module_version": "1.4.0",
      "model_name": "HBoxModel",
      "state": {
       "children": [
        "IPY_MODEL_5541fce21baa43608bdc4d97bc1c749a",
        "IPY_MODEL_a6da25cc715b466ca696442ef171c65a",
        "IPY_MODEL_3d8c6e222ff2498882e77bb3cfb2f505",
        "IPY_MODEL_d900b53d063b4776a1b0b16bb1e5291e"
       ],
       "layout": "IPY_MODEL_a48948f3702d4a34b125fb88046f683b"
      }
     },
     "920497ce116b44e7b92f460efb0aa2ea": {
      "model_module": "@jupyter-widgets/controls",
      "model_module_version": "1.4.0",
      "model_name": "FloatTextModel",
      "state": {
       "layout": "IPY_MODEL_ac5ea498a65e4ba99705f9fcf601837f",
       "step": null,
       "style": "IPY_MODEL_7da1092f523b434ab58c7f2d8c8b2d28",
       "value": 0.5
      }
     },
     "9231534e4e9541c9822fffb336f7b616": {
      "model_module": "@jupyter-widgets/base",
      "model_module_version": "1.1.0",
      "model_name": "LayoutModel",
      "state": {}
     },
     "923a1d3e86e447b3bbe69593416c67d6": {
      "model_module": "@jupyter-widgets/controls",
      "model_module_version": "1.4.0",
      "model_name": "DescriptionStyleModel",
      "state": {
       "description_width": ""
      }
     },
     "9280fe6093784069a298f4cb9b606363": {
      "model_module": "@jupyter-widgets/base",
      "model_module_version": "1.1.0",
      "model_name": "LayoutModel",
      "state": {}
     },
     "932355629e6f4beca0a37407db137f2d": {
      "model_module": "@jupyter-widgets/base",
      "model_module_version": "1.1.0",
      "model_name": "LayoutModel",
      "state": {}
     },
     "93c349c7b3cb479d9923cd0209126f18": {
      "model_module": "@jupyter-widgets/base",
      "model_module_version": "1.1.0",
      "model_name": "LayoutModel",
      "state": {
       "width": "100px"
      }
     },
     "9450d5447b154284ba583ad02b692785": {
      "model_module": "@jupyter-widgets/base",
      "model_module_version": "1.1.0",
      "model_name": "LayoutModel",
      "state": {}
     },
     "9460bdbb77dc401b8e9dbc7260021114": {
      "model_module": "@jupyter-widgets/base",
      "model_module_version": "1.1.0",
      "model_name": "LayoutModel",
      "state": {
       "width": "100px"
      }
     },
     "94c38d2abc9e42b1904ac10947850664": {
      "model_module": "@jupyter-widgets/base",
      "model_module_version": "1.1.0",
      "model_name": "LayoutModel",
      "state": {}
     },
     "94eed5792bb7427c9fb3c68d3962b173": {
      "model_module": "@jupyter-widgets/controls",
      "model_module_version": "1.4.0",
      "model_name": "DescriptionStyleModel",
      "state": {
       "description_width": ""
      }
     },
     "951eb14cf1e0462887cd6fc400a2c903": {
      "model_module": "@jupyter-widgets/controls",
      "model_module_version": "1.4.0",
      "model_name": "HBoxModel",
      "state": {
       "children": [
        "IPY_MODEL_b246629865df4f8ebe9ce21d3d677b59",
        "IPY_MODEL_f08f46bb4dfb463f9ad38216dfd7271e",
        "IPY_MODEL_61e44de897174a149af1a86ce895d8c9",
        "IPY_MODEL_3fd2f8d180934588a4cd806d50acb803"
       ],
       "layout": "IPY_MODEL_40ac612b6238443ab9914ee81c7d1b3b"
      }
     },
     "951faf33c5574a60894934154b34c57b": {
      "model_module": "@jupyter-widgets/controls",
      "model_module_version": "1.4.0",
      "model_name": "ButtonModel",
      "state": {
       "description": "Salt Deprived",
       "layout": "IPY_MODEL_d5f02a5c05524f78b6e56f3c127e6c5a",
       "style": "IPY_MODEL_02337232774946bc8385076a3bb93fdc"
      }
     },
     "95f5891bd3c04d51b2975d9c2d5a61c6": {
      "model_module": "@jupyter-widgets/base",
      "model_module_version": "1.1.0",
      "model_name": "LayoutModel",
      "state": {}
     },
     "964cd3e79cfa4fceb2d04c43dec339e5": {
      "model_module": "@jupyter-widgets/controls",
      "model_module_version": "1.4.0",
      "model_name": "DescriptionStyleModel",
      "state": {
       "description_width": ""
      }
     },
     "96b06bd2d67d49989e6319fe12aeef18": {
      "model_module": "@jupyter-widgets/controls",
      "model_module_version": "1.4.0",
      "model_name": "DescriptionStyleModel",
      "state": {
       "description_width": ""
      }
     },
     "96cd8e4cb8ec40abb0cf6b49d992c205": {
      "model_module": "@jupyter-widgets/controls",
      "model_module_version": "1.4.0",
      "model_name": "VBoxModel",
      "state": {
       "children": [
        "IPY_MODEL_54e2e7da8fb6454496eb8e2d42e098fa",
        "IPY_MODEL_8d7f892a906d432488bb08dcaf621f36"
       ],
       "layout": "IPY_MODEL_20aa14eb31584a2991781949e3ed5d94"
      }
     },
     "97bff80c4be74cb5b1cf231a00f72ecc": {
      "model_module": "@jupyter-widgets/controls",
      "model_module_version": "1.4.0",
      "model_name": "LabelModel",
      "state": {
       "layout": "IPY_MODEL_27acce565f3e40dcb402d055e7160ab3",
       "style": "IPY_MODEL_923a1d3e86e447b3bbe69593416c67d6",
       "value": "Moderate Salt"
      }
     },
     "97f1bd6136ac43e09f1b2ac9b7330e7f": {
      "model_module": "@jupyter-widgets/controls",
      "model_module_version": "1.4.0",
      "model_name": "FloatTextModel",
      "state": {
       "description": "Strong Salt",
       "layout": "IPY_MODEL_d7fbf6624dc241688d696abe4d410c38",
       "step": null,
       "style": "IPY_MODEL_0cfeeffa150f4aa58985872f44003373",
       "value": 1
      }
     },
     "98e7bde33e8f4d8daadb77a677d3e0e7": {
      "model_module": "@jupyter-widgets/base",
      "model_module_version": "1.1.0",
      "model_name": "LayoutModel",
      "state": {}
     },
     "9960d15428d5450b83718c7413c662b8": {
      "model_module": "@jupyter-widgets/controls",
      "model_module_version": "1.4.0",
      "model_name": "DescriptionStyleModel",
      "state": {
       "description_width": ""
      }
     },
     "99658e8c2aa545898e54117b2dad48ec": {
      "model_module": "@jupyter-widgets/base",
      "model_module_version": "1.1.0",
      "model_name": "LayoutModel",
      "state": {}
     },
     "9a9b4b49bfaf4f80bfd92cf0fe5bd159": {
      "model_module": "@jupyter-widgets/controls",
      "model_module_version": "1.4.0",
      "model_name": "LabelModel",
      "state": {
       "layout": "IPY_MODEL_a05a7c642a494d4ab4b2bdf61bc4cf3c",
       "style": "IPY_MODEL_4f5bcce566dd4409a936ce2533aa6a58",
       "value": "Sugar"
      }
     },
     "9bd000be6efc4634a36bf096227518dd": {
      "model_module": "@jupyter-widgets/base",
      "model_module_version": "1.1.0",
      "model_name": "LayoutModel",
      "state": {}
     },
     "9cf6d19f5abf4b54ac351c810ba65256": {
      "model_module": "@jupyter-widgets/base",
      "model_module_version": "1.1.0",
      "model_name": "LayoutModel",
      "state": {
       "width": "100px"
      }
     },
     "9db07b212be04347b1fa8831f94402d9": {
      "model_module": "@jupyter-widgets/controls",
      "model_module_version": "1.4.0",
      "model_name": "ButtonModel",
      "state": {
       "description": "Recalculate",
       "layout": "IPY_MODEL_85b8b311cc184e519fa3aace71f14b7a",
       "style": "IPY_MODEL_a58c6b50720f44d69647fb4d2bbf1275"
      }
     },
     "9dbf502d24934366a6c349bdc76db413": {
      "model_module": "@jupyter-widgets/controls",
      "model_module_version": "1.4.0",
      "model_name": "DescriptionStyleModel",
      "state": {
       "description_width": ""
      }
     },
     "9e989813948e461f8cf26198ee85054c": {
      "model_module": "@jupyter-widgets/controls",
      "model_module_version": "1.4.0",
      "model_name": "DescriptionStyleModel",
      "state": {
       "description_width": ""
      }
     },
     "9f26cbf38cd04ebcbb208900c5984e2f": {
      "model_module": "@jupyter-widgets/controls",
      "model_module_version": "1.4.0",
      "model_name": "LabelModel",
      "state": {
       "layout": "IPY_MODEL_5f53094154bd4046b304aee214c49c65",
       "style": "IPY_MODEL_c1408e1ddea74651b795a74b99530ac6",
       "value": "hydration"
      }
     },
     "9fa7607e544547dcb3043f2d83423959": {
      "model_module": "@jupyter-widgets/controls",
      "model_module_version": "1.4.0",
      "model_name": "HBoxModel",
      "state": {
       "children": [
        "IPY_MODEL_b246629865df4f8ebe9ce21d3d677b59",
        "IPY_MODEL_f08f46bb4dfb463f9ad38216dfd7271e",
        "IPY_MODEL_61e44de897174a149af1a86ce895d8c9",
        "IPY_MODEL_3fd2f8d180934588a4cd806d50acb803"
       ],
       "layout": "IPY_MODEL_1c79adf4c4f4489bb27c5d58416c52f3"
      }
     },
     "a00cdd3b736940948d9236d6d3c0fc92": {
      "model_module": "@jupyter-widgets/controls",
      "model_module_version": "1.4.0",
      "model_name": "FloatTextModel",
      "state": {
       "layout": "IPY_MODEL_580eb93ce3024e1682fb9fab08efd873",
       "step": null,
       "style": "IPY_MODEL_c11f6b73b4d948d9bf15a59f382c8e14"
      }
     },
     "a035c3729738487eae8c91a0e58063e8": {
      "model_module": "@jupyter-widgets/controls",
      "model_module_version": "1.4.0",
      "model_name": "HBoxModel",
      "state": {
       "children": [
        "IPY_MODEL_e69f3e3709274c7c87213059bccfb528",
        "IPY_MODEL_0432173e22754935a23d81144aa28fca",
        "IPY_MODEL_aba505dadc6347b483cf4409284706df"
       ],
       "layout": "IPY_MODEL_6ca269a136864deb8159d350e948b995"
      }
     },
     "a05a7c642a494d4ab4b2bdf61bc4cf3c": {
      "model_module": "@jupyter-widgets/base",
      "model_module_version": "1.1.0",
      "model_name": "LayoutModel",
      "state": {}
     },
     "a0d685ddf513457ca58d2062b6cae38a": {
      "model_module": "@jupyter-widgets/base",
      "model_module_version": "1.1.0",
      "model_name": "LayoutModel",
      "state": {}
     },
     "a1766c6fabec46a6b792ea33bf766f00": {
      "model_module": "@jupyter-widgets/controls",
      "model_module_version": "1.4.0",
      "model_name": "DescriptionStyleModel",
      "state": {
       "description_width": ""
      }
     },
     "a1f28624e3954161a02a1c9ba66f73be": {
      "model_module": "@jupyter-widgets/controls",
      "model_module_version": "1.4.0",
      "model_name": "DescriptionStyleModel",
      "state": {
       "description_width": ""
      }
     },
     "a22bc9c9c3284c39a266184017b113b6": {
      "model_module": "@jupyter-widgets/controls",
      "model_module_version": "1.4.0",
      "model_name": "VBoxModel",
      "state": {
       "children": [
        "IPY_MODEL_5dc2732ca36c49ceb3d1704addc1471f",
        "IPY_MODEL_cb35b8252fc5499b9b9cc63f20182413",
        "IPY_MODEL_e2f81a5e2623400cae2707ada8e83bbd",
        "IPY_MODEL_0eb46b206db040cf88b8d2d6c86c32ae"
       ],
       "layout": "IPY_MODEL_72f3cd02955c4388b79b5dd70d450394"
      }
     },
     "a23414966d6c48b6838cadd6910cd0fa": {
      "model_module": "@jupyter-widgets/controls",
      "model_module_version": "1.4.0",
      "model_name": "ButtonStyleModel",
      "state": {}
     },
     "a2c670d8da8c48469bdf1be17550c3fe": {
      "model_module": "@jupyter-widgets/controls",
      "model_module_version": "1.4.0",
      "model_name": "VBoxModel",
      "state": {
       "children": [
        "IPY_MODEL_40e1374a0e2d463d8a98401377cd5c28",
        "IPY_MODEL_265e4779b6d24ede871b1144917a551f"
       ],
       "layout": "IPY_MODEL_20aa14eb31584a2991781949e3ed5d94"
      }
     },
     "a37a77bc37364173b8216c02d49238f5": {
      "model_module": "@jupyter-widgets/base",
      "model_module_version": "1.1.0",
      "model_name": "LayoutModel",
      "state": {}
     },
     "a387ffe57fc94c5a9211c881257b005c": {
      "model_module": "@jupyter-widgets/controls",
      "model_module_version": "1.4.0",
      "model_name": "DescriptionStyleModel",
      "state": {
       "description_width": ""
      }
     },
     "a45990ea6a8b4df3b2f1fda272ff7803": {
      "model_module": "@jupyter-widgets/controls",
      "model_module_version": "1.4.0",
      "model_name": "DescriptionStyleModel",
      "state": {
       "description_width": ""
      }
     },
     "a48948f3702d4a34b125fb88046f683b": {
      "model_module": "@jupyter-widgets/base",
      "model_module_version": "1.1.0",
      "model_name": "LayoutModel",
      "state": {}
     },
     "a4a5f8b8afc74f34a95f57e614699d43": {
      "model_module": "@jupyter-widgets/controls",
      "model_module_version": "1.4.0",
      "model_name": "VBoxModel",
      "state": {
       "children": [
        "IPY_MODEL_1699129863af4d2a9588e474341a92f4",
        "IPY_MODEL_19c9675276c64c5caae5958dc4a81e80",
        "IPY_MODEL_1e9fbd4da40c4b08bb2fcad573276afd",
        "IPY_MODEL_d10fb1a0391f49e29df799dbadb79716"
       ],
       "layout": "IPY_MODEL_55cf85310ad04a9ba4d4183109843a3c"
      }
     },
     "a4db6d3f053f4a53ba5b2004ce1b55e8": {
      "model_module": "@jupyter-widgets/base",
      "model_module_version": "1.1.0",
      "model_name": "LayoutModel",
      "state": {}
     },
     "a52167a10eb74f58ad15bdd5341f6cb6": {
      "model_module": "@jupyter-widgets/controls",
      "model_module_version": "1.4.0",
      "model_name": "ButtonStyleModel",
      "state": {}
     },
     "a5649883ce5c48aa8005783a550fd6cd": {
      "model_module": "@jupyter-widgets/base",
      "model_module_version": "1.1.0",
      "model_name": "LayoutModel",
      "state": {}
     },
     "a58c6b50720f44d69647fb4d2bbf1275": {
      "model_module": "@jupyter-widgets/controls",
      "model_module_version": "1.4.0",
      "model_name": "ButtonStyleModel",
      "state": {}
     },
     "a5b151858d5c41589b800a7abe1a8bcb": {
      "model_module": "@jupyter-widgets/base",
      "model_module_version": "1.1.0",
      "model_name": "LayoutModel",
      "state": {}
     },
     "a6236502231048c68c530add9f73dce7": {
      "model_module": "@jupyter-widgets/base",
      "model_module_version": "1.1.0",
      "model_name": "LayoutModel",
      "state": {}
     },
     "a67a97ecef1347e4aa1a72ebc4dbc33c": {
      "model_module": "@jupyter-widgets/base",
      "model_module_version": "1.1.0",
      "model_name": "LayoutModel",
      "state": {}
     },
     "a68361e3d6c74fd8a7a9557dc9714b57": {
      "model_module": "@jupyter-widgets/base",
      "model_module_version": "1.1.0",
      "model_name": "LayoutModel",
      "state": {}
     },
     "a6da25cc715b466ca696442ef171c65a": {
      "model_module": "@jupyter-widgets/controls",
      "model_module_version": "1.4.0",
      "model_name": "ButtonModel",
      "state": {
       "description": "Salt Satiated",
       "layout": "IPY_MODEL_080d949cd7b4403fbad30eff8e40e6a3",
       "style": "IPY_MODEL_adb3c16395d14d9db378ff0d28a7503d"
      }
     },
     "a716c33436b842ab9cd05ea3439262b7": {
      "model_module": "@jupyter-widgets/controls",
      "model_module_version": "1.4.0",
      "model_name": "VBoxModel",
      "state": {
       "children": [
        "IPY_MODEL_2cecaace39834b34bbd6228042a4a8ac",
        "IPY_MODEL_63f8c1182bd64cddbac524a6c11bee6c",
        "IPY_MODEL_78ce45ff85f04a63b833ba531cb1c013",
        "IPY_MODEL_a00cdd3b736940948d9236d6d3c0fc92"
       ],
       "layout": "IPY_MODEL_3b95b9071f3741a1a2bbc9dc5937f5c5"
      }
     },
     "a72a244f402a4d73a8c18b22018d38e1": {
      "model_module": "@jupyter-widgets/controls",
      "model_module_version": "1.4.0",
      "model_name": "HBoxModel",
      "state": {
       "children": [
        "IPY_MODEL_a2c670d8da8c48469bdf1be17550c3fe",
        "IPY_MODEL_837dd6de5b33478088f09baf61bc1c6d"
       ],
       "layout": "IPY_MODEL_418abebe059242f0b90fe730fa88f323"
      }
     },
     "a7e69803fc6442b89386c5ba0b14722b": {
      "model_module": "@jupyter-widgets/controls",
      "model_module_version": "1.4.0",
      "model_name": "HBoxModel",
      "state": {
       "children": [
        "IPY_MODEL_a2c670d8da8c48469bdf1be17550c3fe",
        "IPY_MODEL_837dd6de5b33478088f09baf61bc1c6d"
       ],
       "layout": "IPY_MODEL_cbdc8b3cbbcd4ca5ba72bacae9f03faa"
      }
     },
     "a803b5ef9bed4a66a42095613634b6c7": {
      "model_module": "@jupyter-widgets/controls",
      "model_module_version": "1.4.0",
      "model_name": "DescriptionStyleModel",
      "state": {
       "description_width": ""
      }
     },
     "a81507617c6646dfa749634de2300d8b": {
      "model_module": "@jupyter-widgets/controls",
      "model_module_version": "1.4.0",
      "model_name": "FloatTextModel",
      "state": {
       "description": "Na",
       "layout": "IPY_MODEL_9280fe6093784069a298f4cb9b606363",
       "step": null,
       "style": "IPY_MODEL_230f6381f49b4c61b17e14c4551681ee",
       "value": 1.5
      }
     },
     "a93f4b507a794a67b6c000b5ffe17164": {
      "model_module": "@jupyter-widgets/controls",
      "model_module_version": "1.4.0",
      "model_name": "DescriptionStyleModel",
      "state": {
       "description_width": ""
      }
     },
     "a98239e834ea401a90472925efe0d3c6": {
      "model_module": "@jupyter-widgets/base",
      "model_module_version": "1.1.0",
      "model_name": "LayoutModel",
      "state": {}
     },
     "aa3a6f46bcf346368a1453ee9dfbc385": {
      "model_module": "@jupyter-widgets/controls",
      "model_module_version": "1.4.0",
      "model_name": "HBoxModel",
      "state": {
       "children": [
        "IPY_MODEL_951faf33c5574a60894934154b34c57b",
        "IPY_MODEL_85143d9c21a44a378e4f923a4accad8c",
        "IPY_MODEL_4489a638250a46fa82c4d2694bc36602",
        "IPY_MODEL_3ddc5cad27d94a2584c6427b27eb2f27"
       ],
       "layout": "IPY_MODEL_0f5313223aba42de98153dc0e17cb812"
      }
     },
     "aaf5727b990b456fb6f708198508b11e": {
      "model_module": "@jupyter-widgets/controls",
      "model_module_version": "1.4.0",
      "model_name": "VBoxModel",
      "state": {
       "children": [
        "IPY_MODEL_1e4e46e4c31c46b9b8317d4b1c2e9ad2",
        "IPY_MODEL_3c7a343be52c4c26bdca1cb06d871c1a"
       ],
       "layout": "IPY_MODEL_55cf85310ad04a9ba4d4183109843a3c"
      }
     },
     "aba505dadc6347b483cf4409284706df": {
      "model_module": "@jupyter-widgets/controls",
      "model_module_version": "1.4.0",
      "model_name": "FloatTextModel",
      "state": {
       "description": "Glucose",
       "layout": "IPY_MODEL_3aff461304cd404caa02c1b39e3f808b",
       "step": null,
       "style": "IPY_MODEL_18eecc81142e4ce1b62d5bfcf4ea23f0",
       "value": 1
      }
     },
     "ac5ea498a65e4ba99705f9fcf601837f": {
      "model_module": "@jupyter-widgets/base",
      "model_module_version": "1.1.0",
      "model_name": "LayoutModel",
      "state": {
       "width": "100px"
      }
     },
     "ac880d8203fc4069b14fca32b7a892aa": {
      "model_module": "@jupyter-widgets/base",
      "model_module_version": "1.1.0",
      "model_name": "LayoutModel",
      "state": {}
     },
     "adb3c16395d14d9db378ff0d28a7503d": {
      "model_module": "@jupyter-widgets/controls",
      "model_module_version": "1.4.0",
      "model_name": "ButtonStyleModel",
      "state": {}
     },
     "ae80b906fd5847a7966f8fae25b42e05": {
      "model_module": "@jupyter-widgets/controls",
      "model_module_version": "1.4.0",
      "model_name": "FloatTextModel",
      "state": {
       "layout": "IPY_MODEL_2ab1348403404975910c7601ccdbe2f8",
       "step": null,
       "style": "IPY_MODEL_0c12438d3f364edc861011c688255caa",
       "value": -1
      }
     },
     "af07ce2de99647bb9ea41362481a663b": {
      "model_module": "@jupyter-widgets/base",
      "model_module_version": "1.1.0",
      "model_name": "LayoutModel",
      "state": {}
     },
     "af82a22a45284281ac6f6268114e0657": {
      "model_module": "@jupyter-widgets/base",
      "model_module_version": "1.1.0",
      "model_name": "LayoutModel",
      "state": {
       "width": "100px"
      }
     },
     "b0d20bb656e6473bb10f4c2849de1db2": {
      "model_module": "@jupyter-widgets/controls",
      "model_module_version": "1.4.0",
      "model_name": "DescriptionStyleModel",
      "state": {
       "description_width": ""
      }
     },
     "b1ba797d3ea0420abbb6cb3de5bcba3b": {
      "model_module": "@jupyter-widgets/controls",
      "model_module_version": "1.4.0",
      "model_name": "FloatTextModel",
      "state": {
       "layout": "IPY_MODEL_b58bc2d1d71244e184a322b6c54a73ed",
       "step": null,
       "style": "IPY_MODEL_d847e449d4d94f9390e6815213e1b32e"
      }
     },
     "b1c5e8d89f584b6695cea99b90b3eb1e": {
      "model_module": "@jupyter-widgets/base",
      "model_module_version": "1.1.0",
      "model_name": "LayoutModel",
      "state": {}
     },
     "b242452d25eb4509b913e079c4c2d8a9": {
      "model_module": "@jupyter-widgets/controls",
      "model_module_version": "1.4.0",
      "model_name": "VBoxModel",
      "state": {
       "children": [
        "IPY_MODEL_bf432225d5ad4935a765e6e38d3e6101",
        "IPY_MODEL_96cd8e4cb8ec40abb0cf6b49d992c205",
        "IPY_MODEL_a72a244f402a4d73a8c18b22018d38e1",
        "IPY_MODEL_6c32f6bdad76487e9b1df97012395edc",
        "IPY_MODEL_de0ab60544794214b9f4161966ab2ab7"
       ],
       "layout": "IPY_MODEL_a5b151858d5c41589b800a7abe1a8bcb"
      }
     },
     "b246629865df4f8ebe9ce21d3d677b59": {
      "model_module": "@jupyter-widgets/controls",
      "model_module_version": "1.4.0",
      "model_name": "ButtonModel",
      "state": {
       "description": "Salt Deprived",
       "layout": "IPY_MODEL_a98239e834ea401a90472925efe0d3c6",
       "style": "IPY_MODEL_87620ab9eb854264a50896de10027a0e"
      }
     },
     "b2c35b37ec664a06b5c156ef379283b9": {
      "model_module": "@jupyter-widgets/controls",
      "model_module_version": "1.4.0",
      "model_name": "DescriptionStyleModel",
      "state": {
       "description_width": ""
      }
     },
     "b48ddb471ddf4c8591db6d067321e364": {
      "model_module": "@jupyter-widgets/base",
      "model_module_version": "1.1.0",
      "model_name": "LayoutModel",
      "state": {}
     },
     "b58bc2d1d71244e184a322b6c54a73ed": {
      "model_module": "@jupyter-widgets/base",
      "model_module_version": "1.1.0",
      "model_name": "LayoutModel",
      "state": {
       "width": "100px"
      }
     },
     "b5be984d68d941a4966bbb127f2a0d3a": {
      "model_module": "@jupyter-widgets/controls",
      "model_module_version": "1.4.0",
      "model_name": "DescriptionStyleModel",
      "state": {
       "description_width": ""
      }
     },
     "b62eaba858984dada9d89780ac250590": {
      "model_module": "@jupyter-widgets/base",
      "model_module_version": "1.1.0",
      "model_name": "LayoutModel",
      "state": {}
     },
     "b640eaf2b88a4a679bcdb2a447045882": {
      "model_module": "@jupyter-widgets/base",
      "model_module_version": "1.1.0",
      "model_name": "LayoutModel",
      "state": {}
     },
     "b645232010f944d08001abd3c31e6b14": {
      "model_module": "@jupyter-widgets/base",
      "model_module_version": "1.1.0",
      "model_name": "LayoutModel",
      "state": {}
     },
     "b65a7c32916b40d4888716cacf049032": {
      "model_module": "@jupyter-widgets/base",
      "model_module_version": "1.1.0",
      "model_name": "LayoutModel",
      "state": {}
     },
     "b66e5059115a45a9bee56669e73534c7": {
      "model_module": "@jupyter-widgets/controls",
      "model_module_version": "1.4.0",
      "model_name": "DescriptionStyleModel",
      "state": {
       "description_width": ""
      }
     },
     "b77f4c608426491e83a4c140f29e7b08": {
      "model_module": "@jupyter-widgets/controls",
      "model_module_version": "1.4.0",
      "model_name": "LabelModel",
      "state": {
       "layout": "IPY_MODEL_a67a97ecef1347e4aa1a72ebc4dbc33c",
       "style": "IPY_MODEL_7ef23ae51a3d4ba6a4ef0aa84adaef27",
       "value": "Expected reward ($ \\tilde r$)"
      }
     },
     "b7e1147d3ad7461b9eb2e00ae4be3b1a": {
      "model_module": "@jupyter-widgets/controls",
      "model_module_version": "1.4.0",
      "model_name": "HBoxModel",
      "state": {
       "children": [
        "IPY_MODEL_a81507617c6646dfa749634de2300d8b",
        "IPY_MODEL_4659af5d324d447993cb4ad27a52bc5a",
        "IPY_MODEL_89f9834c6474459e827a6d2eefa9bd4e"
       ],
       "layout": "IPY_MODEL_e2be589678e748acaeab4c9fbd6db9a3"
      }
     },
     "b931419f3d184701b7d7b06222b1fffc": {
      "model_module": "@jupyter-widgets/base",
      "model_module_version": "1.1.0",
      "model_name": "LayoutModel",
      "state": {
       "width": "100px"
      }
     },
     "b9385b69925249249983da859f397142": {
      "model_module": "@jupyter-widgets/controls",
      "model_module_version": "1.4.0",
      "model_name": "DescriptionStyleModel",
      "state": {
       "description_width": ""
      }
     },
     "bc6c32e680674ff3982f985e721c84f2": {
      "model_module": "@jupyter-widgets/base",
      "model_module_version": "1.1.0",
      "model_name": "LayoutModel",
      "state": {}
     },
     "bc8c999f20a041c883e3865dca30af8d": {
      "model_module": "@jupyter-widgets/base",
      "model_module_version": "1.1.0",
      "model_name": "LayoutModel",
      "state": {
       "width": "100px"
      }
     },
     "be02cd7e14784f6899b67ad1d5da9208": {
      "model_module": "@jupyter-widgets/controls",
      "model_module_version": "1.4.0",
      "model_name": "VBoxModel",
      "state": {
       "children": [
        "IPY_MODEL_82330e8788b14de0883e1e6065fb6a50",
        "IPY_MODEL_39eabe13dbc64353af7d83b2a086693e",
        "IPY_MODEL_702d901b2a264d3b881a01b60862c105",
        "IPY_MODEL_eeea576badd44f8b80b4b2e5be160578"
       ],
       "layout": "IPY_MODEL_fbceda8382344b678d96db43fba5b3fe"
      }
     },
     "bed81a14d12e40e2ba05b23ddfce300a": {
      "model_module": "@jupyter-widgets/base",
      "model_module_version": "1.1.0",
      "model_name": "LayoutModel",
      "state": {}
     },
     "bf432225d5ad4935a765e6e38d3e6101": {
      "model_module": "@jupyter-widgets/controls",
      "model_module_version": "1.4.0",
      "model_name": "HBoxModel",
      "state": {
       "children": [
        "IPY_MODEL_b246629865df4f8ebe9ce21d3d677b59",
        "IPY_MODEL_f08f46bb4dfb463f9ad38216dfd7271e",
        "IPY_MODEL_61e44de897174a149af1a86ce895d8c9",
        "IPY_MODEL_3fd2f8d180934588a4cd806d50acb803"
       ],
       "layout": "IPY_MODEL_01729a428a9c4a64bea4b26dab3f26f2"
      }
     },
     "bf49fa4d1b4f4a5ab162bc4e47853eee": {
      "model_module": "@jupyter-widgets/base",
      "model_module_version": "1.1.0",
      "model_name": "LayoutModel",
      "state": {
       "width": "100px"
      }
     },
     "c0373f704f5f4727b10ed5ff291e8282": {
      "model_module": "@jupyter-widgets/controls",
      "model_module_version": "1.4.0",
      "model_name": "HBoxModel",
      "state": {
       "children": [
        "IPY_MODEL_78724fa8b97346b19f62e4df67356d2f",
        "IPY_MODEL_c69e0dfab3ee474293cfe65cf1170010",
        "IPY_MODEL_d80441ec0d3a40e098f96b3b1b649504",
        "IPY_MODEL_44b52a9b98dc47d2a37967a3bd7386ea"
       ],
       "layout": "IPY_MODEL_232704df18944dc5921cf5eeaa340649"
      }
     },
     "c0c12996b053419ab8ac201f562cd20f": {
      "model_module": "@jupyter-widgets/base",
      "model_module_version": "1.1.0",
      "model_name": "LayoutModel",
      "state": {}
     },
     "c0c77f4aa0854c3082d74285a708fe3d": {
      "model_module": "@jupyter-widgets/controls",
      "model_module_version": "1.4.0",
      "model_name": "LabelModel",
      "state": {
       "layout": "IPY_MODEL_b62eaba858984dada9d89780ac250590",
       "style": "IPY_MODEL_4509489448f74a9cb3cda0e3826a30ca",
       "value": "Expected reward ($ \\tilde r$)"
      }
     },
     "c0f7c2f28bfa4cf6942684c7e5b05be0": {
      "model_module": "@jupyter-widgets/controls",
      "model_module_version": "1.4.0",
      "model_name": "LabelModel",
      "state": {
       "layout": "IPY_MODEL_66a8ad9d60e04025898b3b992683293a",
       "style": "IPY_MODEL_fa0a4e47e756426881db1ca84d4e013c",
       "value": "Sugar"
      }
     },
     "c11f6b73b4d948d9bf15a59f382c8e14": {
      "model_module": "@jupyter-widgets/controls",
      "model_module_version": "1.4.0",
      "model_name": "DescriptionStyleModel",
      "state": {
       "description_width": ""
      }
     },
     "c128ce7f4cf94c05bea8bba824309536": {
      "model_module": "@jupyter-widgets/base",
      "model_module_version": "1.1.0",
      "model_name": "LayoutModel",
      "state": {
       "width": "100px"
      }
     },
     "c1408e1ddea74651b795a74b99530ac6": {
      "model_module": "@jupyter-widgets/controls",
      "model_module_version": "1.4.0",
      "model_name": "DescriptionStyleModel",
      "state": {
       "description_width": ""
      }
     },
     "c2ff63cb6ab048288f1b135f5bc7e571": {
      "model_module": "@jupyter-widgets/base",
      "model_module_version": "1.1.0",
      "model_name": "LayoutModel",
      "state": {}
     },
     "c37ab586df1a43acb92591ba57f6811f": {
      "model_module": "@jupyter-widgets/controls",
      "model_module_version": "1.4.0",
      "model_name": "DescriptionStyleModel",
      "state": {
       "description_width": ""
      }
     },
     "c69e0dfab3ee474293cfe65cf1170010": {
      "model_module": "@jupyter-widgets/controls",
      "model_module_version": "1.4.0",
      "model_name": "VBoxModel",
      "state": {
       "children": [
        "IPY_MODEL_382388228d824152b310d624d20c8efe",
        "IPY_MODEL_920497ce116b44e7b92f460efb0aa2ea",
        "IPY_MODEL_f6e44abc494e4933983edca88531ba23",
        "IPY_MODEL_405bcf7c977e470f84a1d69b40d3ae1a"
       ],
       "layout": "IPY_MODEL_34e12896ce9449c18ed7a57be5c20a0e"
      }
     },
     "c78fb0e6d4df406ab7142ab9094704b4": {
      "model_module": "@jupyter-widgets/base",
      "model_module_version": "1.1.0",
      "model_name": "LayoutModel",
      "state": {
       "width": "100px"
      }
     },
     "c79509c6afa14b1f9f3a21d1ae6e35b5": {
      "model_module": "@jupyter-widgets/controls",
      "model_module_version": "1.4.0",
      "model_name": "DescriptionStyleModel",
      "state": {
       "description_width": ""
      }
     },
     "c98da47b80eb41df94f5036d837de73f": {
      "model_module": "@jupyter-widgets/controls",
      "model_module_version": "1.4.0",
      "model_name": "VBoxModel",
      "state": {
       "children": [
        "IPY_MODEL_3efe85a59f41477d91dc05d525dac4d3",
        "IPY_MODEL_32b78f8b2e904ed3a77896a3cd92f344",
        "IPY_MODEL_97f1bd6136ac43e09f1b2ac9b7330e7f",
        "IPY_MODEL_0323e4347db34f5783dd5d79b0044855"
       ],
       "layout": "IPY_MODEL_5908fc88edc24e9bb0f96dcd5144ded0"
      }
     },
     "cb35b8252fc5499b9b9cc63f20182413": {
      "model_module": "@jupyter-widgets/controls",
      "model_module_version": "1.4.0",
      "model_name": "FloatTextModel",
      "state": {
       "layout": "IPY_MODEL_8ee9494e5de54c419fa54ec387b7048b",
       "step": null,
       "style": "IPY_MODEL_5a3a43d71983457d84e86fbfa7304fb2",
       "value": 0.5
      }
     },
     "cbdc8b3cbbcd4ca5ba72bacae9f03faa": {
      "model_module": "@jupyter-widgets/base",
      "model_module_version": "1.1.0",
      "model_name": "LayoutModel",
      "state": {}
     },
     "cd4d2580c04a4d73b7467988f7fc5e69": {
      "model_module": "@jupyter-widgets/controls",
      "model_module_version": "1.4.0",
      "model_name": "FloatTextModel",
      "state": {
       "layout": "IPY_MODEL_802149c46bb74bf2946fce5ec25606a5",
       "step": null,
       "style": "IPY_MODEL_0cdfabe9b4a84c4dbcdefc1f2b8cae82"
      }
     },
     "ce225e422716491d9203a84797938652": {
      "model_module": "@jupyter-widgets/controls",
      "model_module_version": "1.4.0",
      "model_name": "DescriptionStyleModel",
      "state": {
       "description_width": ""
      }
     },
     "cfa179c6034c4ac1b5c2e3ac36decdbd": {
      "model_module": "@jupyter-widgets/controls",
      "model_module_version": "1.4.0",
      "model_name": "VBoxModel",
      "state": {
       "children": [
        "IPY_MODEL_8fc70e5a10ef45b3a0337c6c7cf97c17",
        "IPY_MODEL_aaf5727b990b456fb6f708198508b11e",
        "IPY_MODEL_0feefaee885a4e2da17aea3b481b2b7a",
        "IPY_MODEL_9db07b212be04347b1fa8831f94402d9",
        "IPY_MODEL_d5f24bcb9e4049ef9b46d1e7a2b26e95"
       ],
       "layout": "IPY_MODEL_dd0eafb59440420b97c5c1e486296647"
      }
     },
     "d10fb1a0391f49e29df799dbadb79716": {
      "model_module": "@jupyter-widgets/controls",
      "model_module_version": "1.4.0",
      "model_name": "FloatTextModel",
      "state": {
       "description": "Sugar",
       "layout": "IPY_MODEL_a0d685ddf513457ca58d2062b6cae38a",
       "step": null,
       "style": "IPY_MODEL_0de3f8e3bdc84614b94da545ac3a0022"
      }
     },
     "d20ea6513e35405f8f79b824474537a8": {
      "model_module": "@jupyter-widgets/controls",
      "model_module_version": "1.4.0",
      "model_name": "LabelModel",
      "state": {
       "layout": "IPY_MODEL_1b5a0dec595545d6ad4b77a73e2fac86",
       "style": "IPY_MODEL_1e6192a9eda542558ee85c3775200033",
       "value": "Strong Salt"
      }
     },
     "d276211623c647088f8babb5a5245ec0": {
      "model_module": "@jupyter-widgets/controls",
      "model_module_version": "1.4.0",
      "model_name": "DescriptionStyleModel",
      "state": {
       "description_width": ""
      }
     },
     "d296b5d6a28d47d5ada98a6721c5e045": {
      "model_module": "@jupyter-widgets/base",
      "model_module_version": "1.1.0",
      "model_name": "LayoutModel",
      "state": {}
     },
     "d2a17e2a2be148b9ab88a481f2b7eda3": {
      "model_module": "@jupyter-widgets/base",
      "model_module_version": "1.1.0",
      "model_name": "LayoutModel",
      "state": {}
     },
     "d2ce86a30f6e4ea0b861231549604c5e": {
      "model_module": "@jupyter-widgets/base",
      "model_module_version": "1.1.0",
      "model_name": "LayoutModel",
      "state": {}
     },
     "d313a59b3fd94a9da077ae52dfb3db42": {
      "model_module": "@jupyter-widgets/controls",
      "model_module_version": "1.4.0",
      "model_name": "DescriptionStyleModel",
      "state": {
       "description_width": ""
      }
     },
     "d47a7431274c41deaff8629d6be4aaf2": {
      "model_module": "@jupyter-widgets/base",
      "model_module_version": "1.1.0",
      "model_name": "LayoutModel",
      "state": {}
     },
     "d4f1411d3c914923807cc90c98e1fa4e": {
      "model_module": "@jupyter-widgets/base",
      "model_module_version": "1.1.0",
      "model_name": "LayoutModel",
      "state": {}
     },
     "d5f02a5c05524f78b6e56f3c127e6c5a": {
      "model_module": "@jupyter-widgets/base",
      "model_module_version": "1.1.0",
      "model_name": "LayoutModel",
      "state": {}
     },
     "d5f24bcb9e4049ef9b46d1e7a2b26e95": {
      "model_module": "@jupyter-widgets/controls",
      "model_module_version": "1.4.0",
      "model_name": "HTMLMathModel",
      "state": {
       "layout": "IPY_MODEL_66b41d140b834c7bb3e4b4adc5b6ee48",
       "style": "IPY_MODEL_2b311871b5bf41a3854167fcc6bb8ae8",
       "value": "\n$$\n\\begin{align}\n\\begin{split}\n\\tilde r(\\mathbf{r},\\mathbf{\\kappa},\\mathbf{c})= & \n\\kappa_{\\text{Na}} \\mathbf{r}_{\\text{Na}}\\mathbf{c} \n& + \\kappa_{h} \\mathbf{r}_{h}\\mathbf{c}\n& + \\kappa_{\\text{Glc}} \\mathbf{r}_{\\text{Glc}}\\mathbf{c} \\\\\n = & 1.5 \\times \\begin{bmatrix}1.0 \\\\ 1.0 \\\\ 0.0\\end{bmatrix}\\circ \\begin{bmatrix}1.0 \\\\ 1.0 \\\\ 0.0\\end{bmatrix} & + 1 \\times \\begin{bmatrix}0.0 \\\\ -1.0 \\\\ 0.0\\end{bmatrix}\\circ \\begin{bmatrix}1.0 \\\\ 1.0 \\\\ 0.0\\end{bmatrix} & + 1 \\times \\begin{bmatrix}0.0 \\\\ 0.0 \\\\ 1.0\\end{bmatrix}\\circ \\begin{bmatrix}1.0 \\\\ 1.0 \\\\ 0.0\\end{bmatrix} \\\\\n = & \\begin{bmatrix}1.5 \\\\ 1.5 \\\\ 0.0\\end{bmatrix} & + \\begin{bmatrix}0.0 \\\\ -1.0 \\\\ 0.0\\end{bmatrix} & + \\begin{bmatrix}0.0 \\\\ 0.0 \\\\ 0.0\\end{bmatrix} \\\\\n = & \\begin{bmatrix}1.5 \\\\ 0.5 \\\\ 0.0\\end{bmatrix} \\begin{matrix} \\textit{Moderate Salt solution}\\\\ \\textit{Strong Salt solution}\\\\ \\textit{Sugar solution} \\end{matrix}\n\\end{split}\n\\end{align}\n$$\n"
      }
     },
     "d7fbf6624dc241688d696abe4d410c38": {
      "model_module": "@jupyter-widgets/base",
      "model_module_version": "1.1.0",
      "model_name": "LayoutModel",
      "state": {}
     },
     "d80441ec0d3a40e098f96b3b1b649504": {
      "model_module": "@jupyter-widgets/controls",
      "model_module_version": "1.4.0",
      "model_name": "VBoxModel",
      "state": {
       "children": [
        "IPY_MODEL_6f5299d961b441b5acfd0a42965b80b9",
        "IPY_MODEL_76fa766fe55f490c994532ac0349edd2",
        "IPY_MODEL_e1fdf2cc2b394495b0db09b26d2034d7",
        "IPY_MODEL_08ee656fb78445c79843899c53725b4d"
       ],
       "layout": "IPY_MODEL_b640eaf2b88a4a679bcdb2a447045882"
      }
     },
     "d847e449d4d94f9390e6815213e1b32e": {
      "model_module": "@jupyter-widgets/controls",
      "model_module_version": "1.4.0",
      "model_name": "DescriptionStyleModel",
      "state": {
       "description_width": ""
      }
     },
     "d8f24bf054534271b5f0ec10d045ba78": {
      "model_module": "@jupyter-widgets/controls",
      "model_module_version": "1.4.0",
      "model_name": "LabelModel",
      "state": {
       "layout": "IPY_MODEL_8c1aa9ce38e746c2b7a747bcf0327c2b",
       "style": "IPY_MODEL_65799a5bca3048a383520aeb6d5fc0b3",
       "value": "Solution"
      }
     },
     "d900b53d063b4776a1b0b16bb1e5291e": {
      "model_module": "@jupyter-widgets/controls",
      "model_module_version": "1.4.0",
      "model_name": "ButtonModel",
      "state": {
       "description": "Reset to Defaults",
       "layout": "IPY_MODEL_36ae1b219af64c84b4692c434f38b40a",
       "style": "IPY_MODEL_a23414966d6c48b6838cadd6910cd0fa"
      }
     },
     "d96e55b60baa419eb3fbfc405cd6d174": {
      "model_module": "@jupyter-widgets/base",
      "model_module_version": "1.1.0",
      "model_name": "LayoutModel",
      "state": {}
     },
     "da4acbab2bf541f8ad48c1a4ff40c34e": {
      "model_module": "@jupyter-widgets/controls",
      "model_module_version": "1.4.0",
      "model_name": "FloatTextModel",
      "state": {
       "layout": "IPY_MODEL_4b1ef482063a4c96b7c94456681309a6",
       "step": null,
       "style": "IPY_MODEL_b9385b69925249249983da859f397142"
      }
     },
     "dae343f2b68449b49c1ef0ff28be3f07": {
      "model_module": "@jupyter-widgets/controls",
      "model_module_version": "1.4.0",
      "model_name": "HTMLMathModel",
      "state": {
       "layout": "IPY_MODEL_5a22f66b3c694a14957734b680619e51",
       "style": "IPY_MODEL_14051994c4cf48d499e2caa0b9abb600",
       "value": "\n$$\n\\begin{align}\n\\begin{split}\n\\tilde r(\\mathbf{r},\\mathbf{\\kappa},\\mathbf{c})= & \n\\kappa_{\\text{Na}} \\mathbf{r}_{\\text{Na}}\\mathbf{c} \n& + \\kappa_{h} \\mathbf{r}_{h}\\mathbf{c}\n& + \\kappa_{\\text{Glc}} \\mathbf{r}_{\\text{Glc}}\\mathbf{c} \\\\\n = & 1.5 \\times \\begin{bmatrix}1.0 \\\\ 1.0 \\\\ 0.0\\end{bmatrix}\\circ \\begin{bmatrix}1.0 \\\\ 1.0 \\\\ 0.0\\end{bmatrix} & + 1 \\times \\begin{bmatrix}0.0 \\\\ -1.0 \\\\ 0.0\\end{bmatrix}\\circ \\begin{bmatrix}1.0 \\\\ 1.0 \\\\ 0.0\\end{bmatrix} & + 1 \\times \\begin{bmatrix}0.0 \\\\ 0.0 \\\\ 1.0\\end{bmatrix}\\circ \\begin{bmatrix}1.0 \\\\ 1.0 \\\\ 0.0\\end{bmatrix} \\\\\n = & \\begin{bmatrix}1.5 \\\\ 1.5 \\\\ 0.0\\end{bmatrix} & + \\begin{bmatrix}0.0 \\\\ -1.0 \\\\ 0.0\\end{bmatrix} & + \\begin{bmatrix}0.0 \\\\ 0.0 \\\\ 0.0\\end{bmatrix} \\\\\n = & \\begin{bmatrix}1.5 \\\\ 0.5 \\\\ 0.0\\end{bmatrix} \\begin{matrix} \\textit{Moderate Salt solution}\\\\ \\textit{Strong Salt solution}\\\\ \\textit{Sugar solution} \\end{matrix}\n\\end{split}\n\\end{align}\n$$\n"
      }
     },
     "db69c4515b974628aad76e4f0c222a01": {
      "model_module": "@jupyter-widgets/controls",
      "model_module_version": "1.4.0",
      "model_name": "ButtonStyleModel",
      "state": {}
     },
     "dc36b9325fed43ca8c75bc61ccc21516": {
      "model_module": "@jupyter-widgets/controls",
      "model_module_version": "1.4.0",
      "model_name": "ButtonStyleModel",
      "state": {}
     },
     "dd0eafb59440420b97c5c1e486296647": {
      "model_module": "@jupyter-widgets/base",
      "model_module_version": "1.1.0",
      "model_name": "LayoutModel",
      "state": {}
     },
     "dd7d521471354304b577006dc7d08514": {
      "model_module": "@jupyter-widgets/controls",
      "model_module_version": "1.4.0",
      "model_name": "ButtonStyleModel",
      "state": {}
     },
     "de0ab60544794214b9f4161966ab2ab7": {
      "model_module": "@jupyter-widgets/controls",
      "model_module_version": "1.4.0",
      "model_name": "HTMLMathModel",
      "state": {
       "layout": "IPY_MODEL_1e807b2f4c904ce4a1c3c890d6767d32",
       "style": "IPY_MODEL_ce225e422716491d9203a84797938652",
       "value": "\n$$\n\\begin{align}\n\\begin{split}\n\\tilde r(\\mathbf{r},\\mathbf{\\kappa},\\mathbf{c})= & \n\\kappa_{\\text{Na}} \\mathbf{r}_{\\text{Na}}\\mathbf{c} \n& + \\kappa_{h} \\mathbf{r}_{h}\\mathbf{c}\n& + \\kappa_{\\text{Glc}} \\mathbf{r}_{\\text{Glc}}\\mathbf{c} \\\\\n = & 1.5 \\times \\begin{bmatrix}1.0 \\\\ 1.0 \\\\ 0.0\\end{bmatrix}\\circ \\begin{bmatrix}1.0 \\\\ 1.0 \\\\ 0.0\\end{bmatrix} & + 1 \\times \\begin{bmatrix}0.0 \\\\ -1.0 \\\\ 0.0\\end{bmatrix}\\circ \\begin{bmatrix}1.0 \\\\ 1.0 \\\\ 0.0\\end{bmatrix} & + 1 \\times \\begin{bmatrix}0.0 \\\\ 0.0 \\\\ 1.0\\end{bmatrix}\\circ \\begin{bmatrix}1.0 \\\\ 1.0 \\\\ 0.0\\end{bmatrix} \\\\\n = & \\begin{bmatrix}1.5 \\\\ 1.5 \\\\ 0.0\\end{bmatrix} & + \\begin{bmatrix}0.0 \\\\ -1.0 \\\\ 0.0\\end{bmatrix} & + \\begin{bmatrix}0.0 \\\\ 0.0 \\\\ 0.0\\end{bmatrix} \\\\\n = & \\begin{bmatrix}1.5 \\\\ 0.5 \\\\ 0.0\\end{bmatrix} \\begin{matrix} \\textit{Moderate Salt solution}\\\\ \\textit{Strong Salt solution}\\\\ \\textit{Sugar solution} \\end{matrix}\n\\end{split}\n\\end{align}\n$$\n"
      }
     },
     "de8035ff85254cc2a47a54e1954c89a2": {
      "model_module": "@jupyter-widgets/controls",
      "model_module_version": "1.4.0",
      "model_name": "FloatTextModel",
      "state": {
       "layout": "IPY_MODEL_af82a22a45284281ac6f6268114e0657",
       "step": null,
       "style": "IPY_MODEL_3b4f9e1120924e09a4e8f49b71659c27"
      }
     },
     "e0aabc3226ea4d9fa30a82285a2ee62d": {
      "model_module": "@jupyter-widgets/controls",
      "model_module_version": "1.4.0",
      "model_name": "DescriptionStyleModel",
      "state": {
       "description_width": ""
      }
     },
     "e1fdf2cc2b394495b0db09b26d2034d7": {
      "model_module": "@jupyter-widgets/controls",
      "model_module_version": "1.4.0",
      "model_name": "FloatTextModel",
      "state": {
       "layout": "IPY_MODEL_0ece8e25f13f4b4888eedd8adf6338ce",
       "step": null,
       "style": "IPY_MODEL_6631f717403742178a50caa03332118b",
       "value": -1
      }
     },
     "e208382b43674669a1e9f9e7124ff2ab": {
      "model_module": "@jupyter-widgets/controls",
      "model_module_version": "1.4.0",
      "model_name": "LabelModel",
      "state": {
       "layout": "IPY_MODEL_932355629e6f4beca0a37407db137f2d",
       "style": "IPY_MODEL_4f2d50485c3d4907ba694cfd8ab6d491",
       "value": "Expected reward ($ \\tilde r$)"
      }
     },
     "e2be589678e748acaeab4c9fbd6db9a3": {
      "model_module": "@jupyter-widgets/base",
      "model_module_version": "1.1.0",
      "model_name": "LayoutModel",
      "state": {}
     },
     "e2f81a5e2623400cae2707ada8e83bbd": {
      "model_module": "@jupyter-widgets/controls",
      "model_module_version": "1.4.0",
      "model_name": "FloatTextModel",
      "state": {
       "layout": "IPY_MODEL_505bf21cdb8844af838c1946cec6a164",
       "step": null,
       "style": "IPY_MODEL_48cc8278eea9446fb8ecdfa93d95ab3d",
       "value": 1
      }
     },
     "e363c1b767344621a15e204a99b37947": {
      "model_module": "@jupyter-widgets/controls",
      "model_module_version": "1.4.0",
      "model_name": "FloatTextModel",
      "state": {
       "layout": "IPY_MODEL_b931419f3d184701b7d7b06222b1fffc",
       "step": null,
       "style": "IPY_MODEL_c79509c6afa14b1f9f3a21d1ae6e35b5"
      }
     },
     "e3d5bcbb0b5546b7a17a1057bc1460fd": {
      "model_module": "@jupyter-widgets/controls",
      "model_module_version": "1.4.0",
      "model_name": "LabelModel",
      "state": {
       "layout": "IPY_MODEL_31844c2de1994e6cb928f6a91c47b0a1",
       "style": "IPY_MODEL_b2c35b37ec664a06b5c156ef379283b9",
       "value": "Glucose"
      }
     },
     "e4f4152bf1fe48d797552012c113d6dd": {
      "model_module": "@jupyter-widgets/controls",
      "model_module_version": "1.4.0",
      "model_name": "FloatTextModel",
      "state": {
       "layout": "IPY_MODEL_9cf6d19f5abf4b54ac351c810ba65256",
       "step": null,
       "style": "IPY_MODEL_8d9c67d3a70a40ba881401b33383e6eb",
       "value": 1
      }
     },
     "e5653b1f84b34a4a8ffdcd0bd0d652e7": {
      "model_module": "@jupyter-widgets/base",
      "model_module_version": "1.1.0",
      "model_name": "LayoutModel",
      "state": {}
     },
     "e697495293ac451381aa576e71def93e": {
      "model_module": "@jupyter-widgets/base",
      "model_module_version": "1.1.0",
      "model_name": "LayoutModel",
      "state": {}
     },
     "e69f3e3709274c7c87213059bccfb528": {
      "model_module": "@jupyter-widgets/controls",
      "model_module_version": "1.4.0",
      "model_name": "FloatTextModel",
      "state": {
       "description": "Na",
       "layout": "IPY_MODEL_9016c8e2a4914174883e7cff5676340c",
       "step": null,
       "style": "IPY_MODEL_3f33e49e286c400aa3352b48323b5396",
       "value": 1.5
      }
     },
     "e739af441f574db4b5a1eb565aa1ca58": {
      "model_module": "@jupyter-widgets/base",
      "model_module_version": "1.1.0",
      "model_name": "LayoutModel",
      "state": {}
     },
     "e9c8fbe4ab9b4b1a89c25d873743b104": {
      "model_module": "@jupyter-widgets/controls",
      "model_module_version": "1.4.0",
      "model_name": "DescriptionStyleModel",
      "state": {
       "description_width": ""
      }
     },
     "eb70c324ef594f33937651e466f18163": {
      "model_module": "@jupyter-widgets/base",
      "model_module_version": "1.1.0",
      "model_name": "LayoutModel",
      "state": {
       "width": "100px"
      }
     },
     "eb916404a39243e0a4234f73a53cad91": {
      "model_module": "@jupyter-widgets/base",
      "model_module_version": "1.1.0",
      "model_name": "LayoutModel",
      "state": {}
     },
     "ebd0d45248e44aa9af8630ae0162ccc0": {
      "model_module": "@jupyter-widgets/base",
      "model_module_version": "1.1.0",
      "model_name": "LayoutModel",
      "state": {}
     },
     "ed02346f911f4815814fd758a916c8b8": {
      "model_module": "@jupyter-widgets/controls",
      "model_module_version": "1.4.0",
      "model_name": "DescriptionStyleModel",
      "state": {
       "description_width": ""
      }
     },
     "eeea576badd44f8b80b4b2e5be160578": {
      "model_module": "@jupyter-widgets/controls",
      "model_module_version": "1.4.0",
      "model_name": "FloatTextModel",
      "state": {
       "layout": "IPY_MODEL_7972dc0082474dfbaefe8b002c760b58",
       "step": null,
       "style": "IPY_MODEL_3832c9a701f34cca84ab2523b1e8279f"
      }
     },
     "f08f46bb4dfb463f9ad38216dfd7271e": {
      "model_module": "@jupyter-widgets/controls",
      "model_module_version": "1.4.0",
      "model_name": "ButtonModel",
      "state": {
       "description": "Salt Satiated",
       "layout": "IPY_MODEL_b645232010f944d08001abd3c31e6b14",
       "style": "IPY_MODEL_117fd7d14f4e4df081942cda9574f0c6"
      }
     },
     "f0c41ecd0bec459ebe6d86bac68442d1": {
      "model_module": "@jupyter-widgets/controls",
      "model_module_version": "1.4.0",
      "model_name": "HBoxModel",
      "state": {
       "children": [
        "IPY_MODEL_951faf33c5574a60894934154b34c57b",
        "IPY_MODEL_85143d9c21a44a378e4f923a4accad8c",
        "IPY_MODEL_4489a638250a46fa82c4d2694bc36602",
        "IPY_MODEL_3ddc5cad27d94a2584c6427b27eb2f27"
       ],
       "layout": "IPY_MODEL_fffc1b3c1116494d9ee7ee0a4b3aea73"
      }
     },
     "f1c4e887919048729fa515fac24887c9": {
      "model_module": "@jupyter-widgets/controls",
      "model_module_version": "1.4.0",
      "model_name": "LabelModel",
      "state": {
       "layout": "IPY_MODEL_704cd484271745f3b05c8a4e9fe10a62",
       "style": "IPY_MODEL_60a507be9da84d0eaa100f236b1cc008",
       "value": "Strong Salt"
      }
     },
     "f60a9237451a4fb3b9c5dfaa22183aa8": {
      "model_module": "@jupyter-widgets/controls",
      "model_module_version": "1.4.0",
      "model_name": "ButtonStyleModel",
      "state": {}
     },
     "f6e44abc494e4933983edca88531ba23": {
      "model_module": "@jupyter-widgets/controls",
      "model_module_version": "1.4.0",
      "model_name": "FloatTextModel",
      "state": {
       "layout": "IPY_MODEL_c128ce7f4cf94c05bea8bba824309536",
       "step": null,
       "style": "IPY_MODEL_a93f4b507a794a67b6c000b5ffe17164",
       "value": 1
      }
     },
     "f9f1139487d3455c818d2df943b1dee9": {
      "model_module": "@jupyter-widgets/controls",
      "model_module_version": "1.4.0",
      "model_name": "FloatTextModel",
      "state": {
       "description": "Strong Salt",
       "layout": "IPY_MODEL_bc6c32e680674ff3982f985e721c84f2",
       "step": null,
       "style": "IPY_MODEL_40e4e669bc13400a95babb62ab2a1c90",
       "value": 1
      }
     },
     "fa0a4e47e756426881db1ca84d4e013c": {
      "model_module": "@jupyter-widgets/controls",
      "model_module_version": "1.4.0",
      "model_name": "DescriptionStyleModel",
      "state": {
       "description_width": ""
      }
     },
     "fb0c5e3a85234b15ba4b7c227396b76e": {
      "model_module": "@jupyter-widgets/controls",
      "model_module_version": "1.4.0",
      "model_name": "LabelModel",
      "state": {
       "layout": "IPY_MODEL_4a414d9556f348a789cce344ed04bdf1",
       "style": "IPY_MODEL_054ac3d5240e4899b6c9234988543928",
       "value": "Interoception ($\\kappa$)"
      }
     },
     "fb7c79c3b18c43ab95ba48d4867dee40": {
      "model_module": "@jupyter-widgets/controls",
      "model_module_version": "1.4.0",
      "model_name": "DescriptionStyleModel",
      "state": {
       "description_width": ""
      }
     },
     "fbbef13ff67b47acb6e99a5c7b9ac0e7": {
      "model_module": "@jupyter-widgets/controls",
      "model_module_version": "1.4.0",
      "model_name": "FloatTextModel",
      "state": {
       "description": "Moderate Salt",
       "layout": "IPY_MODEL_3d5149aeb3fe4066907d514e95a5f6c6",
       "step": null,
       "style": "IPY_MODEL_0a6970adb6ce47adbd2bfd29f1281b25",
       "value": 1
      }
     },
     "fbceda8382344b678d96db43fba5b3fe": {
      "model_module": "@jupyter-widgets/base",
      "model_module_version": "1.1.0",
      "model_name": "LayoutModel",
      "state": {}
     },
     "fd3f6896a91443bc8fd6394456a086a2": {
      "model_module": "@jupyter-widgets/base",
      "model_module_version": "1.1.0",
      "model_name": "LayoutModel",
      "state": {}
     },
     "fe2171c2f797461f91808bb59b0fdd67": {
      "model_module": "@jupyter-widgets/controls",
      "model_module_version": "1.4.0",
      "model_name": "TextModel",
      "state": {
       "layout": "IPY_MODEL_98e7bde33e8f4d8daadb77a677d3e0e7",
       "style": "IPY_MODEL_e9c8fbe4ab9b4b1a89c25d873743b104"
      }
     },
     "ffb64a816607490597896736e10d02af": {
      "model_module": "@jupyter-widgets/controls",
      "model_module_version": "1.4.0",
      "model_name": "VBoxModel",
      "state": {
       "children": [
        "IPY_MODEL_4270b30f70c845d2959b9bf6e66ddab3",
        "IPY_MODEL_b7e1147d3ad7461b9eb2e00ae4be3b1a"
       ],
       "layout": "IPY_MODEL_5908fc88edc24e9bb0f96dcd5144ded0"
      }
     },
     "fffc1b3c1116494d9ee7ee0a4b3aea73": {
      "model_module": "@jupyter-widgets/base",
      "model_module_version": "1.1.0",
      "model_name": "LayoutModel",
      "state": {}
     }
    },
    "version_major": 2,
    "version_minor": 0
   }
  }
 },
 "nbformat": 4,
 "nbformat_minor": 2
}
