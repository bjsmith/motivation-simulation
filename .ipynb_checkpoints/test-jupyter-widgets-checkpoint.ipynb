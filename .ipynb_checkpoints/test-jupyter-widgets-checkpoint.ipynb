{
 "cells": [
  {
   "cell_type": "code",
   "execution_count": null,
   "metadata": {},
   "outputs": [],
   "source": [
    "%matplotlib inline\n",
    "from pylab import *\n",
    "from pylab import *"
   ]
  },
  {
   "cell_type": "code",
   "execution_count": null,
   "metadata": {},
   "outputs": [],
   "source": [
    "#importing widgets\n",
    "from ipywidgets import widgets\n",
    "from IPython.display import display"
   ]
  },
  {
   "cell_type": "markdown",
   "metadata": {},
   "source": [
    "## Basic plot example"
   ]
  },
  {
   "cell_type": "code",
   "execution_count": null,
   "metadata": {},
   "outputs": [],
   "source": [
    "from matplotlib.pyplot import figure, plot, xlabel, ylabel, title, show"
   ]
  },
  {
   "cell_type": "code",
   "execution_count": null,
   "metadata": {},
   "outputs": [],
   "source": [
    "x=linspace(0,5,10)\n",
    "y=x**2"
   ]
  },
  {
   "cell_type": "code",
   "execution_count": null,
   "metadata": {},
   "outputs": [],
   "source": [
    "figure()\n",
    "plot(x,y,'r')\n",
    "xlabel('x')\n",
    "ylabel('y')\n",
    "title('title')\n",
    "show()"
   ]
  },
  {
   "cell_type": "markdown",
   "metadata": {},
   "source": [
    "$$c = \\sqrt{a^2 + b^2}$$"
   ]
  },
  {
   "cell_type": "markdown",
   "metadata": {},
   "source": [
    "$$\n",
    "\\begin{align}\n",
    "c =& \\sqrt{a^2 + b^2} \\\\\n",
    "=&\\sqrt{4+16} \\\\\n",
    "\\end{align}\n",
    "$$"
   ]
  },
  {
   "cell_type": "markdown",
   "metadata": {},
   "source": [
    "$$\n",
    "\\begin{align}\n",
    "f(x)= & x^2 \\\\\n",
    " = & {{x[1]}}\n",
    "\\end{align}\n",
    "$$\n",
    "\n",
    "This text contains a value like $x[1]$ is {{x[1]}}"
   ]
  },
  {
   "cell_type": "markdown",
   "metadata": {},
   "source": [
    "# Widget example"
   ]
  },
  {
   "cell_type": "code",
   "execution_count": null,
   "metadata": {},
   "outputs": [],
   "source": [
    "from IPython.display import display\n",
    "text = widgets.FloatText()\n",
    "\n",
    "floatText = widgets.FloatText(description='MyField',min=-5,max=5)\n",
    "floatSlider = widgets.FloatSlider(description='MyField',min=-5,max=5)\n",
    "\n",
    "\n",
    "#https://ipywidgets.readthedocs.io/en/stable/examples/Widget%20Basics.html\n",
    "float_link = widgets.jslink((floatText, 'value'), (floatSlider, 'value'))"
   ]
  },
  {
   "cell_type": "markdown",
   "metadata": {
    "collapsed": true
   },
   "source": [
    "Here we will set the fields to one of several values so that we can see pre-configured examples."
   ]
  },
  {
   "cell_type": "code",
   "execution_count": null,
   "metadata": {},
   "outputs": [],
   "source": [
    "floatSlider.value=1\n"
   ]
  },
  {
   "cell_type": "code",
   "execution_count": null,
   "metadata": {},
   "outputs": [],
   "source": [
    "bSatiationPreset=widgets.Button(\n",
    "    description='Salt Satiation',\n",
    "    button_style='', # 'success', 'info', 'warning', 'danger' or ''\n",
    "    tooltip='Click me'\n",
    ")\n",
    "\n",
    "bDeprivationPreset=widgets.Button(\n",
    "    description='Salt Deprivation2',\n",
    "    button_style='', # 'success', 'info', 'warning', 'danger' or ''\n",
    "    tooltip='Click me'\n",
    ")\n",
    "\n",
    "def bDeprivationPreset_on_click(b):\n",
    "    floatSlider.value=0.5\n",
    "    \n",
    "    \n",
    "def bSatiationPreset_on_click(b):\n",
    "    floatSlider.value=0.71717\n",
    "\n",
    "    \n",
    "bDeprivationPreset.on_click(bDeprivationPreset_on_click)\n",
    "bSatiationPreset.on_click(bSatiationPreset_on_click)\n",
    "\n",
    "#floatSlider.observe(bDeprivationPreset_on_click,names='value')\n",
    "\n",
    "\n"
   ]
  },
  {
   "cell_type": "code",
   "execution_count": null,
   "metadata": {},
   "outputs": [],
   "source": [
    "display(floatText,floatSlider)\n",
    "display(bSatiationPreset)\n",
    "display(bDeprivationPreset)\n"
   ]
  },
  {
   "cell_type": "code",
   "execution_count": null,
   "metadata": {},
   "outputs": [],
   "source": [
    "txtArea = widgets.Text()\n",
    "display(txtArea)\n",
    "\n",
    "myb= widgets.Button(description=\"234\")\n",
    "def add_text(b):\n",
    "    txtArea.value = txtArea.value + txtArea.value\n",
    "\n",
    "\n",
    "myb.on_click(add_text)\n",
    "\n",
    "display(myb)"
   ]
  },
  {
   "cell_type": "code",
   "execution_count": null,
   "metadata": {},
   "outputs": [],
   "source": [
    "from IPython.display import display, Markdown, Latex\n",
    "\n",
    "#display(Markdown('*some markdown* $\\phi$'))\n",
    "# If you particularly want to display maths, this is more direct:\n",
    "display(Latex('\\phi=' + str(round(floatText.value,2))))\n",
    "display(Latex('$$\\begin{align}\\phi=&' + str(round(floatText.value,2)) + \" \\\\ =& \\alpha\\end{align}$$\"))\n",
    "display(Markdown('$$'))\n",
    "display(Markdown('\\\\begin{align}'))\n",
    "display(        '\\phi=' + str(round(floatText.value,2)))\n",
    "display(Markdown('\\\\end{align}'))\n",
    "display(Markdown('$$'))\n"
   ]
  },
  {
   "cell_type": "code",
   "execution_count": null,
   "metadata": {},
   "outputs": [],
   "source": []
  }
 ],
 "metadata": {
  "kernelspec": {
   "display_name": "Python 3",
   "language": "python",
   "name": "python3"
  },
  "language_info": {
   "codemirror_mode": {
    "name": "ipython",
    "version": 3
   },
   "file_extension": ".py",
   "mimetype": "text/x-python",
   "name": "python",
   "nbconvert_exporter": "python",
   "pygments_lexer": "ipython3",
   "version": "3.6.6"
  }
 },
 "nbformat": 4,
 "nbformat_minor": 1
}
