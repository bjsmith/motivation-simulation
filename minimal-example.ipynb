{
 "cells": [
  {
   "cell_type": "markdown",
   "metadata": {},
   "source": [
    "# Rat model minimal example\n",
    "\n",
    "\n",
    "## Model objectives\n",
    "\n",
    "This minimal example sets out to solve the following model objectives:\n",
    "\n",
    " - The rat prefers the moderate solution to the strong solution under salt depletion; it may approach the strong solution sometimes, but less often than the moderate solution\n",
    " - The rat prefers the moderate solution to the strong solution under salt satiation (i.e., finds it less aversive)\n",
    " - The rate will take the strong solution under salt depletion if it has no other option\n",
    " - Something representing reward signal will fire for a sugar solution but not a salt solution when there is a need for salt; however, when there is a need for salt, the reward signal will fire regardless\n",
    "\n",
    "## Objectives 1 and 2: multiple stimulus features\n",
    "\n",
    "We can specify the basic model we need to model salt like:\n",
    "\n",
    "\\begin{align}\\label{eq:BasicSaltModelZBVector}\n",
    "\\tilde r(\\mathbf{r},\\mathbf{\\kappa})=& \\mathbf{\\kappa}_{\\text{Na}} \\mathbf{r}_{\\text{Na}}+\\mathbf{\\kappa}_{h} \\mathbf{r}_{h}\n",
    "\\end{align}\n",
    "\n",
    "## Objectives 3: environmental cues\n",
    "To meet Objective 3 above--to show the rat will drink the salty solution if it is salt-depleted and is the only one available--we first need to assume a different weighting of hydration to deprivation. For instance, we can do that by increasing the deprivation/interoceptive state value $\\kappa_{\\text{Na}}$ from 1 to 1.5.\n",
    "\n",
    "Now, in order to make this aspect of the model explicit we need to introduce an extra vector describing environmental cues that elicit responses, $\\mathbf{c}$. Following the S-R-O expectancy valence account given in \\textcite{zhang2009neural}, the extra parameter describes environmental features eliciting a response. \n",
    "\n",
    "Using the new model with our vector representing environmental cues $\\mathbf{c}$, we can predict behavior where there is no cue for a moderate salt solution (Note the use of elementwise multiplication between the matrices using the symbol $\\circ$):\n",
    "\n",
    "$$\n",
    "\\begin{align}\\label{eq:WithCues}\n",
    "\\tilde r(\\mathbf{r},\\mathbf{\\kappa})= & \\mathbf{\\kappa}_{\\textrm{Na}} \\mathbf{r}_\\textrm{Na}\\mathbf{c}+\\mathbf{\\kappa}_{h} \\mathbf{r}_{h}\\mathbf{c} % \\\\\n",
    "% = & 1.5 \\times \\begin{bmatrix}0.5 \\\\ 1.0\\end{bmatrix}\\circ \\begin{bmatrix}0.0 \\\\ 1.0\\end{bmatrix} + 1 \\times \\begin{bmatrix}0.0 \\\\ -1.0\\end{bmatrix}\\circ \\begin{bmatrix}0.0 \\\\ 1.0\\end{bmatrix} \\nonumber \\\\\n",
    "% = & \\begin{bmatrix}0.0 \\\\ 0.5\\end{bmatrix} \\nonumber\n",
    "\\end{align}\n",
    "$$\n",
    "\n",
    "Here, I've modeled $\\mathbf{c}$ as a single vector without a subscript to indicate that we do not expect the cue value to systematically differ for each interoceptive value. This differs from the other documents produced--there, I'd included a subscript, more because I didn't think it through than any other reason.\n",
    "\n",
    "## Objective 4: Sugar\n",
    "\n",
    "The model in Equation~\\ref{eq:BasicSaltModelZBVector} can be extended slightly to account for the evidence discussed in the sugar example in Tindell et al. (2009):\n",
    "\n",
    "\\begin{equation}\\label{eq:SaltSugarModelTindell}\n",
    "\\tilde r(\\mathbf{r},\\mathbf{\\kappa})=\\kappa_{\\text{Na}} r_{\\text{Na}}+\\kappa_{h} r_{h} + \\kappa_{\\text{Glc}} r_{\\text{Glc}}\n",
    "\\end{equation}"
   ]
  },
  {
   "cell_type": "markdown",
   "metadata": {},
   "source": [
    "## Combined Model\n",
    "\n",
    "Combining the models presented above, we obtain the model \n",
    "\n",
    "\\begin{align}\n",
    "\\begin{split}\\label{eq:SaltSugarModelWithCue}\n",
    "\\tilde r(\\mathbf{r},\\mathbf{\\kappa})= & \\kappa_{\\text{Na}} r_{\\text{Na}}\\mathbf{c}+\\kappa_{h} r_{h}\\mathbf{c} + \\kappa_{\\text{Glc}} r_{\\text{Glc}}\\mathbf{c}\n",
    "\\end{split}\n",
    "\\end{align}\n",
    "\n",
    "We can generalize this further by describing an arbitrary number of cue-stimulus-interoception multiplicative terms:\n",
    "\n",
    "\\begin{align}\n",
    "\\tilde r(\\mathbf{r},\\mathbf{\\kappa},\\mathbf{c})= & \\kappa_{1} \\mathbf{r}_{1}\\mathbf{c}+\\dots+\\kappa_{\\text{N}} \\mathbf{r}_{\\text{N}}\\mathbf{c}\n",
    "\\end{align}\n",
    "\n",
    "We can then write a python function to model this equation, and then demonstrate how it handles each situation described above.\n",
    "\n",
    "The function ```multiplicative_term``` forms a python dictionary representing a term with kappa value, r array, and cue array. The function ```SaltSugarModelWithCue``` is simply a python implementation of the $r(\\mathbf{r},\\mathbf{\\kappa},\\mathbf{c})$ function nabove. It calls ```SaltSugarModelWithCue_SingleTerm```, which is written separately so that it can be used directly to show the working in the equation below."
   ]
  },
  {
   "cell_type": "code",
   "execution_count": 1,
   "metadata": {},
   "outputs": [],
   "source": [
    "from minimal_example_interface import *\n",
    "import numpy as np\n",
    "\n",
    "def multiplicative_term(kappa_val,r_array,cue_array):\n",
    "    assert(type(kappa_val)==float or type(kappa_val)==int)\n",
    "    assert(type(r_array)==np.ndarray)\n",
    "    assert(type(cue_array)==np.ndarray)\n",
    "    \n",
    "    return({\"kappa\": kappa_val, \"r\": r_array,\"cue\": cue_array})\n",
    "\n",
    "def SaltSugarModelWithCue_SingleTerm(term):\n",
    "    return term['kappa']*term['r']*term['cue']\n",
    "\n",
    "def SaltSugarModelWithCue(term_list):\n",
    "    return sum([SaltSugarModelWithCue_SingleTerm(term) for term in term_list])\n",
    "\n",
    "\n"
   ]
  },
  {
   "cell_type": "markdown",
   "metadata": {},
   "source": [
    "We can then create variables to represent each term and then calculate their value:"
   ]
  },
  {
   "cell_type": "code",
   "execution_count": 2,
   "metadata": {},
   "outputs": [],
   "source": [
    "term_Na=multiplicative_term(1,np.array([0.5,1.0,0.0]),np.array([1.0,1.0,1.0]))\n",
    "term_h=multiplicative_term(1,np.array([0.0,-1.0,0.0]),np.array([1.0,0.5,1.0]))\n",
    "term_Glc=multiplicative_term(1,np.array([0.0,0.0,1.0]),np.array([1.0,1.0,.7171]))\n",
    "\n"
   ]
  },
  {
   "cell_type": "markdown",
   "metadata": {},
   "source": [
    "We can write this out mathematically:"
   ]
  },
  {
   "cell_type": "code",
   "execution_count": 16,
   "metadata": {},
   "outputs": [
    {
     "data": {
      "text/markdown": [
       "\n",
       "$$\n",
       "\\begin{align}\n",
       "\\begin{split}\n",
       "\\tilde r(\\mathbf{r},\\mathbf{\\kappa},\\mathbf{c})= & \n",
       "\\kappa_{\\text{Na}} \\mathbf{r}_{\\text{Na}}\\mathbf{c} \n",
       "& + \\kappa_{h} \\mathbf{r}_{h}\\mathbf{c}\n",
       "& + \\kappa_{\\text{Glc}} \\mathbf{r}_{\\text{Glc}}\\mathbf{c} \\\\\n",
       " = & 1 \\times \\begin{bmatrix}0.5 \\\\ 1.0 \\\\ 0.0\\end{bmatrix}\\circ \\begin{bmatrix}1.0 \\\\ 1.0 \\\\ 1.0\\end{bmatrix} & + 1 \\times \\begin{bmatrix}0.0 \\\\ -1.0 \\\\ 0.0\\end{bmatrix}\\circ \\begin{bmatrix}1.0 \\\\ 0.5 \\\\ 1.0\\end{bmatrix} & + 1 \\times \\begin{bmatrix}0.0 \\\\ 0.0 \\\\ 1.0\\end{bmatrix}\\circ \\begin{bmatrix}1.0 \\\\ 1.0 \\\\ 0.72\\end{bmatrix} \\\\\n",
       " = & \\begin{bmatrix}0.5 \\\\ 1.0 \\\\ 0.0\\end{bmatrix} & + \\begin{bmatrix}0.0 \\\\ -0.5 \\\\ 0.0\\end{bmatrix} & + \\begin{bmatrix}0.0 \\\\ 0.0 \\\\ 0.72\\end{bmatrix} \\\\\n",
       " = & \\begin{bmatrix}0.5 \\\\ 0.5 \\\\ 0.72\\end{bmatrix}\n",
       "\\end{split}\n",
       "\\end{align}\n",
       "$$\n"
      ],
      "text/plain": [
       "<IPython.core.display.Markdown object>"
      ]
     },
     "execution_count": 16,
     "metadata": {},
     "output_type": "execute_result"
    }
   ],
   "source": [
    "from IPython.display import Markdown\n",
    "\n",
    "# main_equation_text = \"\"\"\n",
    "#     $$\n",
    "#     \\\\begin{{align}}\n",
    "#     \\\\begin{{split}}\n",
    "#     \\\\tilde r(\\mathbf{{r}},\\mathbf{{\\kappa}},\\mathbf{{c}})= & \n",
    "#     \\kappa_{{\\\\text{{Na}}}} \\mathbf{{r}}_{{\\\\text{{Na}}}}\\mathbf{{c}} \n",
    "#     & + \\kappa_{{h}} \\mathbf{{r}}_{{h}}\\mathbf{{c}}\n",
    "#     & + \\kappa_{{\\\\text{{Glc}}}} \\mathbf{{r}}_{{\\\\text{{Glc}}}}\\mathbf{{c}} \\\\\\\\\n",
    "#      = & {Na_term} & + {h_term} & + {Glc_term} \\\\\\\\\n",
    "#      = & {Na_val} & + {h_val} & + {Glc_val} \\\\\\\\\n",
    "#      = & {function_val}\n",
    "#     \\end{{split}}\n",
    "#     \\end{{align}}\n",
    "#     $$\n",
    "#     \"\"\".format(Na_term=krc_term_to_latex(term_Na), \n",
    "#                h_term=krc_term_to_latex(term_h),\n",
    "#                Glc_term=krc_term_to_latex(term_Glc),\n",
    "#               Na_val=ndarray_latex_format(SaltSugarModelWithCue_SingleTerm(term_Na)),\n",
    "#               h_val=ndarray_latex_format(SaltSugarModelWithCue_SingleTerm(term_h)),\n",
    "#               Glc_val=ndarray_latex_format(SaltSugarModelWithCue_SingleTerm(term_Glc)),\n",
    "#               function_val=ndarray_latex_format(SaltSugarModelWithCue([term_Na,term_h,term_Glc])))\n",
    "# def get_main_equation_text():\n",
    "#     return main_equation_text\n",
    "equation_markdown_text=\"\"\"\n",
    "$$\n",
    "\\\\begin{{align}}\n",
    "\\\\begin{{split}}\n",
    "\\\\tilde r(\\mathbf{{r}},\\mathbf{{\\kappa}},\\mathbf{{c}})= & \n",
    "\\kappa_{{\\\\text{{Na}}}} \\mathbf{{r}}_{{\\\\text{{Na}}}}\\mathbf{{c}} \n",
    "& + \\kappa_{{h}} \\mathbf{{r}}_{{h}}\\mathbf{{c}}\n",
    "& + \\kappa_{{\\\\text{{Glc}}}} \\mathbf{{r}}_{{\\\\text{{Glc}}}}\\mathbf{{c}} \\\\\\\\\n",
    " = & {Na_term} & + {h_term} & + {Glc_term} \\\\\\\\\n",
    " = & {Na_val} & + {h_val} & + {Glc_val} \\\\\\\\\n",
    " = & {function_val}\n",
    "\\end{{split}}\n",
    "\\end{{align}}\n",
    "$$\n",
    "\"\"\".format(Na_term=krc_term_to_latex(term_Na), \n",
    "               h_term=krc_term_to_latex(term_h),\n",
    "               Glc_term=krc_term_to_latex(term_Glc),\n",
    "              Na_val=ndarray_latex_format(SaltSugarModelWithCue_SingleTerm(term_Na)),\n",
    "              h_val=ndarray_latex_format(SaltSugarModelWithCue_SingleTerm(term_h)),\n",
    "              Glc_val=ndarray_latex_format(SaltSugarModelWithCue_SingleTerm(term_Glc)),\n",
    "              function_val=ndarray_latex_format(SaltSugarModelWithCue([term_Na,term_h,term_Glc])))\n",
    "\n",
    "Markdown(equation_markdown_text)"
   ]
  },
  {
   "cell_type": "markdown",
   "metadata": {},
   "source": [
    "You can play with the values yourself here or use the presets to see how values change.\n"
   ]
  },
  {
   "cell_type": "code",
   "execution_count": 4,
   "metadata": {},
   "outputs": [
    {
     "data": {
      "application/vnd.jupyter.widget-view+json": {
       "model_id": "2fe5c5a16cb641f8ba4880f1b75cceec",
       "version_major": 2,
       "version_minor": 0
      },
      "text/plain": [
       "HBox(children=(Button(description='Salt Deprived', style=ButtonStyle()), Button(description='Salt Satiated', s…"
      ]
     },
     "metadata": {},
     "output_type": "display_data"
    }
   ],
   "source": [
    "display(widgets.HBox([bDeprivationPreset,bSatiationPreset,tbSugarPresence]))\n"
   ]
  },
  {
   "cell_type": "markdown",
   "metadata": {},
   "source": [
    "### Interoception ($\\kappa$)"
   ]
  },
  {
   "cell_type": "code",
   "execution_count": 5,
   "metadata": {},
   "outputs": [
    {
     "data": {
      "application/vnd.jupyter.widget-view+json": {
       "model_id": "49eaff0bf12e4814aa2d1a2a456c6238",
       "version_major": 2,
       "version_minor": 0
      },
      "text/plain": [
       "HBox(children=(FloatText(value=1.0, description='Na'), FloatText(value=1.0, description='hydration'), FloatTex…"
      ]
     },
     "metadata": {},
     "output_type": "display_data"
    }
   ],
   "source": [
    "widgets.HBox(ftKappaVals)\n"
   ]
  },
  {
   "cell_type": "markdown",
   "metadata": {},
   "source": [
    "### Expected reward ($\\tilde r$)"
   ]
  },
  {
   "cell_type": "code",
   "execution_count": 6,
   "metadata": {},
   "outputs": [
    {
     "data": {
      "application/vnd.jupyter.widget-view+json": {
       "model_id": "b9f77a370ae149539bcbeb2568525e84",
       "version_major": 2,
       "version_minor": 0
      },
      "text/plain": [
       "HBox(children=(VBox(children=(Label(value='Solution'), Label(value='Moderate Salt'), Label(value='Strong Salt'…"
      ]
     },
     "metadata": {},
     "output_type": "display_data"
    }
   ],
   "source": [
    "widgets.HBox(ftRewardVals)\n"
   ]
  },
  {
   "cell_type": "markdown",
   "metadata": {},
   "source": [
    "### Cue Accessibility ($\\mathbf{c}$)"
   ]
  },
  {
   "cell_type": "code",
   "execution_count": 7,
   "metadata": {},
   "outputs": [
    {
     "data": {
      "application/vnd.jupyter.widget-view+json": {
       "model_id": "83fe563793f94981a7fc7b793ec57e3e",
       "version_major": 2,
       "version_minor": 0
      },
      "text/plain": [
       "VBox(children=(FloatText(value=0.0, description='Moderate Salt'), FloatText(value=0.0, description='Strong Sal…"
      ]
     },
     "metadata": {},
     "output_type": "display_data"
    }
   ],
   "source": [
    "widgets.VBox(ftCueVals)"
   ]
  },
  {
   "cell_type": "code",
   "execution_count": 8,
   "metadata": {},
   "outputs": [],
   "source": [
    "bResetAll_on_click(0)"
   ]
  },
  {
   "cell_type": "code",
   "execution_count": null,
   "metadata": {},
   "outputs": [],
   "source": []
  },
  {
   "cell_type": "code",
   "execution_count": 9,
   "metadata": {},
   "outputs": [
    {
     "ename": "NameError",
     "evalue": "name 'myb' is not defined",
     "output_type": "error",
     "traceback": [
      "\u001b[0;31m---------------------------------------------------------------------------\u001b[0m",
      "\u001b[0;31mNameError\u001b[0m                                 Traceback (most recent call last)",
      "\u001b[0;32m<ipython-input-9-66118b8c0ea6>\u001b[0m in \u001b[0;36m<module>\u001b[0;34m()\u001b[0m\n\u001b[1;32m     22\u001b[0m \u001b[0;34m\u001b[0m\u001b[0m\n\u001b[1;32m     23\u001b[0m display(widgets.VBox([\n\u001b[0;32m---> 24\u001b[0;31m     \u001b[0mwidgets\u001b[0m\u001b[0;34m.\u001b[0m\u001b[0mHBox\u001b[0m\u001b[0;34m(\u001b[0m\u001b[0;34m[\u001b[0m\u001b[0mbDeprivationPreset\u001b[0m\u001b[0;34m,\u001b[0m\u001b[0mbSatiationPreset\u001b[0m\u001b[0;34m,\u001b[0m\u001b[0mtbSugarPresence\u001b[0m\u001b[0;34m,\u001b[0m\u001b[0mmyb\u001b[0m\u001b[0;34m]\u001b[0m\u001b[0;34m)\u001b[0m\u001b[0;34m,\u001b[0m\u001b[0;34m\u001b[0m\u001b[0m\n\u001b[0m\u001b[1;32m     25\u001b[0m     \u001b[0mwidgets\u001b[0m\u001b[0;34m.\u001b[0m\u001b[0mHBox\u001b[0m\u001b[0;34m(\u001b[0m\u001b[0mftKappaVals\u001b[0m\u001b[0;34m)\u001b[0m\u001b[0;34m,\u001b[0m\u001b[0;34m\u001b[0m\u001b[0m\n\u001b[1;32m     26\u001b[0m     \u001b[0mwidgets\u001b[0m\u001b[0;34m.\u001b[0m\u001b[0mHBox\u001b[0m\u001b[0;34m(\u001b[0m\u001b[0;34m[\u001b[0m\u001b[0mwidgets\u001b[0m\u001b[0;34m.\u001b[0m\u001b[0mHBox\u001b[0m\u001b[0;34m(\u001b[0m\u001b[0mftRewardVals\u001b[0m\u001b[0;34m)\u001b[0m\u001b[0;34m,\u001b[0m\u001b[0mwidgets\u001b[0m\u001b[0;34m.\u001b[0m\u001b[0mVBox\u001b[0m\u001b[0;34m(\u001b[0m\u001b[0mftCueVals\u001b[0m\u001b[0;34m)\u001b[0m\u001b[0;34m]\u001b[0m\u001b[0;34m)\u001b[0m\u001b[0;34m,\u001b[0m\u001b[0;34m\u001b[0m\u001b[0m\n",
      "\u001b[0;31mNameError\u001b[0m: name 'myb' is not defined"
     ]
    }
   ],
   "source": [
    "#display(widgets.VBox([\n",
    "    #widgets.HBox([bDeprivationPreset,bSatiationPreset,tbSugarPresence]),\n",
    "    #widgets.HBox(ftKappaVals),\n",
    "#    widgets.HBox([widgets.HBox(ftRewardVals),widgets.VBox(ftCueVals)]),\n",
    "#    display(main_equation)]))\n",
    "\n",
    "def f7(myb):\n",
    "    display(main_equation)\n",
    "\n",
    "#get all the controls in the widget\n",
    "#full_control_list=ftKappaVals+[sln for driveset in ftRewardVals[1:] for sln in driveset.children[1:]]+ftCueVals\n",
    "\n",
    "#need to convert it into a bloody dictionary.\n",
    "#equation_out = widgets.interactive_output(f7, full_control_list.to)\n",
    "\n",
    "math_widget=widgets.HTMLMath(value=get_main_equation_text())\n",
    "def myb_on_click():\n",
    "    print(\"clicking\")\n",
    "    update_equation()\n",
    "    math_widget=widgets.HTMLMath(value=get_main_equation_text())\n",
    "#myb.on_click(myb_on_click)\n",
    "\n",
    "display(widgets.VBox([\n",
    "    widgets.HBox([bDeprivationPreset,bSatiationPreset,tbSugarPresence,myb]),\n",
    "    widgets.HBox(ftKappaVals),\n",
    "    widgets.HBox([widgets.HBox(ftRewardVals),widgets.VBox(ftCueVals)]),\n",
    "    math_widget]))"
   ]
  },
  {
   "cell_type": "code",
   "execution_count": null,
   "metadata": {},
   "outputs": [],
   "source": []
  },
  {
   "cell_type": "code",
   "execution_count": null,
   "metadata": {},
   "outputs": [],
   "source": []
  },
  {
   "cell_type": "code",
   "execution_count": null,
   "metadata": {},
   "outputs": [],
   "source": [
    "full_control_list"
   ]
  },
  {
   "cell_type": "code",
   "execution_count": null,
   "metadata": {},
   "outputs": [],
   "source": []
  }
 ],
 "metadata": {
  "kernelspec": {
   "display_name": "Python 3",
   "language": "python",
   "name": "python3"
  },
  "language_info": {
   "codemirror_mode": {
    "name": "ipython",
    "version": 3
   },
   "file_extension": ".py",
   "mimetype": "text/x-python",
   "name": "python",
   "nbconvert_exporter": "python",
   "pygments_lexer": "ipython3",
   "version": "3.6.6"
  }
 },
 "nbformat": 4,
 "nbformat_minor": 2
}
